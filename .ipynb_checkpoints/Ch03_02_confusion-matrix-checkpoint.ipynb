{
 "cells": [
  {
   "cell_type": "markdown",
   "metadata": {},
   "source": [
    "# 02. 오차 행렬"
   ]
  },
  {
   "cell_type": "markdown",
   "metadata": {},
   "source": [
    "<br>"
   ]
  },
  {
   "cell_type": "markdown",
   "metadata": {},
   "source": [
    "# 1. 오차 행렬(confusion matrix)\n",
    "\n",
    "- 이진 분류에서 성능 지표로 잘 활용됨\n",
    "- 학습된 분류 모델이 예측을 수행하면서 얼마나 헷갈리고(confused) 있는 지도 함께 보여주는 지표  \n",
    "$\\rightarrow$ 이진 분류의 예측 오류가 얼마인지 + 어떠한 유형의 예측 오류가 발생하고 있는 지를 함께 나타내는 지표"
   ]
  },
  {
   "cell_type": "markdown",
   "metadata": {},
   "source": [
    "<br>"
   ]
  },
  {
   "cell_type": "markdown",
   "metadata": {},
   "source": [
    "## 1.1 오차 행렬의 4분면\n",
    "\n",
    "- 오차 행렬은 4분면 행렬에서 실제 레이블 클래스 값과 예측 레이블 클래스 값이 어떠한 유형을 가지고 매핑되는 지를 나타냄"
   ]
  },
  {
   "cell_type": "markdown",
   "metadata": {},
   "source": [
    "<div style='text-align: left; margin-left: 20px;'>\n",
    "    <img src='./images/Ch03/02/img001.jpg' width='500px'/>\n",
    "</div>"
   ]
  },
  {
   "cell_type": "markdown",
   "metadata": {},
   "source": [
    "- TN, FP, FN, TP는 예측 클래스와 실제 클래스의 Positive 결정 값(값 1)과 Negative 결정 값(값 0)의 결합에 따라 결정"
   ]
  },
  {
   "cell_type": "markdown",
   "metadata": {},
   "source": [
    "<br>"
   ]
  },
  {
   "cell_type": "markdown",
   "metadata": {},
   "source": [
    "**TN(True Negative)**\n",
    "\n",
    "- 예측 값을 Negative 값 0으로 예측\n",
    "- 실제 값 역시 Negative 값 0"
   ]
  },
  {
   "cell_type": "markdown",
   "metadata": {},
   "source": [
    "**FP(False Positive)**\n",
    "\n",
    "- 예측 값을 Positive 값 1로 예측\n",
    "- 실제 값은 Negative 값 0"
   ]
  },
  {
   "cell_type": "markdown",
   "metadata": {},
   "source": [
    "**FN(False Negative)**\n",
    "\n",
    "- 예측 값을 Negative 값 0으로 예측\n",
    "- 실제 값은 Positive 값 1"
   ]
  },
  {
   "cell_type": "markdown",
   "metadata": {},
   "source": [
    "**TP(True Positive)**\n",
    "\n",
    "- 예측 값을 Positive 값 1로 예측\n",
    "- 실제 값 역시 Positive 값 1"
   ]
  },
  {
   "cell_type": "markdown",
   "metadata": {},
   "source": [
    "<br>"
   ]
  },
  {
   "cell_type": "markdown",
   "metadata": {},
   "source": [
    "## 1.2 `confusion_matrix()`\n",
    "\n",
    "- 사이킷런은 오차 행렬을 구하기 위해 `confusion_matrix()` API를 제공  \n",
    "  \n",
    "  \n",
    "- `MyClassifier`의 예측 성능 지표를 오차 행렬로 표현"
   ]
  },
  {
   "cell_type": "code",
   "execution_count": 4,
   "metadata": {},
   "outputs": [],
   "source": [
    "from sklearn.datasets import load_digits\n",
    "from sklearn.model_selection import train_test_split\n",
    "from sklearn.base import BaseEstimator\n",
    "import numpy as np\n",
    "import pandas as pd\n",
    "\n",
    "class MyFakeClassifier(BaseEstimator) :\n",
    "    \n",
    "    def fit(self, X, y) :\n",
    "        pass\n",
    "    \n",
    "    # 입력값으로 들어오는 X 데이터 세트의 크기만큼 모두 0값으로 만들어서 반환\n",
    "    def predict(self, X) :\n",
    "        return np.zeros((len(X), 1), dtype=bool)\n",
    "    \n",
    "# 사이킷런 내장 데이터 세트인 load_digits()를 이용해 MNIST 데이터 로딩\n",
    "digits = load_digits()\n",
    "\n",
    "# digits 번호가 7번이면 True이고 이를 astype(int)로 1로 변환, 7번이 아니면 False이고 0으로 변환\n",
    "y = (digits.target == 7).astype(int)\n",
    "X_train, X_test, y_train, y_test = train_test_split(digits.data, y, random_state=11)\n",
    "\n",
    "fakeclf = MyFakeClassifier()\n",
    "fakeclf.fit(X_train, y_train)\n",
    "\n",
    "fakepred = fakeclf.predict(X_test)"
   ]
  },
  {
   "cell_type": "code",
   "execution_count": 5,
   "metadata": {},
   "outputs": [
    {
     "data": {
      "text/plain": [
       "array([[405,   0],\n",
       "       [ 45,   0]], dtype=int64)"
      ]
     },
     "execution_count": 5,
     "metadata": {},
     "output_type": "execute_result"
    }
   ],
   "source": [
    "from sklearn.metrics import confusion_matrix\n",
    "\n",
    "confusion_matrix(y_test, fakepred)"
   ]
  },
  {
   "cell_type": "markdown",
   "metadata": {},
   "source": [
    "$\\rightarrow$ 출력된 오차 행렬은 `ndarray` 형태  \n",
    "  \n",
    "  \n",
    "- `array[0,0]` : TN\n",
    "- `array[0,1]` : FP\n",
    "- `array[1,0]` : FN\n",
    "- `array[1,1]` : TP"
   ]
  },
  {
   "cell_type": "markdown",
   "metadata": {},
   "source": [
    "<br>"
   ]
  },
  {
   "cell_type": "markdown",
   "metadata": {},
   "source": [
    "## 1.3 변형된 MNIST 데이터 세트에 대한 오차 행렬의 의미\n",
    "\n",
    "- 무조건 Negative로 예측하는 Classifier 사용\n",
    "- 테스트 데이터 세트의 클래스 값 분포\n",
    "  - 0 : 405건\n",
    "  - 1 : 45건\n",
    "  \n",
    "  \n",
    "$\\rightarrow$ TN : 전체 450건 중 무조건 Negative 0으로 예측해서 True가 된 결과 (405건)  \n",
    "$\\rightarrow$ FP : Positive 1로 예측한 건수 (0건)  \n",
    "$\\rightarrow$ FN : 실제 Positive 1인 건수 (45건)  \n",
    "$\\rightarrow$ TP : Positive 1로 예측한 건수 (0건)"
   ]
  },
  {
   "cell_type": "markdown",
   "metadata": {},
   "source": [
    "<div style='text-align: left; margin-left: 20px;'>\n",
    "    <img src='./images/Ch03/02/img002.jpg' width='600px'/>\n",
    "</div>"
   ]
  },
  {
   "cell_type": "markdown",
   "metadata": {},
   "source": [
    "<br>"
   ]
  },
  {
   "cell_type": "markdown",
   "metadata": {},
   "source": [
    "## 1.4 Classifier 성능 측정 지표 생성\n",
    "\n",
    "- TP, TN, FP, TN 값은 Classifier 성능의 여러 면모를 판단할 수 있는 기반 정보를 제공\n",
    "- 이 값을 조합해 Classifier의 성능을 측정할 수 있는 주요 지표은 **정확도(Accuracy)**, **정밀도(Precision)**, **재현율(Recall)** 값을 알 수 있다."
   ]
  },
  {
   "cell_type": "markdown",
   "metadata": {},
   "source": [
    "<br>"
   ]
  },
  {
   "cell_type": "markdown",
   "metadata": {},
   "source": [
    "### 1.4.1 정확도(Accuracy)\n",
    "\n",
    "- 정확도 : 예측값과 실제 값이 얼마나 동일한 가에 대한 비율\n",
    "- 즉, 오차 행렬에서 True에 해당하는(예측과 실제가 일치하는) TN과 TP에 좌우됨"
   ]
  },
  {
   "cell_type": "markdown",
   "metadata": {},
   "source": [
    "$\n",
    "\\quad\n",
    "정확도 = {예측\\,결과와\\,실제\\,값이\\,동일한\\,건수 \\over 전체\\,데이터\\,건수} = {\\left(TN + TP\\right) \\over \\left(TN + FP + FN + TP\\right)}\n",
    "$"
   ]
  },
  {
   "cell_type": "markdown",
   "metadata": {},
   "source": [
    "<br>"
   ]
  },
  {
   "cell_type": "markdown",
   "metadata": {},
   "source": [
    "**불균형한 레이블 클래스를 가지는 이진 분류 모델**\n",
    "\n",
    "- 많은 데이터 중에서 중점적으로 찾아야 하는 매우 적은 수의 결괏값에 Positive를 설정에 1 값을 부여\n",
    "- 그렇지 않은 경우 Negative로 0 값을 부여하는 경우가 많다.\n",
    "  - ex) 사기 행위 예측 모델 : 사기 행위 - Positive 양성 (1), 정상 행위 - Negative 음성 (0)\n",
    "  - ex) 암 검진 예측 모델 : 암이 양성 - Positive 양성 (1), 암이 음성 - Negative 음성 (0)  \n",
    "  \n",
    "  \n",
    "- 불균형한 이진 분류 데이터 세트에서는 Positive 데이터 건수가 매우 작음  \n",
    "$\\rightarrow$ 데이터에 기반한 ML 알고리즘은 Positive보다는 Negative로 예측 정확도가 높아지는 경향이 발생  \n",
    "$\\Rightarrow$ TN은 매우 커지고 TP는 매우 작아짐  \n",
    "  \n",
    "  \n",
    "- Negative로 예측할 때 정확도가 높음  \n",
    "$\\Rightarrow$ FN(Negative로 예측할 때 틀린 데이터 수)이 매우 작고, FP(Positive로 예측할 때 틀린 데이터 수) 역시 매우 작아짐  "
   ]
  },
  {
   "cell_type": "markdown",
   "metadata": {},
   "source": [
    "<br>"
   ]
  },
  {
   "cell_type": "markdown",
   "metadata": {},
   "source": [
    "## 1.4.2 정밀도(Precision), 재현율(Recall)\n",
    "\n",
    "- 불균형한 데이터 세트에서 정확도보다 더 선호되는 평가 지표"
   ]
  },
  {
   "cell_type": "code",
   "execution_count": null,
   "metadata": {},
   "outputs": [],
   "source": []
  }
 ],
 "metadata": {
  "kernelspec": {
   "display_name": "Python 3",
   "language": "python",
   "name": "python3"
  },
  "language_info": {
   "codemirror_mode": {
    "name": "ipython",
    "version": 3
   },
   "file_extension": ".py",
   "mimetype": "text/x-python",
   "name": "python",
   "nbconvert_exporter": "python",
   "pygments_lexer": "ipython3",
   "version": "3.6.8"
  }
 },
 "nbformat": 4,
 "nbformat_minor": 2
}
