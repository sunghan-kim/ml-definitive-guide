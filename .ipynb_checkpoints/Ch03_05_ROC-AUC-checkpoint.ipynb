{
 "cells": [
  {
   "cell_type": "markdown",
   "metadata": {},
   "source": [
    "# 05. ROC 곡선과 AUC"
   ]
  },
  {
   "cell_type": "markdown",
   "metadata": {},
   "source": [
    "<br>"
   ]
  },
  {
   "cell_type": "markdown",
   "metadata": {},
   "source": [
    "# 1. ROC 곡선 (Receiver Operation Characteristic Curve)\n",
    "\n",
    "- 이진 분류의 예측 성능 측정에 중요하게 사용되는 지표  \n",
    "  \n",
    "  \n",
    "- 우리말 : 수신자 판단 곡선  \n",
    "(2차 대전 시 통신 장비 성능 평가를 위해 고안된 수치)  \n",
    "- 의학 분야에 많이 사용\n",
    "- 머신러닝의 이진 분류 모델의 예측 성능을 판단하는 중요한 평가 지표  \n",
    "  \n",
    "  \n",
    "- ROC 곡선은 FPR이 변할 때 TPR이 어떻게 변하는 지를 나타내는 곡선\n",
    "- FPR을 X축으로, TPR을 Y축으로 놓아 FPR 변화에 따른 TPR의 변화가 곡선 형태로 나타남"
   ]
  },
  {
   "cell_type": "markdown",
   "metadata": {},
   "source": [
    "<br>"
   ]
  },
  {
   "cell_type": "markdown",
   "metadata": {},
   "source": [
    "## 1.1 TPR (True Positive Rate); 민감도(재현율)\n",
    "\n",
    "- TPR은 **재현율**을 나타냄\n",
    "- TPR은 **민감도(Sensitivity)**라고도 불림  \n",
    "\n",
    "$\n",
    "\\quad\n",
    "TPR = TP \\, / \\, (TP + FN)  \n",
    "$\n",
    "  \n",
    "- 민감도(TPR)은 실제값 Positive(양성)가 정확히 예측돼야 하는 수준을 나타냄\n",
    "- ex) 질병이 있는 사람은 질병이 있는 것으로 양성 판정"
   ]
  },
  {
   "cell_type": "markdown",
   "metadata": {},
   "source": [
    "<br>"
   ]
  },
  {
   "cell_type": "markdown",
   "metadata": {},
   "source": [
    "## 1.2 TNR (True Negative Rate); 특이성\n",
    "\n",
    "- 민감도(TPR)에 대응하는 지표\n",
    "- TNR은 **특이성(Specificity)**이라고도 불림  \n",
    "\n",
    "$\n",
    "\\quad\n",
    "TNR = TN \\, / \\, (TN + FP)\n",
    "$ \n",
    "  \n",
    "- 특이도(TNR)는 실제값 Negative(음성)가 정확히 예측돼야 하는 수준을 나타냄\n",
    "- ex) 질병이 없는 건강한 사람은 질병이 없는 것으로 음성 판정"
   ]
  },
  {
   "cell_type": "markdown",
   "metadata": {},
   "source": [
    "<br>"
   ]
  },
  {
   "cell_type": "markdown",
   "metadata": {},
   "source": [
    "## 1.3 FPR (False Positive Rate)\n",
    "\n",
    "- FPR은 ROC 곡선의 X축 기준\n",
    "- FPR = FP / (FP + TN)\n",
    "- FPR = 1 - TNR \n",
    "- FPR = 1 - 특이성"
   ]
  },
  {
   "cell_type": "markdown",
   "metadata": {},
   "source": [
    "<br>"
   ]
  },
  {
   "cell_type": "markdown",
   "metadata": {},
   "source": [
    "## 1.4 ROC 곡선의 예"
   ]
  },
  {
   "cell_type": "markdown",
   "metadata": {},
   "source": [
    "<div style='text-align: left; margin-left: 20px;'>\n",
    "    <img src='./images/Ch03/05/img001.jpg' width='400px'/>\n",
    "</div>"
   ]
  },
  {
   "cell_type": "markdown",
   "metadata": {},
   "source": [
    "### 1.4.1 ROC 곡선의 가운데 직선\n",
    "\n",
    "- ROC 곡선의 최저 값\n",
    "- 왼쪽 하단과 오른쪽 상단을 대각선으로 이은 직선\n",
    "- 동전을 무작위로 던져 앞/뒤를 맞추는 랜덤 수준의 이진 분류의 ROC 직선 (AUC = 0.5)  \n",
    "  \n",
    "  \n",
    "- ROC 곡선이 가운데 직선에 가까울수록 성능이 떨어지는 것\n",
    "- 멀어질수록 성능이 뛰어난 것이다."
   ]
  },
  {
   "cell_type": "markdown",
   "metadata": {},
   "source": [
    "<br>"
   ]
  },
  {
   "cell_type": "markdown",
   "metadata": {},
   "source": [
    "## 1.5 ROC 곡선 그리는 방법\n",
    "\n",
    "- ROC 곡선은 FPR을 0부터 1까지 변경하면서 TPR의 변화 값을 구함\n",
    "- 어떻게 FPR을 0부터 1까지 변경할 수 있을까?  \n",
    "$\\Rightarrow$ **분류 경계 임곗값을 변경**"
   ]
  },
  {
   "cell_type": "markdown",
   "metadata": {},
   "source": [
    "<br>"
   ]
  },
  {
   "cell_type": "markdown",
   "metadata": {},
   "source": [
    "### 1.5.1 FPR을 0으로 만들기\n",
    "\n",
    "- 분류 결정 임곗값을 1로 지정\n",
    "- 임곗값을 1로 지정하면 Positive 예측 기준이 매우 높아진다.  \n",
    "$\\rightarrow$ 분류기(Classifier)가 임곗값보다 높은 확률을 가진 데이터를 Positive로 예측할 수 없음  \n",
    "  \n",
    "  \n",
    "- FPR = FP / (FP + TN)\n",
    "- 위 식에서 아예 Positive로 예측하지 않기 때문에 FP 값이 0이 된다.\n",
    "- 따라서 FPR값도 0이 된다."
   ]
  },
  {
   "cell_type": "markdown",
   "metadata": {},
   "source": [
    "<br>"
   ]
  },
  {
   "cell_type": "markdown",
   "metadata": {},
   "source": [
    "### 1.5.2 FPR을 1로 만들기\n",
    "\n",
    "- 분류 결정 임곗값을 0으로 지정\n",
    "- 임곗값을 0으로 지정하면 분류기의 Positive 확률 기준이 너무 낮아져서 전부 Positive로 예측하게 됨\n",
    "- 그럼 아예 Negative 예측이 없어진다. $\\Rightarrow$ TN $\\rightarrow$ 0\n",
    "  \n",
    "  \n",
    "- FPR = FP / (FP + TN)\n",
    "- 위 식에서 TN = 0 이 되면 FPR 값은 1이 된다.\n"
   ]
  },
  {
   "cell_type": "markdown",
   "metadata": {},
   "source": [
    "<br>"
   ]
  },
  {
   "cell_type": "markdown",
   "metadata": {},
   "source": [
    "## 1.6 `roc_curve()`\n",
    "\n",
    "- 사이킷런에서 ROC 곡선을 구하기 위한 API\n",
    "- 사용법은 `precision_recall_curve()` API와 유사 (반환값만 다름)"
   ]
  },
  {
   "cell_type": "markdown",
   "metadata": {},
   "source": [
    "<br>"
   ]
  },
  {
   "cell_type": "markdown",
   "metadata": {},
   "source": [
    "### 1.6.1 입력 파라미터\n",
    "\n",
    "- `y_true` : 실제 클래스 값 array (array shape = [데이터 건수])\n",
    "- `y_score` : `predict_proba()`의 반환 값 array에서 Positive 컬럼의 예측 확률이 보통 사용됨 (array shape = [n_samples])"
   ]
  },
  {
   "cell_type": "markdown",
   "metadata": {},
   "source": [
    "<br>"
   ]
  },
  {
   "cell_type": "markdown",
   "metadata": {},
   "source": [
    "### 1.6.2 반환 값\n",
    "\n",
    "- `fpr` : fpr 값을 array로 반환 (X축 값)\n",
    "- `tpr` : tpr 값을 array로 반환 (Y축 값)\n",
    "- `thresholds` : threshold 값 array"
   ]
  },
  {
   "cell_type": "markdown",
   "metadata": {},
   "source": [
    "<br>"
   ]
  },
  {
   "cell_type": "markdown",
   "metadata": {},
   "source": [
    "### 1.6.3 타이타닉 생존자 예측 모델 이용, FPR, TPR, 임곗값 확인"
   ]
  },
  {
   "cell_type": "code",
   "execution_count": 1,
   "metadata": {},
   "outputs": [],
   "source": [
    "# Null 처리 함수\n",
    "def fillna(df) :\n",
    "    df['Age'].fillna(df['Age'].mean(), inplace=True)\n",
    "    df['Cabin'].fillna('N', inplace=True)\n",
    "    df['Embarked'].fillna('N', inplace=True)\n",
    "    df['Fare'].fillna(0, inplace=True)\n",
    "    \n",
    "    return df\n",
    "\n",
    "# 머신러닝 알고리즘에 불필요한 속성 제거\n",
    "def drop_features(df) :\n",
    "    df.drop(['PassengerId', 'Name', 'Ticket'], axis=1, inplace=True)\n",
    "    \n",
    "    return df\n",
    "\n",
    "# 레이블 인코딩 수행\n",
    "from sklearn.preprocessing import LabelEncoder\n",
    "\n",
    "def format_features(df) :\n",
    "    df['Cabin'] = df['Cabin'].str[:1]\n",
    "    features = ['Cabin', 'Sex', 'Embarked']\n",
    "    \n",
    "    for feature in features :\n",
    "        le = LabelEncoder()\n",
    "        le = le.fit(df[feature])\n",
    "        df[feature] = le.transform(df[feature])\n",
    "        \n",
    "    return df\n",
    "\n",
    "# 앞에서 설정한 데이터 전처리 함수 호출\n",
    "def transform_features(df) :\n",
    "    \n",
    "    df = fillna(df)\n",
    "    df = drop_features(df)\n",
    "    df = format_features(df)\n",
    "    \n",
    "    return df"
   ]
  },
  {
   "cell_type": "code",
   "execution_count": 2,
   "metadata": {},
   "outputs": [
    {
     "name": "stderr",
     "output_type": "stream",
     "text": [
      "C:\\Users\\shkim\\AppData\\Local\\conda\\conda\\envs\\TF_VS_36\\lib\\site-packages\\sklearn\\linear_model\\logistic.py:432: FutureWarning: Default solver will be changed to 'lbfgs' in 0.22. Specify a solver to silence this warning.\n",
      "  FutureWarning)\n"
     ]
    }
   ],
   "source": [
    "import pandas as pd\n",
    "from sklearn.model_selection import train_test_split\n",
    "from sklearn.linear_model import LogisticRegression\n",
    "\n",
    "\n",
    "# 원본 데이터를 재로딩, 데이터 가공, 학습 데이터/테스트 데이터 분할\n",
    "titanic_df = pd.read_csv('./data/titanic_train.csv')\n",
    "y_titanic_df = titanic_df['Survived']\n",
    "X_titanic_df = titanic_df.drop('Survived', axis=1)\n",
    "X_titanic_df = transform_features(X_titanic_df)\n",
    "\n",
    "X_train, X_test, y_train, y_test = train_test_split(X_titanic_df, y_titanic_df,\n",
    "                                                    test_size=0.2, random_state=11)\n",
    "\n",
    "lr_clf = LogisticRegression()\n",
    "\n",
    "lr_clf.fit(X_train, y_train)\n",
    "pred = lr_clf.predict(X_test)"
   ]
  },
  {
   "cell_type": "code",
   "execution_count": 5,
   "metadata": {},
   "outputs": [
    {
     "name": "stdout",
     "output_type": "stream",
     "text": [
      "샘플 추출을 위한 임곗값 배열의 index 10개 :  [ 0  5 10 15 20 25 30 35 40 45]\n",
      "샘플용 10개의 임곗값 :  [1.94 0.87 0.63 0.55 0.44 0.32 0.15 0.14 0.13 0.12]\n",
      "샘플 임곗값별 FPR :  [0.    0.008 0.025 0.059 0.127 0.203 0.559 0.602 0.695 0.847]\n",
      "샘플 임곗값별 TPR :  [0.    0.246 0.672 0.738 0.787 0.885 0.902 0.951 0.967 0.984]\n"
     ]
    }
   ],
   "source": [
    "from sklearn.metrics import roc_curve\n",
    "import numpy as np\n",
    "\n",
    "# 레이블 값이 1일 때의 예측 확률 추출\n",
    "pred_proba_class1 = lr_clf.predict_proba(X_test)[:, 1]\n",
    "\n",
    "fprs, tprs, thresholds = roc_curve(y_test, pred_proba_class1)\n",
    "\n",
    "# 반환된 임곗값 배열 로우가 47건이므로 샘플로 10건만 추출하되, 임곗값을 5 Step으로 추출\n",
    "thr_index = np.arange(0, thresholds.shape[0], 5)\n",
    "print('샘플 추출을 위한 임곗값 배열의 index 10개 : ', thr_index)\n",
    "print('샘플용 10개의 임곗값 : ', np.round(thresholds[thr_index], 2))\n",
    "\n",
    "# 5 step 단위로 추출된 임곗값에 따른 FPR, TPR 값\n",
    "print('샘플 임곗값별 FPR : ', np.round(fprs[thr_index], 3))\n",
    "print('샘플 임곗값별 TPR : ', np.round(tprs[thr_index], 3))"
   ]
  },
  {
   "cell_type": "code",
   "execution_count": 6,
   "metadata": {},
   "outputs": [
    {
     "data": {
      "text/html": [
       "<div>\n",
       "<style scoped>\n",
       "    .dataframe tbody tr th:only-of-type {\n",
       "        vertical-align: middle;\n",
       "    }\n",
       "\n",
       "    .dataframe tbody tr th {\n",
       "        vertical-align: top;\n",
       "    }\n",
       "\n",
       "    .dataframe thead th {\n",
       "        text-align: right;\n",
       "    }\n",
       "</style>\n",
       "<table border=\"1\" class=\"dataframe\">\n",
       "  <thead>\n",
       "    <tr style=\"text-align: right;\">\n",
       "      <th></th>\n",
       "      <th>threshold</th>\n",
       "      <th>FPR</th>\n",
       "      <th>TPR</th>\n",
       "    </tr>\n",
       "  </thead>\n",
       "  <tbody>\n",
       "    <tr>\n",
       "      <th>0</th>\n",
       "      <td>1.94</td>\n",
       "      <td>0.000</td>\n",
       "      <td>0.000</td>\n",
       "    </tr>\n",
       "    <tr>\n",
       "      <th>1</th>\n",
       "      <td>0.87</td>\n",
       "      <td>0.008</td>\n",
       "      <td>0.246</td>\n",
       "    </tr>\n",
       "    <tr>\n",
       "      <th>2</th>\n",
       "      <td>0.63</td>\n",
       "      <td>0.025</td>\n",
       "      <td>0.672</td>\n",
       "    </tr>\n",
       "    <tr>\n",
       "      <th>3</th>\n",
       "      <td>0.55</td>\n",
       "      <td>0.059</td>\n",
       "      <td>0.738</td>\n",
       "    </tr>\n",
       "    <tr>\n",
       "      <th>4</th>\n",
       "      <td>0.44</td>\n",
       "      <td>0.127</td>\n",
       "      <td>0.787</td>\n",
       "    </tr>\n",
       "    <tr>\n",
       "      <th>5</th>\n",
       "      <td>0.32</td>\n",
       "      <td>0.203</td>\n",
       "      <td>0.885</td>\n",
       "    </tr>\n",
       "    <tr>\n",
       "      <th>6</th>\n",
       "      <td>0.15</td>\n",
       "      <td>0.559</td>\n",
       "      <td>0.902</td>\n",
       "    </tr>\n",
       "    <tr>\n",
       "      <th>7</th>\n",
       "      <td>0.14</td>\n",
       "      <td>0.602</td>\n",
       "      <td>0.951</td>\n",
       "    </tr>\n",
       "    <tr>\n",
       "      <th>8</th>\n",
       "      <td>0.13</td>\n",
       "      <td>0.695</td>\n",
       "      <td>0.967</td>\n",
       "    </tr>\n",
       "    <tr>\n",
       "      <th>9</th>\n",
       "      <td>0.12</td>\n",
       "      <td>0.847</td>\n",
       "      <td>0.984</td>\n",
       "    </tr>\n",
       "  </tbody>\n",
       "</table>\n",
       "</div>"
      ],
      "text/plain": [
       "   threshold    FPR    TPR\n",
       "0       1.94  0.000  0.000\n",
       "1       0.87  0.008  0.246\n",
       "2       0.63  0.025  0.672\n",
       "3       0.55  0.059  0.738\n",
       "4       0.44  0.127  0.787\n",
       "5       0.32  0.203  0.885\n",
       "6       0.15  0.559  0.902\n",
       "7       0.14  0.602  0.951\n",
       "8       0.13  0.695  0.967\n",
       "9       0.12  0.847  0.984"
      ]
     },
     "execution_count": 6,
     "metadata": {},
     "output_type": "execute_result"
    }
   ],
   "source": [
    "import pandas as pd\n",
    "\n",
    "df = pd.DataFrame({'threshold': np.round(thresholds[thr_index],2),\n",
    "                   'FPR': np.round(fprs[thr_index], 3),\n",
    "                   'TPR': np.round(tprs[thr_index], 3)})\n",
    "df"
   ]
  },
  {
   "cell_type": "markdown",
   "metadata": {},
   "source": [
    "$\\rightarrow$ 임곗값이 1에 가까운 값에서 점점 작아지면서 FPR이 점점 커짐  \n",
    "$\\rightarrow$ FPR이 조금씩 커질 때, TPR은 가파르게 커짐을 알 수 있음"
   ]
  },
  {
   "cell_type": "markdown",
   "metadata": {},
   "source": [
    "<br>"
   ]
  },
  {
   "cell_type": "markdown",
   "metadata": {},
   "source": [
    "### 1.6.4 ROC 곡선 시각화\n",
    "\n",
    "- FPR의 변화에 따른 TPR의 변화를 ROC 곡선으로 시각화"
   ]
  },
  {
   "cell_type": "code",
   "execution_count": 8,
   "metadata": {},
   "outputs": [],
   "source": [
    "import matplotlib.pyplot as plt\n",
    "%matplotlib inline\n",
    "\n",
    "def roc_curve_plot(y_test, pred_proba_c1) :\n",
    "    \n",
    "    # 임곗값에 따른 FPR, TPR 값을 반환받음\n",
    "    fprs, tprs, thresholds = roc_curve(y_test, pred_proba_c1)\n",
    "    \n",
    "    # ROC 곡선을 그래프 곡선으로 그림\n",
    "    plt.plot(fprs, tprs, label='ROC')\n",
    "    \n",
    "    # 가운데 대각선 직선을 그림\n",
    "    plt.plot([0, 1], [0, 1], 'k--', label='Random')\n",
    "    \n",
    "    # FPR X 축의 Scale을 0.1 단위로 변경, X, Y 축 명 설정 등\n",
    "    start, end = plt.xlim()\n",
    "    plt.xticks(np.round(np.arange(start, end, 0.1), 2))\n",
    "    plt.xlim(0, 1)\n",
    "    plt.ylim(0, 1)\n",
    "    plt.xlabel('FPR( 1 - Sensitivity )')\n",
    "    plt.ylabel('TPR( Recall )')\n",
    "    plt.legend()\n",
    "    plt.show()"
   ]
  },
  {
   "cell_type": "code",
   "execution_count": 10,
   "metadata": {},
   "outputs": [
    {
     "data": {
      "image/png": "[encoded data removed]",
      "text/plain": [
       "<Figure size 432x288 with 1 Axes>"
      ]
     },
     "metadata": {
      "needs_background": "light"
     },
     "output_type": "display_data"
    }
   ],
   "source": [
    "pred_proba = lr_clf.predict_proba(X_test)\n",
    "roc_curve_plot(y_test, pred_proba[:, 1])"
   ]
  },
  {
   "cell_type": "markdown",
   "metadata": {},
   "source": [
    "<br>"
   ]
  },
  {
   "cell_type": "markdown",
   "metadata": {},
   "source": [
    "# 2. AUC"
   ]
  },
  {
   "cell_type": "markdown",
   "metadata": {},
   "source": [
    "## 2.1 AUC (Area Under Curve)\n",
    "\n",
    "- ROC 곡선 자체는 FPR과 TPR의 변화 값을 보는 데 이용\n",
    "- 분류의 성능 지표로 사용되는 것은 ROC 곡선 면적에 기반한 AUC 값으로 결정  \n",
    "  \n",
    "  \n",
    "- AUC값은 ROC 곡선 밑의 면적을 구한 것\n",
    "- 일반적으로 1에 가까울수록 좋은 수치이다.  \n",
    "  \n",
    "  \n",
    "- AUC 수치가 커지려면 RPR이 작은 상태에서 얼마나 큰 TPR을 얻을 수 있느냐가 관건이다.\n",
    "- 가운데 직선에서 멀어지고 왼쪽 상단 모서리 쪽으로 가파르게 곡선이 이동할 수록 직사각형에 가까운 곡선이 됨  \n",
    "(면적이 1에 가까워짐)  \n",
    "  \n",
    "  \n",
    "- 가운데 대각선 직선\n",
    "  - 랜덤 수준의(동전 던지기 수준) 이진 분류 AUC 값 (0.5)\n",
    "  - 따라서 보통의 분류는 0.5 이상의 AUC 값을 가리킴"
   ]
  },
  {
   "cell_type": "markdown",
   "metadata": {},
   "source": [
    "<br>"
   ]
  },
  {
   "cell_type": "markdown",
   "metadata": {},
   "source": [
    "## 2.2 `roc_auc_score()`\n",
    "\n",
    "- 사이킷런은 ROC AUC를 구하기 위해 제공하는 API"
   ]
  },
  {
   "cell_type": "code",
   "execution_count": 11,
   "metadata": {},
   "outputs": [
    {
     "name": "stdout",
     "output_type": "stream",
     "text": [
      "ROC AUC 값 : 0.8429\n"
     ]
    }
   ],
   "source": [
    "from sklearn.metrics import roc_auc_score\n",
    "\n",
    "pred = lr_clf.predict(X_test)\n",
    "roc_score = roc_auc_score(y_test, pred)\n",
    "print('ROC AUC 값 : {0:.4f}'.format(roc_score))"
   ]
  },
  {
   "cell_type": "markdown",
   "metadata": {},
   "source": [
    "<br>"
   ]
  },
  {
   "cell_type": "markdown",
   "metadata": {},
   "source": [
    "`get_clf_eval()` 함수에 ROC AUC 값을 측정하는 로직 추가"
   ]
  },
  {
   "cell_type": "code",
   "execution_count": 12,
   "metadata": {},
   "outputs": [],
   "source": [
    "from sklearn.metrics import accuracy_score\n",
    "from sklearn.metrics import precision_score\n",
    "from sklearn.metrics import recall_score\n",
    "from sklearn.metrics import confusion_matrix\n",
    "from sklearn.metrics import f1_score\n",
    "from sklearn.metrics import roc_auc_score\n",
    "\n",
    "def get_clf_eval(y_test, pred) :\n",
    "    \n",
    "    confusion = confusion_matrix(y_test, pred)\n",
    "    accuracy = accuracy_score(y_test, pred)\n",
    "    precision = precision_score(y_test, pred)\n",
    "    recall = recall_score(y_test, pred)\n",
    "    \n",
    "    # F1 스코어 추가\n",
    "    f1 = f1_score(y_test, pred)\n",
    "    \n",
    "    auc = roc_auc_score(y_test, pred)\n",
    "    \n",
    "    print('오차 행렬')\n",
    "    print(confusion)\n",
    "    \n",
    "    print('정확도 : {0:.4f}, 정밀도 : {1:.4f}, 재현율 : {2:.4f}, F1 : {3:.4f}, ROC AUC : {4:.4f}'.format(accuracy, precision, recall, f1, auc))"
   ]
  },
  {
   "cell_type": "code",
   "execution_count": 13,
   "metadata": {},
   "outputs": [
    {
     "name": "stdout",
     "output_type": "stream",
     "text": [
      "오차 행렬\n",
      "[[108  10]\n",
      " [ 14  47]]\n",
      "정확도 : 0.8659, 정밀도 : 0.8246, 재현율 : 0.7705, F1 : 0.7966, ROC AUC : 0.8429\n"
     ]
    }
   ],
   "source": [
    "get_clf_eval(y_test, pred)"
   ]
  }
 ],
 "metadata": {
  "kernelspec": {
   "display_name": "Python 3",
   "language": "python",
   "name": "python3"
  },
  "language_info": {
   "codemirror_mode": {
    "name": "ipython",
    "version": 3
   },
   "file_extension": ".py",
   "mimetype": "text/x-python",
   "name": "python",
   "nbconvert_exporter": "python",
   "pygments_lexer": "ipython3",
   "version": "3.6.8"
  }
 },
 "nbformat": 4,
 "nbformat_minor": 2
}
