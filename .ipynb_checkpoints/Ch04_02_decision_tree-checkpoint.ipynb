{
 "cells": [
  {
   "cell_type": "markdown",
   "metadata": {},
   "source": [
    "# 02. 결정 트리"
   ]
  },
  {
   "cell_type": "markdown",
   "metadata": {},
   "source": [
    "<br>"
   ]
  },
  {
   "cell_type": "markdown",
   "metadata": {},
   "source": [
    "**결정 트리(Decision Tree)**\n",
    "\n",
    "ML 알고리즘 중 직관적으로 이해하기 쉬운 알고리즘  \n",
    "데이터에 있는 규칙을 학습을 통해 자동으로 찾아내 트리(Tree) 기반의 분류 규칙을 만드는 것  \n",
    "데이터의 어떤 기준을 바탕으로 규칙을 만들어야 가장 효율적인 분류가 될 것인가가 알고리즘의 성능을 크게 좌우"
   ]
  },
  {
   "cell_type": "markdown",
   "metadata": {},
   "source": [
    "**결정 트리의 구조**\n",
    "\n",
    "- **규칙 노드(Decision Node)**\n",
    "  - 규칙 조건이 되는 것\n",
    "  - 데이터 세트에 있는 피처가 결합해 규칙 조건을 만들 때마다 규칙 노드가 만들어짐\n",
    "  \n",
    "  \n",
    "- **리프 노드(Leaf Node)**\n",
    "  - 결정된 클래스 값  \n",
    "  \n",
    "  \n",
    "- **서브 트리(Sub Tree)**\n",
    "  - 새로운 규칙 조건마다 서브 트리 생성"
   ]
  },
  {
   "cell_type": "markdown",
   "metadata": {},
   "source": [
    "많은 규칙이 있다.  \n",
    "$\\rightarrow$ 분류를 결정하는 방식이 복잡해진다.  \n",
    "$\\rightarrow$ 과적합  \n",
    "$\\Rightarrow$ 트리의 깊이(depth)가 깊어질수록 결정 트리의 예측 성능이 저하될 가능성이 높다."
   ]
  },
  {
   "cell_type": "markdown",
   "metadata": {},
   "source": [
    "가능한 한 적은 결정 노드로 높은 예측 정확도를 가지려면 데이터를 분류할 때 최대한 많은 데이터 세트가 해당 분류에 속할 수 있도록 결정 노드의 규칙이 정해저야 한다.  \n",
    "$\\rightarrow$ 어떻게 트리를 **분할(Split)**할 것인가가 중요  \n",
    "$\\Rightarrow$ 최대한 균일한 데이터 세트를 구성할 수 있도록 분할하는 것이 필요"
   ]
  },
  {
   "cell_type": "markdown",
   "metadata": {},
   "source": [
    "<br>"
   ]
  },
  {
   "cell_type": "markdown",
   "metadata": {},
   "source": [
    "**균일도**\n",
    "\n",
    "각각 3가지 종류의 데이터 세트들 중 가장 균일한 데이터 세트는?\n",
    "\n",
    "- A : 검은공과 하얀공이 비슷한 비율로 섞여 있음\n",
    "- B : 검은공이 하얀공보다 많이 있음\n",
    "- C : 검은공으로만 이루어져 있음  \n",
    "  \n",
    "  \n",
    "$\\Rightarrow$ C $\\rightarrow$ B $\\rightarrow$ A"
   ]
  },
  {
   "cell_type": "markdown",
   "metadata": {},
   "source": [
    "C 데이터 세트의 균일도가 가장 높다.  \n",
    "A 데이터 세트의 균일도가 가장 낮다."
   ]
  },
  {
   "cell_type": "markdown",
   "metadata": {},
   "source": [
    "데이터 세트의 균일도는 데이터를 구분하는 데 필요한 정보의 양에 영향을 미친다.  \n",
    "\n",
    "- C 데이터 세트에서 하나의 데이터를 뽑았을 경우  \n",
    ": 검은공으로 쉽게 예측 가능  \n",
    "  \n",
    "  \n",
    "- A 데이터 세트에서 하나의 데이터를 뽑았을 경우  \n",
    ": 상대적으로 혼잡도가 높고 균일도가 "
   ]
  }
 ],
 "metadata": {
  "kernelspec": {
   "display_name": "Python 3",
   "language": "python",
   "name": "python3"
  },
  "language_info": {
   "codemirror_mode": {
    "name": "ipython",
    "version": 3
   },
   "file_extension": ".py",
   "mimetype": "text/x-python",
   "name": "python",
   "nbconvert_exporter": "python",
   "pygments_lexer": "ipython3",
   "version": "3.6.8"
  }
 },
 "nbformat": 4,
 "nbformat_minor": 2
}
