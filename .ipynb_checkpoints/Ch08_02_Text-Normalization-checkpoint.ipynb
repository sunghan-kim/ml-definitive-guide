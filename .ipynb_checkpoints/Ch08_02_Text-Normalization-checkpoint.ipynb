{
 "cells": [
  {
   "cell_type": "markdown",
   "metadata": {},
   "source": [
    "# 02. 텍스트 사전 준비 작업(텍스트 전처리) - 텍스트 정규화"
   ]
  },
  {
   "cell_type": "markdown",
   "metadata": {},
   "source": [
    "텍스트 자체를 바로 피처로 만들 수는 없다. 사전에 텍스트를 가공하는 준비 작업이 필요하다.\n",
    "\n",
    "**텍스트 정규화**\n",
    "\n",
    "- 텍스트를 머신러닝 알고리즘이나 NLP 애플리케이션에 입력 데이터로 사용하기 위해 클랜징, 정제, 토큰화, 어근화 등의 다양한 텍스트 데이터의 사전 작업으 수행하는 것을 의미\n",
    "\n",
    "**텍스트 정규화 작업의 분류**\n",
    "\n",
    "- 클렌징 (Cleansing)\n",
    "- 토큰화 (Tokenization)\n",
    "- 필터링/스톱 워드 제거/철자 수정\n",
    "- Stemming\n",
    "- Lemmatization"
   ]
  },
  {
   "cell_type": "markdown",
   "metadata": {},
   "source": [
    "<br>"
   ]
  },
  {
   "cell_type": "markdown",
   "metadata": {},
   "source": [
    "## 2.1 클렌징\n",
    "\n",
    "불필요한 문자, 기호 등을 사전에 제거하는 작업\n",
    "\n",
    "ex) HTML, XML 태그 및 특정 기호 사전에 제거"
   ]
  },
  {
   "cell_type": "markdown",
   "metadata": {},
   "source": [
    "<br>"
   ]
  },
  {
   "cell_type": "markdown",
   "metadata": {},
   "source": [
    "## 2.2 텍스트 토큰화\n",
    "\n",
    "**토큰화의 유형**\n",
    "\n",
    "- 문장 토큰화 : 문서에서 문장을 분리\n",
    "- 단어 토큰화 : 문장에서 단어를 토큰으로 분리"
   ]
  },
  {
   "cell_type": "markdown",
   "metadata": {},
   "source": [
    "<br>"
   ]
  },
  {
   "cell_type": "markdown",
   "metadata": {},
   "source": [
    "### 2.2.1 문장 토큰화 (sentence tokenization)\n",
    "\n",
    "마침표(.), 개행문자(\\n) 등 문장의 마지막을 뜻하는 기호에 따라 분리하는 것이 일반적이다.\n",
    "\n",
    "정규 표현식에 따른 문장 토큰화도 가능\n",
    "\n",
    "`NTLK`에서 일반적으로 많이 쓰이는 `sent_tokenize`를 이용해 토큰화를 수행."
   ]
  },
  {
   "cell_type": "code",
   "execution_count": 1,
   "metadata": {},
   "outputs": [
    {
     "name": "stdout",
     "output_type": "stream",
     "text": [
      "showing info https://raw.githubusercontent.com/nltk/nltk_data/gh-pages/index.xml\n"
     ]
    },
    {
     "data": {
      "text/plain": [
       "True"
      ]
     },
     "execution_count": 1,
     "metadata": {},
     "output_type": "execute_result"
    }
   ],
   "source": [
    "# 3개의 문장으로 이루어진 텍스트 문서를 문장으로 각각 분리\n",
    "from nltk import sent_tokenize\n",
    "#import nltk\n",
    "#nltk.download()"
   ]
  },
  {
   "cell_type": "code",
   "execution_count": 2,
   "metadata": {},
   "outputs": [
    {
     "name": "stdout",
     "output_type": "stream",
     "text": [
      "<class 'list'> 3\n",
      "['The Matrix is everywhere its all around us, here even in this room.', 'You can see it out your window or on your television.', 'You feel it when you go to work, or go to church or pay your taxes.']\n"
     ]
    }
   ],
   "source": [
    "text_sample = 'The Matrix is everywhere its all around us, here even in this room. \\\n",
    "               You can see it out your window or on your television. \\\n",
    "               You feel it when you go to work, or go to church or pay your taxes.'\n",
    "\n",
    "sentences = sent_tokenize(text=text_sample)\n",
    "print(type(sentences), len(sentences))\n",
    "print(sentences)"
   ]
  },
  {
   "cell_type": "markdown",
   "metadata": {},
   "source": [
    "`sent_tokenize()`의 반환값 : 각각의 문장으로 구성된 list 객체"
   ]
  },
  {
   "cell_type": "markdown",
   "metadata": {},
   "source": [
    "<br>"
   ]
  },
  {
   "cell_type": "markdown",
   "metadata": {},
   "source": [
    "### 2.2.2 단어 토큰화 (Word Tokenization)\n",
    "\n",
    "문장을 단어로 토큰화하는 것.\n",
    "\n",
    "기본적으로 공백, 콤마(,), 마침표(.), 개행문자 등으로 단어를 분리.\n",
    "\n",
    "정규 표현식을 이용해 다양한 유형으로 토큰화를 수행할 수 있다.\n",
    "\n",
    "Bag of Word 와 같이 단어의 순서가 중요하지 않은 경우 문장 토큰화를 사용하지 않고 단어 토큰화만 사용해도 충분하다.\n",
    "\n",
    "일반적으로 문장 토큰화는 각 문장이 가지는 시맨틱적인 의미가 중요한 요소로 사용될 때 사용한다.\n",
    "\n",
    "`NLTK`에서 기본으로 제공하는 `word_tokenize()`를 이용해 단어로 토큰화."
   ]
  },
  {
   "cell_type": "code",
   "execution_count": 4,
   "metadata": {},
   "outputs": [
    {
     "name": "stdout",
     "output_type": "stream",
     "text": [
      "<class 'list'> 15\n",
      "['The', 'Matrix', 'is', 'everywhere', 'its', 'all', 'around', 'us', ',', 'here', 'even', 'in', 'this', 'room', '.']\n"
     ]
    }
   ],
   "source": [
    "from nltk import word_tokenize\n",
    "\n",
    "sentence = \"The Matrix is everywhere its all around us, here even in this room.\"\n",
    "words = word_tokenize(sentence)\n",
    "print(type(words), len(words))\n",
    "print(words)"
   ]
  },
  {
   "cell_type": "markdown",
   "metadata": {},
   "source": [
    "<br>"
   ]
  },
  {
   "cell_type": "markdown",
   "metadata": {},
   "source": [
    "`sent_tokenize` 와 `word_tokenize`를 조합해 문서에 대해서 모든 단어를 토큰화 실시."
   ]
  },
  {
   "cell_type": "code",
   "execution_count": 6,
   "metadata": {},
   "outputs": [],
   "source": [
    "from nltk import word_tokenize, sent_tokenize\n",
    "\n",
    "# 여러 개의 문장으로 된 입력 데이터를 문장별로 단어 토큰화하게 만드는 함수 생성\n",
    "def tokenize_text(text) :\n",
    "    \n",
    "    # 문장별로 분리 토큰\n",
    "    sentences = sent_tokenize(text)\n",
    "    \n",
    "    # 분리된 문장별 단어 토큰화\n",
    "    word_tokens = [word_tokenize(sentence) for sentence in sentences]\n",
    "    \n",
    "    return word_tokens"
   ]
  },
  {
   "cell_type": "code",
   "execution_count": 7,
   "metadata": {},
   "outputs": [
    {
     "name": "stdout",
     "output_type": "stream",
     "text": [
      "<class 'list'> 3\n",
      "[['The', 'Matrix', 'is', 'everywhere', 'its', 'all', 'around', 'us', ',', 'here', 'even', 'in', 'this', 'room', '.'], ['You', 'can', 'see', 'it', 'out', 'your', 'window', 'or', 'on', 'your', 'television', '.'], ['You', 'feel', 'it', 'when', 'you', 'go', 'to', 'work', ',', 'or', 'go', 'to', 'church', 'or', 'pay', 'your', 'taxes', '.']]\n"
     ]
    }
   ],
   "source": [
    "# 여러 문장에 대해 문장별 단어 토큰화 수행\n",
    "word_tokens = tokenize_text(text_sample)\n",
    "print(type(word_tokens), len(word_tokens))\n",
    "print(word_tokens)"
   ]
  },
  {
   "cell_type": "markdown",
   "metadata": {},
   "source": [
    "`word_tokens` 변수는 3개의 리스트 객체를 내포하는 리스트.\n",
    "\n",
    "내포된 개별 리스트 객체는 각각 문장별로 토큰화된 단어를 요소로 가지고 있다."
   ]
  },
  {
   "cell_type": "markdown",
   "metadata": {},
   "source": [
    "<br>"
   ]
  },
  {
   "cell_type": "markdown",
   "metadata": {},
   "source": [
    "문장을 단어별로 하나씩 토큰화 할 경우 문맥적인 의미는 무시될 수밖에 없다.\n",
    "\n",
    "이러한 문제를 조금이라고 해결해 보고자 도입된 것 $\\rightarrow$ n-gram"
   ]
  },
  {
   "cell_type": "markdown",
   "metadata": {},
   "source": [
    "**n-gram**\n",
    "\n",
    "연속된 n개의 단어를 하나의 토큰화 단위로 분리해 내는 것.\n",
    "\n",
    "n개 단어 크기 윈도우를 만들어 문장의 처음부터 오른쪽으로 움직이면서 토큰화를 수행.\n",
    "\n",
    "ex) \"Agent Smith knocks the door\" 를 2-gram(bigram)으로 만들 경우  \n",
    "$\\rightarrow$ (Agent, Smith), (Smith, knocks), (knocks, the), (the, door)"
   ]
  },
  {
   "cell_type": "markdown",
   "metadata": {},
   "source": [
    "<br>"
   ]
  },
  {
   "cell_type": "markdown",
   "metadata": {},
   "source": [
    "## 2.3 스톱 워드 제거\n",
    "\n",
    "스톱 워드 (Stop word) \n",
    "\n",
    "- 분석에 큰 의미가 없는 단어를 지칭\n",
    "- is, the, a, will 등 문장을 구성하는 필수 문법 요소이지만 문맥적으로 큰 의미가 없는 단어가 이에 해당\n",
    "- 해당 단어들은 빈번하게 나타나므로 사전에 제거하지 않으면 중요한 단어로 인지될 수 있다.\n",
    "\n",
    "언어별로 이러한 스톱 워드가 목록화되어 있다.\n",
    "\n",
    "`NLTK`의 경우 가장 다양한 언어의 스톱 워드를 제공."
   ]
  },
  {
   "cell_type": "code",
   "execution_count": 8,
   "metadata": {},
   "outputs": [
    {
     "name": "stdout",
     "output_type": "stream",
     "text": [
      "영어 stop words 개수 :  179\n",
      "['i', 'me', 'my', 'myself', 'we', 'our', 'ours', 'ourselves', 'you', \"you're\", \"you've\", \"you'll\", \"you'd\", 'your', 'yours', 'yourself', 'yourselves', 'he', 'him', 'his']\n"
     ]
    }
   ],
   "source": [
    "# NLTK stopwords 목록 확인\n",
    "import nltk\n",
    "\n",
    "print('영어 stop words 개수 : ', len(nltk.corpus.stopwords.words('english')))\n",
    "print(nltk.corpus.stopwords.words('english')[:20])"
   ]
  },
  {
   "cell_type": "markdown",
   "metadata": {},
   "source": [
    "<br>"
   ]
  },
  {
   "cell_type": "markdown",
   "metadata": {},
   "source": [
    "`word_tokens` 리스트에 대해서 stopwords를 필터링으로 제거해 분석을 위한 의미 있는 단어만 추출"
   ]
  },
  {
   "cell_type": "code",
   "execution_count": 10,
   "metadata": {},
   "outputs": [
    {
     "name": "stdout",
     "output_type": "stream",
     "text": [
      "[['matrix', 'everywhere', 'around', 'us', ',', 'even', 'room', '.'], ['see', 'window', 'television', '.'], ['feel', 'go', 'work', ',', 'go', 'church', 'pay', 'taxes', '.']]\n"
     ]
    }
   ],
   "source": [
    "import nltk\n",
    "\n",
    "stopwords = nltk.corpus.stopwords.words('english')\n",
    "all_tokens = []\n",
    "\n",
    "# 위 예제에서 3개의 문장별로 얻은 word_tokens list에 대해 스톱 워드를 제거하는 반복문\n",
    "for sentence in word_tokens :\n",
    "    \n",
    "    filtered_words = []\n",
    "    \n",
    "    # 개별 문장별로 토큰화된 문장 list에 대해 스톱 워드를 제거하는 반복문\n",
    "    for word in sentence :\n",
    "        \n",
    "        # 소문자로 변환\n",
    "        word = word.lower()\n",
    "        \n",
    "        # 토큰화된 개별 단어가 스톱 워드의 단어에 포함되지 않으면 filtered_tokens에 추가\n",
    "        if word not in stopwords :\n",
    "            filtered_words.append(word)\n",
    "            \n",
    "    all_tokens.append(filtered_words)\n",
    "    \n",
    "print(all_tokens)"
   ]
  },
  {
   "cell_type": "markdown",
   "metadata": {},
   "source": [
    "<br>"
   ]
  },
  {
   "cell_type": "markdown",
   "metadata": {},
   "source": [
    "## 2.4 Stemming과 Lemmatization\n",
    "\n",
    "많은 언어에서 문법적인 요소에 따라 단어가 다양하게 변함.\n",
    "\n",
    "ex) 영어의 경우, 과거/현재, 3인칭 단수 여부, 진행형 등 많은 조건에 따라 원래 단어가 변함\n",
    "\n",
    "Stemming과 Lemmatization은 문법적 또는 의미적으로 변화하는 단어의 원형을 찾는 것.\n",
    "\n",
    "Lemmatization이 Stemming보다 정교하며 의미론적인 기반에서 단어의 원형을 찾는다."
   ]
  },
  {
   "cell_type": "markdown",
   "metadata": {},
   "source": [
    "**Stemming**\n",
    "\n",
    "- 원형 단어로 변환 시 일시적인 방법을 적용하거나 더 단순화된 방법을 적용해 원래 단어에서 일부 철자가 훼손된 어근 단어를 추출하는 경향이 있음\n",
    "\n",
    "**Lemmatization**\n",
    "\n",
    "- 품사와 같은 문법적인 요소와 더 의미적인 부분을 감안해 정확한 철자로 된 어근 단어를 찾아줌\n",
    "- Stemming보다 변환에 더 오랜 시간이 필요함"
   ]
  },
  {
   "cell_type": "markdown",
   "metadata": {},
   "source": [
    "`NLTK`는 다양한 stemmer를 제공.\n",
    "\n",
    "대표적인 stemmer\n",
    "\n",
    "- Porter\n",
    "- Lancaster\n",
    "- Snowball Stemmer\n",
    "\n",
    "Lemmatization을 위해서는 `WordNetLemmatizer`를 제공"
   ]
  },
  {
   "cell_type": "markdown",
   "metadata": {},
   "source": [
    "<br>"
   ]
  },
  {
   "cell_type": "markdown",
   "metadata": {},
   "source": [
    "### 2.4.1 Stemming과 Lemmatization 비교\n",
    "\n",
    "`NLTK`의 `LancasterStemmer`를 이용해 `Stemmer` 사용\n",
    "\n",
    "- 진행형, 3인칭 단수, 과거형에 따른 동사, 그리고 비교, 최상에 따른 형용사의 변화에 따라 Stemming은 더 단순하게 원형 단어를 찾아줌"
   ]
  },
  {
   "cell_type": "code",
   "execution_count": 11,
   "metadata": {},
   "outputs": [
    {
     "name": "stdout",
     "output_type": "stream",
     "text": [
      "work work work\n",
      "amus amus amus\n",
      "happy happiest\n",
      "fant fanciest\n"
     ]
    }
   ],
   "source": [
    "from nltk.stem import LancasterStemmer\n",
    "\n",
    "stemmer = LancasterStemmer()\n",
    "\n",
    "print(stemmer.stem('working'),stemmer.stem('works'),stemmer.stem('worked'))\n",
    "print(stemmer.stem('amusing'),stemmer.stem('amuses'),stemmer.stem('amused'))\n",
    "print(stemmer.stem('happier'),stemmer.stem('happiest'))\n",
    "print(stemmer.stem('fancier'),stemmer.stem('fanciest'))"
   ]
  },
  {
   "cell_type": "markdown",
   "metadata": {},
   "source": [
    "**amuse**의 경우, 각 변화가 amuse가 아닌 amus에서 ing, s, ed가 붙으므로 정확한 단어인 amuse가 아닌 amus를 원형 단어로 인식.\n",
    "\n",
    "형용사인 happy, fancy의 경우도 비교형, 최상급형으로 변형된 단어의 정확한 원형을 찾지 못하고 철자가 다른 어근 단어로 인식하는 경우 발생"
   ]
  },
  {
   "cell_type": "markdown",
   "metadata": {},
   "source": [
    "<br>"
   ]
  },
  {
   "cell_type": "markdown",
   "metadata": {},
   "source": [
    "`WordNetLemmatizer`를 이용해 Lemmatization을 수행.\n",
    "\n",
    "Lemmatization은 보다 정확한 원형 단어 추출을 위해 단어의 **품사**를 입력해줘야 한다.\n",
    "\n",
    "- `v` : 동사\n",
    "- `a` : 형용사"
   ]
  },
  {
   "cell_type": "code",
   "execution_count": 12,
   "metadata": {},
   "outputs": [
    {
     "name": "stdout",
     "output_type": "stream",
     "text": [
      "amuse amuse amuse\n",
      "happy happy\n",
      "fancy fancy\n"
     ]
    }
   ],
   "source": [
    "from nltk.stem import WordNetLemmatizer\n",
    "\n",
    "lemma = WordNetLemmatizer()\n",
    "\n",
    "print(lemma.lemmatize('amusing', 'v'),\n",
    "      lemma.lemmatize('amuses', 'v'),\n",
    "      lemma.lemmatize('amused', 'v'))\n",
    "print(lemma.lemmatize('happier', 'a'),\n",
    "      lemma.lemmatize('happiest', 'a'))\n",
    "print(lemma.lemmatize('fancier', 'a'),\n",
    "      lemma.lemmatize('fanciest', 'a'))"
   ]
  }
 ],
 "metadata": {
  "kernelspec": {
   "display_name": "Python 3",
   "language": "python",
   "name": "python3"
  },
  "language_info": {
   "codemirror_mode": {
    "name": "ipython",
    "version": 3
   },
   "file_extension": ".py",
   "mimetype": "text/x-python",
   "name": "python",
   "nbconvert_exporter": "python",
   "pygments_lexer": "ipython3",
   "version": "3.6.9"
  }
 },
 "nbformat": 4,
 "nbformat_minor": 4
}
