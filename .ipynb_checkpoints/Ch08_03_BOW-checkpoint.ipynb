{
 "cells": [
  {
   "cell_type": "markdown",
   "metadata": {},
   "source": [
    "# 03. Bag of Words - BOW"
   ]
  },
  {
   "cell_type": "markdown",
   "metadata": {},
   "source": [
    "<br>"
   ]
  },
  {
   "cell_type": "markdown",
   "metadata": {},
   "source": [
    "**Bag of Words 모델**\n",
    "\n",
    "- 문서가 가지는 모든 단어(Words)를 문맥이나 순서를 무시하고 일괄적으로 단어에 대해 빈도 값을 부여해 피처 값을 추출하는 모델\n",
    "- 문서 내 모든 단어를 한꺼번에 봉투(Bag)안에 넣은 뒤 흔들어서 섞는다는 의미로 Bag of Words(BOW) 모델이라고 한다."
   ]
  },
  {
   "cell_type": "markdown",
   "metadata": {},
   "source": [
    "> 이미지 (img001.jpg) : Bag of Words 모델"
   ]
  },
  {
   "cell_type": "markdown",
   "metadata": {},
   "source": [
    "<br>"
   ]
  },
  {
   "cell_type": "markdown",
   "metadata": {},
   "source": [
    "**Bag of words의 피처 추출 과정**\n",
    "\n",
    "다음과 같은 2개의 문장이 있다고 가정하고 이 문장을 Bag of Words의 단어 수(Word Count) 기반으로 피처를 추출\n",
    "\n",
    "> 문장 1 : \"My wife likes to watch baseball games and my daughter likes to watch baseball games too\"\n",
    "\n",
    "> 문장 2 : \"My wife likes to play baseball\"\n",
    "\n",
    "1. 문장 1과 문장 2에 있는 모든 단어에서 중복을 제거하고 각 단어(feature 또는 term)를 컬럼 형태로 나열 후 각 단어에 고유의 인덱스를 다음과 같이 부여\n",
    "\n",
    "```\n",
    "'and': 0, 'baseball': 1, 'daughter': 2, 'games': 3, 'likes': 4, 'my': 5, 'play': 6, 'to': 7, 'too': 8, 'watch': 9, 'wife': 10\n",
    "```\n",
    "\n",
    "2. 개별 문장에서 해당 단어가 나타나는 횟수(Occurrence)를 각 단어(단어 인덱스)에 기재.  \n",
    "(ex. baseball은 문장 1, 2에서 총 2번 나타나며, daughter는 문장 1에서만 1번 나타남)"
   ]
  },
  {
   "cell_type": "markdown",
   "metadata": {},
   "source": [
    "<div style=\"text-align: left; margin-left : 30px;\">\n",
    "\t<img src=\"images/Ch08/03/img002.jpg\" width=\"800px\">\n",
    "</div>"
   ]
  },
  {
   "cell_type": "markdown",
   "metadata": {},
   "source": [
    "<br>"
   ]
  },
  {
   "cell_type": "markdown",
   "metadata": {},
   "source": [
    "**BOW 모델의 장점**\n",
    "\n",
    "- 쉽고 빠른 구축\n",
    "- 단순히 단어의 발생 횟수에 기반하고 있지만, 예상보다 문서의 특징을 잘 나타낼 수 있는 모델\n",
    "- 전통적으로 여러 분야에서 활용도가 높음"
   ]
  },
  {
   "cell_type": "markdown",
   "metadata": {},
   "source": [
    "**BOW 모델의 단점**\n",
    "\n",
    "1. 문맥 의미(Semantic Context) 반영 부족\n",
    "\n",
    "  - BOW는 단어의 순서를 고려하지 않음\n",
    "  - 그렇기 때문에 문장 내에서 단어의 문맥적인 의미가 무시됨\n",
    "  - 이를 보완하기 위해 n_gram 기법 활용 가능\n",
    "  - 하지만 제한적인 부분에 그치므로 언어의 많은 부분을 차지하는 문맥적인 해석을 처리하지 못하는 단점이 있다.  \n",
    "  \n",
    "  \n",
    "  \n",
    "2. 희소 행렬 문제 (희소성, 희소 행렬)\n",
    "\n",
    "  - BOW로 피처 벡터화를 수행하면 희소 행렬 형태의 데이터 세트가 만들어지기 쉬움\n",
    "  - 많은 문서에서 단어를 추출하면 매우 많은 단어가 컬럼으로 만들어짐\n",
    "  - 단어가 문서마다 나타나지 않는 경우가 훨씬 더 많음 (대부분의 데이터가 0으로 채워짐)\n",
    "  - 이처럼 대규모의 컬럼으로 구성된 행렬에서 대부분의 값이 0으로 채워지는 행렬 $\\Rightarrow$ **희소 행렬(Sparse Matrix)**  \n",
    "  (**밀집 행렬(Dense Matrix)** : 대부분의 값이 0이 아닌 의미 있는 값으로 채워져 있는 행렬)\n",
    "  - 희소 행렬은 일반적으로 ML 알고리즘의 수행 시간과 예측 성능을 떨어뜨리기 때문에 희소 행렬을 위한 특별한 기법이 마련돼 있음"
   ]
  },
  {
   "cell_type": "markdown",
   "metadata": {},
   "source": [
    "<br>"
   ]
  },
  {
   "cell_type": "markdown",
   "metadata": {},
   "source": [
    "## 3.1 BOW 피처 벡터화"
   ]
  },
  {
   "cell_type": "markdown",
   "metadata": {},
   "source": [
    "### 3.1.1 피처 벡터화\n",
    "\n",
    "- 머신러닝 알고리즘은 텍스트와 같은 데이터는 바로 입력할 수 없음\n",
    "- 따라서 텍스트는 특정 의미를 가지는 숫자형 값인 **벡터 값**으로 변환해야 함\n",
    "- 이러한 변환을 **피처 벡터화**라고 한다\n",
    "- 피처 벡터화는 기존 텍스트 데이터를 또 다른 형태의 피처의 조합으로 변경 $\\rightarrow$ 넓은 범위의 피처 추출을 포함  \n",
    "(Text Analytics에서는 피처 벡터화와 피처 추출을 같은 의미로 사용)"
   ]
  },
  {
   "cell_type": "markdown",
   "metadata": {},
   "source": [
    "<br>"
   ]
  },
  {
   "cell_type": "markdown",
   "metadata": {},
   "source": [
    "### 3.1.2 BOW 모델에서의 피처 벡터화\n",
    "\n",
    "- 모든 문서에서 모든 단어를 컬럼 형태로 나열\n",
    "- 각 문서에서 해당 단어의 횟수나 정규화된 빈도를 값으로 부여하는 데이터 세트 모델로 변경하는 것\n",
    "- ex) M개의 텍스트 문서, 이 문서에서 모든 단어를 추출해 나열했을 때 N개의 단어가 있다고 가정  \n",
    "$\\rightarrow$ 문서의 피처 벡터화를 수행하면 M개의 문서는 각각 N개의 값이 할당된 피처의 벡터 세트가 됨 (MxN 개의 단어 피처로 이뤄진 행렬을 구성)"
   ]
  },
  {
   "cell_type": "markdown",
   "metadata": {},
   "source": [
    "> 이미지 (img003.jpg) : BOW 피처 벡터화"
   ]
  },
  {
   "cell_type": "markdown",
   "metadata": {},
   "source": [
    "<br>"
   ]
  },
  {
   "cell_type": "markdown",
   "metadata": {},
   "source": [
    "### 3.1.3 BOW 피처 벡터화 방식\n",
    "\n",
    "BOW의 피처 벡터화는 두 가지 방식이 있다.\n",
    "\n",
    "- 카운트 기반의 벡터화\n",
    "- TF-IDF (Term Frequency - Inverse Document Frequency) 기반의 벡터화"
   ]
  },
  {
   "cell_type": "markdown",
   "metadata": {},
   "source": [
    "<br>"
   ]
  },
  {
   "cell_type": "markdown",
   "metadata": {},
   "source": [
    "**1. 카운트 기반의 벡터화**\n",
    "\n",
    "- 단어 피처에 값을 부여할 때 각 문서에서 해당 단어가 나타나는 횟수, 즉 Count를 부여하는 경우\n",
    "- 카운트 값이 높을수록 중요한 단어로 인식\n",
    "- 그러나 카운트만 부여할 경우 그 문서의 특징을 나타내기보다는 언어의 특성상 문장에서 자주 사용될 수 밖에 없는 단어까지 높은 값을 부여"
   ]
  },
  {
   "cell_type": "markdown",
   "metadata": {},
   "source": [
    "<br>"
   ]
  },
  {
   "cell_type": "markdown",
   "metadata": {},
   "source": [
    "**2. TF-IDF 벡터화**\n",
    "\n",
    "- 카운트 기반의 벡터화의 문제점을 보완하기 위해 사용\n",
    "- 개별 문서에서 자주 나타나는 단어에 높은 가중치를 주되, 모든 문서에서 전반적으로 자주 나타나는 단어에 대해서는 패널티를 주는 방식으로 값을 부여  \n",
    "(특정 단어가 다른 문서에서 자주 나타나면 해당 단어는 언어 특성상 범용적으로 사용되는 단어일 가능성이 높기 떄문)\n",
    "- 문서마다 텍스트가 길고 문서의 개수가 많은 경우 카운트 방식보다 TF-IDF 방식을 사용하는 것이 더 좋은 예측 성능을 보장할 수 있다."
   ]
  },
  {
   "cell_type": "markdown",
   "metadata": {},
   "source": [
    "> 이미지 (img004.jpg) : "
   ]
  },
  {
   "cell_type": "markdown",
   "metadata": {},
   "source": [
    "$\n",
    "\\quad\n",
    "TFIDF_i = TF_i \\; \\times \\; log {N \\over DF_i}\n",
    "$\n",
    "\n",
    "- $TF_i$ : 개별 문서에서의 단어 $i$ 빈도\n",
    "- $DF_i$ : 단어 $i$를 가지고 있는 문서 개수\n",
    "- $N$ : 전체 문서 개수"
   ]
  },
  {
   "cell_type": "markdown",
   "metadata": {},
   "source": [
    "<br>"
   ]
  },
  {
   "cell_type": "markdown",
   "metadata": {},
   "source": [
    "## 3.2 사이킷런의 Count 및 TF-IDF 벡터화 구현 : `CountVectorizer`, `TfidfVectorizer`"
   ]
  },
  {
   "cell_type": "markdown",
   "metadata": {},
   "source": [
    "### 3.2.1 `CountVectorizer` 클래스\n",
    "\n",
    "- 사이킷런의 카운트 기반의 벡터화를 구현한 클래스\n",
    "- 단지 피처 벡터화만 수행하지는 않으며 소문자 일괄 변환, 토큰화, 스톱 워드 필터링 등의 텍스트 전처리도 함께 수행\n",
    "- `CountVectorizer`에 이러한 텍스트 전처리 및 피처 벡터화를 위한 입력 파라미터를 설정해 동작함\n",
    "- 다른 피처 변환 클래스와 마찬가지로 `fit()`과 `transform()`을 통해 피처 벡터화된 객체를 반환"
   ]
  },
  {
   "cell_type": "markdown",
   "metadata": {},
   "source": [
    "<br>"
   ]
  },
  {
   "cell_type": "markdown",
   "metadata": {},
   "source": [
    "**`CountVectorizer`의 입력 파라미터**\n",
    "\n",
    "| 파라미터명      | 파라미터 설명                                                |\n",
    "| --------------- | ------------------------------------------------------------ |\n",
    "| `max_df`        | - 전체 문서에 걸쳐서 너무 높은 빈도수를 가지는 단어 피처를 제외하기 위한 파라미터<br />- 높은 빈도수를 가지는 단어는 스톱 워드와 비슷한 문법적인 특성으로 반복되는 단어일 가능성이 높음<br />- 정수값 지정 시 전체 문서에 걸쳐서 n개 이하로 나타나는 단어만 피처로 추출<br />- 부동소수점 값(0.0 ~ 1.0) 지정 시 전체 문서에 걸쳐서 빈도수 0~95%까지의 단어만 피처로 추출하고 나머지 상위 5%는 피처로 추출하지 않음 |\n",
    "| `min_df`        | - 전체 문서에 걸쳐서 너무 낮은 빈도수를 가지는 단어를 제외하기 위한 파라미터<br />- 적은 빈도수를 가지는 단어는 garbage성 단어일 확률이 높음<br />- 정수값 지정 시 전체 문서에서 n번 이하로 나타나는 단어는 피처로 추출하지 않음<br />- 부동소수점 값(0.0 ~  1.0) 지정 시 전체 문서에서 하위 2% 이하의 빈도수를 가지는 단어는 피처로 추출하지 않음 |\n",
    "| `max_features`  | - 추출하는 피처의 개수를 제한<br />- 정수로 값을 지정        |\n",
    "| `stop_words`    | - 'english'로 지정하면 영어의 스톱 워드로 지정된 단어는 추출에서 제외 |\n",
    "| `n_gram_range`  | - BOW 모델의 단어 순서를 보강하기 위한 n_gram 범위를 설정<br />- 튜플 형태(범위 최솟값, 범위 최댓값)로 지정<br />- ex) `(1,1)` : 토큰화된 단어를 1개씩 피처로 추출<br />- ex) `(1,2)` : 토큰화된 단어를 1개씩, 그리고 순서대로 2개씩 묶어서 피처로 추출 |\n",
    "| `analyzer`      | - 피처 추출을 수행한 단위를 지정<br />- 디폴트값 : `word`<br />- character의 특정 범위를 피처로 만드는 특정한 경우 등을 적용할 때 사용 |\n",
    "| `token_pattern` | - 토큰화를 수행하는 정규 표현식 패턴을 지정<br />- 디폴트값 : `\\b\\w\\w+\\b` (공백, 개행 문자 등으로 구분된 단어 분리자(`\\b`) 사이의 2문자(문자 또는 숫자, 즉 영숫자) 이상의 단어(word)를 토큰으로 분리)<br />- `analyzer='word'` 로 설정했을 때만 변경 가능 |\n",
    "| `tokenizer`     | - 토큰화를 별도의 커스텀 함수로 이용 시 적용<br />- 일반적으로 `CountTokenizer` 클래스에서 어근 변환 시 이를 수행하는 별도의 함수를 `tokenizer` 파라미터에 적용하면 됨 |"
   ]
  },
  {
   "cell_type": "markdown",
   "metadata": {},
   "source": [
    "<br>"
   ]
  },
  {
   "cell_type": "markdown",
   "metadata": {},
   "source": [
    "**`CountVectorizer` 클래스를 이용한 피처 벡터화 방법**\n",
    "\n",
    "1. 영어의 경우 모든 문자를 소문자로 변경하는 등의 전처리 작업을 수행\n",
    "2. 디폴트로 단어 기준으로 `n_gram_range`를 반영해 각 단어를 토큰화함\n",
    "3. 테스트 정규화를 수행\n",
    "  - 단, `stop_words='english'`와 같이 `stop_words` 파라미터가 주어진 경우 스톱 워드 필터링만 가능"
   ]
  },
  {
   "cell_type": "markdown",
   "metadata": {},
   "source": [
    "Stemming과 Lemmatization 같은 어근 변환은 `CountVectorizer`에서 직접 지원하지 않음  \n",
    "(`tokenizer` 파라미터에 커스텀 어근 변환 함수를 적용하여 어근 변환을 수행할 수 있음)"
   ]
  },
  {
   "cell_type": "markdown",
   "metadata": {},
   "source": [
    "> 이미지 (img005.jpg) : CountVectorizer를 이용한 피처 벡터화"
   ]
  },
  {
   "cell_type": "markdown",
   "metadata": {},
   "source": [
    "<br>"
   ]
  },
  {
   "cell_type": "markdown",
   "metadata": {},
   "source": [
    "### 3.2.2 `TfidfVectorizer` 클래스\n",
    "\n",
    "- 사이킷런에서 TF-IDF 벡터화는 `TfidfVectorizer` 클래스를 이용\n",
    "- 파라미터와 변환 방법은 `CountVecotrizer`와 동일"
   ]
  },
  {
   "cell_type": "markdown",
   "metadata": {},
   "source": [
    "<br>"
   ]
  },
  {
   "cell_type": "markdown",
   "metadata": {},
   "source": [
    "## 3.3 BOW 벡터화를 위한 희소 행렬"
   ]
  },
  {
   "cell_type": "markdown",
   "metadata": {},
   "source": [
    "사이킷런의 `CountVectorizer` / `TfidfVectorizer`를 이용해 텍스트를 피처 단위로 벡터화해 변환하고 CSR 형태의 희소 행렬을 반환\n",
    "\n",
    "좀 더 난이도가 있는 ML 모델을 수립하기 위해서는 피처 벡터화된 희소 행렬이 어떤 형태로 돼 있는 지 알아야 한다."
   ]
  },
  {
   "cell_type": "markdown",
   "metadata": {},
   "source": [
    "<br>"
   ]
  },
  {
   "cell_type": "markdown",
   "metadata": {},
   "source": [
    "### 3.3.1 희소 행렬에 관한 설명\n",
    "\n",
    "모든 문서에 있는 단어를 추출해 이를 피처로 벡터화하는 방법은 많은 피처 컬럼을 만들 수 밖에 없다.\n",
    "\n",
    "모든 문서에 있는 단어를 중복을 제거하고 피처로 만들면 일반적으로 수만 개에서 수십만 개의 단어가 만들어진다.\n",
    "\n",
    "n-gram을 (1,2) 나 (1,3)으로 증가시키녀 컬럼 수는 더욱 증가한다.\n",
    "\n",
    "이러한 대규모의 행렬이 생성되더라도 레코드의 각 문서가 가지는 단어의 수는 제한적이기 때문에 이 행렬의 값은 대부분 0이 차지하게 된다.\n",
    "\n",
    "이처럼 대규모 행렬의 대부분의 값을 0이 차지하는 행렬을 **희소 행렬**이라고 한다.\n",
    "\n",
    "BOW 형태를 가진 언어 모델의 피처 벡터화는 대부분 희소 행렬이다."
   ]
  },
  {
   "cell_type": "markdown",
   "metadata": {},
   "source": [
    "<div style=\"text-align: left; margin-left : 30px;\">\n",
    "\t<img src=\"images/Ch08/03/img006.jpg\" width=\"800px\">\n",
    "</div>"
   ]
  },
  {
   "cell_type": "markdown",
   "metadata": {},
   "source": [
    "BOW의 Vectorization 모델은 너무 많은 0값이 메모리 공간에 할당되어 많은 메모리 공간이 필요하며 연산 시에도 데이터 엑세스를 위한 많은 시간이 소모된다.\n",
    "\n",
    "이러한 희소 행렬을 물리적으로 적은 메모리 공간을 차지할 수 있도록 변환해야 한다."
   ]
  },
  {
   "cell_type": "markdown",
   "metadata": {},
   "source": [
    "**대표적인 변환 방법**\n",
    "\n",
    "- COO 형식\n",
    "- CSR 형식\n",
    "\n",
    "일반적으로 큰 희소 행렬을 저장하고 계산을 수행하는 능력이 **CSR 형식**이 더 뛰어나기 때문에 CSR을 많이 사용"
   ]
  },
  {
   "cell_type": "markdown",
   "metadata": {},
   "source": [
    "<br>"
   ]
  },
  {
   "cell_type": "markdown",
   "metadata": {},
   "source": [
    "## 3.4 희소 행렬 - COO 형식"
   ]
  },
  {
   "cell_type": "markdown",
   "metadata": {},
   "source": [
    "### 3.4.1 COO(Coordinate: 좌표) 형식\n",
    "\n",
    "0이 아닌 데이터만 별도의 데이터 배열(Array)에 저장\n",
    "\n",
    "그 데이터가 가리키는 행과 열의 위치를 별도의 배열로 저장하는 방식\n",
    "\n",
    "ex) `[[3, 0, 1], [0, 2, 0]]` 과 같은 2차원 데이터가 있다고 가정\n",
    "\n",
    "- 0이 아닌 데이터 : `[3, 1, 2]`\n",
    "- 0이 아닌 데이터가 있는 위치를 `(row, col)`로 표시 $\\rightarrow$ `(0,0)`, `(0,2)`, `(1,1)`\n",
    "- 로우와 컬럼을 별도의 배열로 저장  \n",
    "$\\rightarrow$ 로우 : `[0, 0, 1]`  \n",
    "$\\rightarrow$ 컬럼 : `[0, 2, 1]`"
   ]
  },
  {
   "cell_type": "markdown",
   "metadata": {},
   "source": [
    "<br>"
   ]
  },
  {
   "cell_type": "markdown",
   "metadata": {},
   "source": [
    "파이썬에서는 사이파이(Scipy)를 이용해 희소 행렬 변환 실시\n",
    "\n",
    "사이파이의 `sparse` 패키지는 희소 행렬 변환을 위한 다양한 모듈을 제공"
   ]
  },
  {
   "cell_type": "code",
   "execution_count": 5,
   "metadata": {},
   "outputs": [
    {
     "data": {
      "text/plain": [
       "array([[3, 0, 1],\n",
       "       [0, 2, 0]])"
      ]
     },
     "execution_count": 5,
     "metadata": {},
     "output_type": "execute_result"
    }
   ],
   "source": [
    "# 넘파이 ndarray 객체 생성\n",
    "import numpy as np\n",
    "\n",
    "dense = np.array([[3, 0, 1], [0, 2, 0]])\n",
    "dense"
   ]
  },
  {
   "cell_type": "markdown",
   "metadata": {},
   "source": [
    "<br>"
   ]
  },
  {
   "cell_type": "markdown",
   "metadata": {},
   "source": [
    "밀집 행렬 `dense` 를 사이파이의 `coo_matrix` 클래스를 이용해 COO 형식의 희소 행렬로 변환\n",
    "\n",
    "0이 아닌 데이터를 별도의 배열 데이터로 만들고, 행 위치 배열과 열 위치 배열을 각각 만든 후 `coo_matrix()` 내에 생성 파라미터로 입력"
   ]
  },
  {
   "cell_type": "code",
   "execution_count": 3,
   "metadata": {},
   "outputs": [],
   "source": [
    "from scipy import sparse\n",
    "\n",
    "# 0이 아닌 데이터 추출\n",
    "data = np.array([3, 1, 2])\n",
    "\n",
    "# 행 위치와 열 위치를 각각 배열로 생성\n",
    "row_pos = np.array([0, 0, 1])\n",
    "col_pos = np.array([0, 2, 1])\n",
    "\n",
    "# sparse 패키지의 coo_matrix를 이용해 COO 형식으로 희소 행렬 생성\n",
    "sparse_coo = sparse.coo_matrix((data, (row_pos, col_pos)))"
   ]
  },
  {
   "cell_type": "markdown",
   "metadata": {},
   "source": [
    "<br>"
   ]
  },
  {
   "cell_type": "markdown",
   "metadata": {},
   "source": [
    "`sparse_coo`는 COO 형식의 희소 행렬 객체 변수이다.\n",
    "\n",
    "이를 `toarray()` 메서드를 이용해 다시 밀집 형태의 행렬로 출력"
   ]
  },
  {
   "cell_type": "code",
   "execution_count": 4,
   "metadata": {},
   "outputs": [
    {
     "data": {
      "text/plain": [
       "array([[3, 0, 1],\n",
       "       [0, 2, 0]])"
      ]
     },
     "execution_count": 4,
     "metadata": {},
     "output_type": "execute_result"
    }
   ],
   "source": [
    "sparse_coo.toarray()"
   ]
  },
  {
   "cell_type": "markdown",
   "metadata": {},
   "source": [
    "<br>"
   ]
  },
  {
   "cell_type": "markdown",
   "metadata": {},
   "source": [
    "## 3.5 희소 행렬 - CSR 형식"
   ]
  },
  {
   "cell_type": "markdown",
   "metadata": {},
   "source": [
    "### 3.5.1 CSR(Compressed Sparse Row) 형식\n",
    "\n",
    "COO 형식이 행과 열의 위치를 나타내기 위해서 반복적인 위치 데이터를 사용해야 하는 문제점을 해결한 방식"
   ]
  },
  {
   "cell_type": "markdown",
   "metadata": {},
   "source": [
    "<br>"
   ]
  },
  {
   "cell_type": "markdown",
   "metadata": {},
   "source": [
    "### 3.5.2 COO 변환 형식의 문제점\n",
    "\n",
    "다음과 같은 2차원 배열을 COO 형식으로 변환\n",
    "\n",
    "`[[0,0,1,0,0,5], [1,4,0,3,2,5], [0,6,0,3,0,0], [2,0,0,0,0,0], [0,0,0,7,0,8], [1,0,0,0,0,0]]`"
   ]
  },
  {
   "cell_type": "markdown",
   "metadata": {},
   "source": [
    "$\\rightarrow$ 데이터 배열 : `[1, 5, 1, 4, 3, 2, 5, 6, 3, 2, 7, 8, 1]`  \n",
    "$\\rightarrow$ 행 위치 배열 : `[0, 0, 1, 1, 1, 1, 1, 2, 2, 3, 4, 4, 5]`  \n",
    "$\\rightarrow$ 열 위치 배열 : `[2, 5, 0, 1, 3, 4, 5, 1, 3, 0, 3, 5, 0]`"
   ]
  },
  {
   "cell_type": "markdown",
   "metadata": {},
   "source": [
    "> 이미지 (img007.jpg)"
   ]
  },
  {
   "cell_type": "markdown",
   "metadata": {},
   "source": [
    "행 위치 배열은 순차적인 같은 값이 반복적으로 나타남 (0이 2번, 1이 5번 반복됨)\n",
    "\n",
    "행 위치 배열이 0부터 순차적으로 증가하는 값으로 이뤄졌다는 특성을 고려하면 행 위치 배열의 고유한 값의 시작 위치만 표기하는 방법으로 이러한 방법을 제거할 수 있음  \n",
    "(즉, 위치의 위치를 표기하라는 것)\n",
    "\n",
    "행 위치 배열의 첫 번째(인덱스 0) = 0  \n",
    "행 위치 배열의 두 번쨰(인덱스 1) = 0  \n",
    "행 위치 배열의 세 번째(인덱스 2) = 1\n",
    "\n",
    "$\\rightarrow$ 행 위치 배열의 고유 값 시작 위치는 첫 번째와 세 번째이고 인덱스 기준으로 `[0, 2]` 이다.\n",
    "\n",
    "CSR :  Compressed Sparse Row $\\rightarrow$ 압축된 희소 행\n",
    "\n",
    "이처럼 행 위치 배열 내에 있는 고유한 값의 시작 위치만 다시 별도의 위치 배열로 가지는 변환 방식을 의미"
   ]
  },
  {
   "cell_type": "markdown",
   "metadata": {},
   "source": [
    "<br>"
   ]
  },
  {
   "cell_type": "markdown",
   "metadata": {},
   "source": [
    "### 3.5.3 CSR 변환 방식 설명\n",
    "\n",
    "행 위치 배열 `[0, 0, 1, 1, 1, 1, 1, 2, 2, 3, 4, 4, 5]` 를 CSR로 변환\n",
    "\n",
    "$\\rightarrow$ `[0, 2, 7, 9, 10, 12]`\n",
    "\n",
    "그리고 맨 마지막에는 데이터의 총 항목 개수를 배열에 추가\n",
    "\n",
    "최종적으로 CSR 변환되는 배열 : `[0, 2, 7, 9, 10, 12, 13]`\n",
    "\n",
    "이렇게 고유 값의 시작 위치만 알고 있으면 얼마든지 행 위치 배열을 다시 만들 수 있기에 COO 방식보다 메모리가 적게 들고 빠른 연산이 가능"
   ]
  },
  {
   "cell_type": "markdown",
   "metadata": {},
   "source": [
    "> 이미지 (img008.jpg)"
   ]
  },
  {
   "cell_type": "markdown",
   "metadata": {},
   "source": [
    "<br>"
   ]
  },
  {
   "cell_type": "markdown",
   "metadata": {},
   "source": [
    "### 3.5.4 `csr_matrix` 클래스를 이용한 CSR 방식의 변환\n",
    "\n",
    "0이 아닌 데이터 배열과 열 위치 배열, 그리고 행 위치 배열의 고유한 값의 시작 위치 배열을 `csr_matrix`의 생성 파라미터로 입력"
   ]
  },
  {
   "cell_type": "code",
   "execution_count": 6,
   "metadata": {},
   "outputs": [
    {
     "name": "stdout",
     "output_type": "stream",
     "text": [
      "COO 변환된 데이터가 제대로 되었는 지 다시 Dense로 출력 확인\n",
      "[[0 0 1 0 0 5]\n",
      " [1 4 0 3 2 5]\n",
      " [0 6 0 3 0 0]\n",
      " [2 0 0 0 0 0]\n",
      " [0 0 0 7 0 8]\n",
      " [1 0 0 0 0 0]]\n",
      "CSR 변환된 데이터가 제대로 되었는 지 다시 Dense로 출력 확인\n",
      "[[0 0 1 0 0 5]\n",
      " [1 4 0 3 2 5]\n",
      " [0 6 0 3 0 0]\n",
      " [2 0 0 0 0 0]\n",
      " [0 0 0 7 0 8]\n",
      " [1 0 0 0 0 0]]\n"
     ]
    }
   ],
   "source": [
    "from scipy import sparse\n",
    "\n",
    "dense2 = np.array([[0,0,1,0,0,5],\n",
    "                   [1,4,0,3,2,5],\n",
    "                   [0,6,0,3,0,0],\n",
    "                   [2,0,0,0,0,0],\n",
    "                   [0,0,0,7,0,8],\n",
    "                   [1,0,0,0,0,0]])\n",
    "\n",
    "# 0 이 아닌 데이터 추출\n",
    "data2 = np.array([1, 5, 1, 4, 3, 2, 5, 6, 3, 2, 7, 8, 1])\n",
    "\n",
    "# 행 위치와 열 위치를 각각 array로 생성 \n",
    "row_pos = np.array([0, 0, 1, 1, 1, 1, 1, 2, 2, 3, 4, 4, 5])\n",
    "col_pos = np.array([2, 5, 0, 1, 3, 4, 5, 1, 3, 0, 3, 5, 0])\n",
    "\n",
    "# COO 형식으로 변환\n",
    "sparse_coo = sparse.coo_matrix((data2, (row_pos, col_pos)))\n",
    "\n",
    "# 행 위치 배열의 고유한 값의 시작 위치 인덱스를 배열로 생성\n",
    "row_pos_ind = np.array([0, 2, 7, 9, 10, 12, 13])\n",
    "\n",
    "# CSR 형식으로 변환\n",
    "sparse_csr = sparse.csr_matrix((data2, col_pos, row_pos_ind))\n",
    "\n",
    "print('COO 변환된 데이터가 제대로 되었는 지 다시 Dense로 출력 확인')\n",
    "print(sparse_coo.toarray())\n",
    "\n",
    "print('CSR 변환된 데이터가 제대로 되었는 지 다시 Dense로 출력 확인')\n",
    "print(sparse_csr.toarray())"
   ]
  },
  {
   "cell_type": "markdown",
   "metadata": {},
   "source": [
    "<br>"
   ]
  },
  {
   "cell_type": "markdown",
   "metadata": {},
   "source": [
    "실제 사용 시에는 다음과 같이 밀집 행렬을 생성 파라미터로 입력하면 COO나 CSR 희소 행렬로 생성한다."
   ]
  },
  {
   "cell_type": "code",
   "execution_count": 8,
   "metadata": {},
   "outputs": [],
   "source": [
    "dense3 = np.array([[0,0,1,0,0,5],\n",
    "                   [1,4,0,3,2,5],\n",
    "                   [0,6,0,3,0,0],\n",
    "                   [2,0,0,0,0,0],\n",
    "                   [0,0,0,7,0,8],\n",
    "                   [1,0,0,0,0,0]])\n",
    "\n",
    "coo = sparse.coo_matrix(dense3)\n",
    "csr = sparse.csr_matrix(dense3)"
   ]
  },
  {
   "cell_type": "markdown",
   "metadata": {},
   "source": [
    "<br>"
   ]
  },
  {
   "cell_type": "markdown",
   "metadata": {},
   "source": [
    "사이킷런의 `CountVectorizer`나 `TfidfVectorizer` 클래스로 변환된 피처 벡터화 행렬은 모두 사이파이의 CSR 형태의 희소 행렬이다."
   ]
  }
 ],
 "metadata": {
  "kernelspec": {
   "display_name": "Python 3",
   "language": "python",
   "name": "python3"
  },
  "language_info": {
   "codemirror_mode": {
    "name": "ipython",
    "version": 3
   },
   "file_extension": ".py",
   "mimetype": "text/x-python",
   "name": "python",
   "nbconvert_exporter": "python",
   "pygments_lexer": "ipython3",
   "version": "3.6.9"
  }
 },
 "nbformat": 4,
 "nbformat_minor": 4
}
