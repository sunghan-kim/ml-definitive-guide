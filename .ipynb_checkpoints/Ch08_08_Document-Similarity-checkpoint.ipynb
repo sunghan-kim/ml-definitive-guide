{
 "cells": [
  {
   "cell_type": "markdown",
   "metadata": {},
   "source": [
    "# 08. 문서 유사도\n",
    "\n",
    "p522(541)"
   ]
  },
  {
   "cell_type": "code",
   "execution_count": 1,
   "metadata": {},
   "outputs": [],
   "source": [
    "import warnings\n",
    "warnings.filterwarnings('ignore')"
   ]
  },
  {
   "cell_type": "markdown",
   "metadata": {},
   "source": [
    "<br>"
   ]
  },
  {
   "cell_type": "markdown",
   "metadata": {},
   "source": [
    "## 8.1 문서 유사도 측정 방법 - 코사인 유사도\n",
    "\n",
    "- 문서와 문서 간의 유사도 비교는 일반적으로 **코사인 유사도(Cosine Similarity)**를 사용\n",
    "- 코사인 유사도는 벡터와 벡터 간의 유사도를 비교할 때 벡터의 크기보다는 벡터의 **상호 방향성이 얼마나 유사한지**에 기반함\n",
    "- 즉, 코사인 유사도는 두 벡터 사이의 **사잇각**을 구해서 얼마나 유사한 지 수치로 적용한 것"
   ]
  },
  {
   "cell_type": "markdown",
   "metadata": {},
   "source": [
    "<img src=\"images/ch08/08/img001.jpg\" width=\"300px\"/>"
   ]
  },
  {
   "cell_type": "markdown",
   "metadata": {},
   "source": [
    "<br>"
   ]
  },
  {
   "cell_type": "markdown",
   "metadata": {},
   "source": [
    "## 8.2 두 벡터 사잇각\n",
    "\n",
    "- 두 벡터의 사잇각에 따라서 상호 관계는 다음과 같은 관계를 가질 수 있다.\n",
    "  - 유사한 관계\n",
    "  - 관련이 없는 관계\n",
    "  - 반대 관계"
   ]
  },
  {
   "cell_type": "markdown",
   "metadata": {},
   "source": [
    "<img src=\"images/ch08/08/img002.jpg\" width=\"600px\"/>"
   ]
  },
  {
   "cell_type": "markdown",
   "metadata": {},
   "source": [
    "<br>"
   ]
  },
  {
   "cell_type": "markdown",
   "metadata": {},
   "source": [
    "### 8.2.1 두 벡터의 코사인 값\n",
    "\n",
    "- 두 벡터 A와 B의 코사인 값은 다음 식으로 구할 수 있음\n",
    "- 두 벡터 A와 B의 내적 값($A * B$)  \n",
    ": 두 벡터의 크기($||A||$, $||B||$)를 곱한 값에 코사인 각도 값($cos \\theta$)을 곱한 것\n",
    "\n",
    "$$\n",
    "A * B = ||A|| ||B|| cos \\theta\n",
    "$$"
   ]
  },
  {
   "cell_type": "markdown",
   "metadata": {},
   "source": [
    "- 따라서 유사도 $cos \\theta$ 는 다음과 같이 두 벡터의 내적을 총 벡터 크기의 합으로 나눈 것이다.\n",
    "- 즉, 내적 결과를 총 벡터 크기로 **정규화(L2 Norm)**한 것\n",
    "\n",
    "$$\n",
    "similarity = cos \\theta = {A \\cdot B \\over ||A|| ||B|| } = { \\sum_{i=1}^n A_i B_i \\over \\sqrt{\\sum_{i=1}^n A^2_i} \\sqrt{\\sum_{i=1}^n B^2_i} }\n",
    "$$"
   ]
  },
  {
   "cell_type": "code",
   "execution_count": null,
   "metadata": {},
   "outputs": [],
   "source": []
  }
 ],
 "metadata": {
  "kernelspec": {
   "display_name": "Python 3",
   "language": "python",
   "name": "python3"
  },
  "language_info": {
   "codemirror_mode": {
    "name": "ipython",
    "version": 3
   },
   "file_extension": ".py",
   "mimetype": "text/x-python",
   "name": "python",
   "nbconvert_exporter": "python",
   "pygments_lexer": "ipython3",
   "version": "3.6.9"
  }
 },
 "nbformat": 4,
 "nbformat_minor": 4
}
