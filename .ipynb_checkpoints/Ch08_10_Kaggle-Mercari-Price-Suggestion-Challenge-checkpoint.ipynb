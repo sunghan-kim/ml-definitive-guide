{
 "cells": [
  {
   "cell_type": "markdown",
   "metadata": {},
   "source": [
    "# 10. 텍스트 분석 실습 - 캐글 Mercari Price Suggestion Challenge\n",
    "\n",
    "p538(557)~"
   ]
  },
  {
   "cell_type": "code",
   "execution_count": 1,
   "metadata": {},
   "outputs": [],
   "source": [
    "import warnings\n",
    "warnings.filterwarnings('ignore')"
   ]
  },
  {
   "cell_type": "markdown",
   "metadata": {},
   "source": [
    "<br>"
   ]
  },
  {
   "cell_type": "markdown",
   "metadata": {},
   "source": [
    "## 10.1 대회 소개\n",
    "\n",
    "- Mercari Price Suggestion Challenge는 캐글에서 진행된 Challenge\n",
    "- 일본의 대형 온라인 쇼핑몰인 Mercari사의 제품에 대해 가격을 예측하는 과제\n",
    "- 제공되는 데이터 세트는 제품에 대한 여러 속성 및 제품 설명 등의 텍스트 데이터로 구성\n",
    "- Mercari사는 이러한 데이터를 기반으로 제품 예상 가격을 판매자들에게 제공하고자 한다.\n",
    "- 이와 같은 프로세스를 구현하기 위해 판매자는 제품명, 브랜드명, 카테고리, 제품 설명 등 다양한 속성 정보를 입력\n",
    "- ML 모델은 이 속성에 따라 제품의 예측 가격을 판매자에게 자동으로 제공할 수 있다."
   ]
  },
  {
   "cell_type": "markdown",
   "metadata": {},
   "source": [
    "<br>"
   ]
  },
  {
   "cell_type": "markdown",
   "metadata": {},
   "source": [
    "### 10.1.1 데이터 세트 다운로드\n",
    "\n",
    "- [다운로드 링크](https://www.kaggle.com/c/mercari-price-suggestion-challenge/data)"
   ]
  },
  {
   "cell_type": "markdown",
   "metadata": {},
   "source": [
    "<br>"
   ]
  },
  {
   "cell_type": "markdown",
   "metadata": {},
   "source": [
    "### 10.1.2 데이터 세트 속성\n",
    "\n",
    "- `train_id` : 데이터 ID\n",
    "- `name` : 제품명\n",
    "- `item_condition_id` : 판매자가 제공하는 제품 상태\n",
    "- `category_name` : 카테고리명\n",
    "- `brand_name` : 브랜드 이름\n",
    "- `price` : 제품 가격, 예측을 위한 **타깃 속성**\n",
    "- `shipping` : 배송비 모류 여부\n",
    "  - `1` : 무료 (판매자가 지불)\n",
    "  - `0` : 유로 (구매자가 지불)\n",
    "- `item_description` : 제품에 대한 설명"
   ]
  },
  {
   "cell_type": "markdown",
   "metadata": {},
   "source": [
    "- `price`가 예측해야 할 타깃 값이다.\n",
    "- 회귀로 피처를 학습한 뒤 `price`를 예측하는 문제\n",
    "- Mercari Price Suggestion이 기존 회귀 예제와 다른 점은 `item_description`과 같은 텍스트 형태의 비정형 데이터와 다른 정형 속성을 같이 적용해 휘귀를 수행한다는 점이다."
   ]
  },
  {
   "cell_type": "markdown",
   "metadata": {},
   "source": [
    "<br>"
   ]
  },
  {
   "cell_type": "markdown",
   "metadata": {},
   "source": [
    "## 10.2 데이터 전처리"
   ]
  },
  {
   "cell_type": "markdown",
   "metadata": {},
   "source": [
    "### 10.2.1 데이터셋 로드\n",
    "\n",
    "- 필요한 라이브러리와 `mercari_train.tsv` 데이터를 DataFrame으로 로딩\n",
    "- 데이터를 간략하게 확인"
   ]
  },
  {
   "cell_type": "code",
   "execution_count": 3,
   "metadata": {},
   "outputs": [
    {
     "name": "stdout",
     "output_type": "stream",
     "text": [
      "(1482535, 8)\n"
     ]
    },
    {
     "data": {
      "text/html": [
       "<div>\n",
       "<style scoped>\n",
       "    .dataframe tbody tr th:only-of-type {\n",
       "        vertical-align: middle;\n",
       "    }\n",
       "\n",
       "    .dataframe tbody tr th {\n",
       "        vertical-align: top;\n",
       "    }\n",
       "\n",
       "    .dataframe thead th {\n",
       "        text-align: right;\n",
       "    }\n",
       "</style>\n",
       "<table border=\"1\" class=\"dataframe\">\n",
       "  <thead>\n",
       "    <tr style=\"text-align: right;\">\n",
       "      <th></th>\n",
       "      <th>train_id</th>\n",
       "      <th>name</th>\n",
       "      <th>item_condition_id</th>\n",
       "      <th>category_name</th>\n",
       "      <th>brand_name</th>\n",
       "      <th>price</th>\n",
       "      <th>shipping</th>\n",
       "      <th>item_description</th>\n",
       "    </tr>\n",
       "  </thead>\n",
       "  <tbody>\n",
       "    <tr>\n",
       "      <td>0</td>\n",
       "      <td>0</td>\n",
       "      <td>MLB Cincinnati Reds T Shirt Size XL</td>\n",
       "      <td>3</td>\n",
       "      <td>Men/Tops/T-shirts</td>\n",
       "      <td>NaN</td>\n",
       "      <td>10.0</td>\n",
       "      <td>1</td>\n",
       "      <td>No description yet</td>\n",
       "    </tr>\n",
       "    <tr>\n",
       "      <td>1</td>\n",
       "      <td>1</td>\n",
       "      <td>Razer BlackWidow Chroma Keyboard</td>\n",
       "      <td>3</td>\n",
       "      <td>Electronics/Computers &amp; Tablets/Components &amp; P...</td>\n",
       "      <td>Razer</td>\n",
       "      <td>52.0</td>\n",
       "      <td>0</td>\n",
       "      <td>This keyboard is in great condition and works ...</td>\n",
       "    </tr>\n",
       "    <tr>\n",
       "      <td>2</td>\n",
       "      <td>2</td>\n",
       "      <td>AVA-VIV Blouse</td>\n",
       "      <td>1</td>\n",
       "      <td>Women/Tops &amp; Blouses/Blouse</td>\n",
       "      <td>Target</td>\n",
       "      <td>10.0</td>\n",
       "      <td>1</td>\n",
       "      <td>Adorable top with a hint of lace and a key hol...</td>\n",
       "    </tr>\n",
       "  </tbody>\n",
       "</table>\n",
       "</div>"
      ],
      "text/plain": [
       "   train_id                                 name  item_condition_id  \\\n",
       "0         0  MLB Cincinnati Reds T Shirt Size XL                  3   \n",
       "1         1     Razer BlackWidow Chroma Keyboard                  3   \n",
       "2         2                       AVA-VIV Blouse                  1   \n",
       "\n",
       "                                       category_name brand_name  price  \\\n",
       "0                                  Men/Tops/T-shirts        NaN   10.0   \n",
       "1  Electronics/Computers & Tablets/Components & P...      Razer   52.0   \n",
       "2                        Women/Tops & Blouses/Blouse     Target   10.0   \n",
       "\n",
       "   shipping                                   item_description  \n",
       "0         1                                 No description yet  \n",
       "1         0  This keyboard is in great condition and works ...  \n",
       "2         1  Adorable top with a hint of lace and a key hol...  "
      ]
     },
     "execution_count": 3,
     "metadata": {},
     "output_type": "execute_result"
    }
   ],
   "source": [
    "from sklearn.linear_model import Ridge, LogisticRegression\n",
    "from sklearn.model_selection import train_test_split, cross_val_score\n",
    "from sklearn.feature_extraction.text import CountVectorizer, TfidfVectorizer\n",
    "import pandas as pd\n",
    "\n",
    "mercari_df = pd.read_csv('./data/Mercari/mercari_train.tsv', sep='\\t')\n",
    "print(mercari_df.shape)\n",
    "mercari_df.head(3)"
   ]
  },
  {
   "cell_type": "markdown",
   "metadata": {},
   "source": [
    "- 1482535개의 레코드를 가지고 있는 데이터 세트"
   ]
  },
  {
   "cell_type": "markdown",
   "metadata": {},
   "source": [
    "<br>"
   ]
  },
  {
   "cell_type": "markdown",
   "metadata": {},
   "source": [
    "### 10.2.2 피처 타입 및 Nul 여부 확인"
   ]
  },
  {
   "cell_type": "code",
   "execution_count": 4,
   "metadata": {},
   "outputs": [
    {
     "name": "stdout",
     "output_type": "stream",
     "text": [
      "<class 'pandas.core.frame.DataFrame'>\n",
      "RangeIndex: 1482535 entries, 0 to 1482534\n",
      "Data columns (total 8 columns):\n",
      "train_id             1482535 non-null int64\n",
      "name                 1482535 non-null object\n",
      "item_condition_id    1482535 non-null int64\n",
      "category_name        1476208 non-null object\n",
      "brand_name           849853 non-null object\n",
      "price                1482535 non-null float64\n",
      "shipping             1482535 non-null int64\n",
      "item_description     1482531 non-null object\n",
      "dtypes: float64(1), int64(3), object(4)\n",
      "memory usage: 90.5+ MB\n",
      "None\n"
     ]
    }
   ],
   "source": [
    "print(mercari_df.info())"
   ]
  },
  {
   "cell_type": "markdown",
   "metadata": {},
   "source": [
    "<br>"
   ]
  },
  {
   "cell_type": "markdown",
   "metadata": {},
   "source": [
    "**`brand_name`**\n",
    "\n",
    "- `brand_name` 컬럼의 경우 매우 많은 Null값을 가지고 있음\n",
    "  - 전체 1482535건 중에 849853건만 Not null이다.\n",
    "- `brand_name`은 가격에 영향을 미치는 중요 요인으로 판단되지만, 많은 데이터가 Null로 되어 있다."
   ]
  },
  {
   "cell_type": "markdown",
   "metadata": {},
   "source": [
    "<br>"
   ]
  },
  {
   "cell_type": "markdown",
   "metadata": {},
   "source": [
    "**`category_name`**\n",
    "\n",
    "- `category_name`은 약 6300건의 null 데이터를 가지고 있음"
   ]
  },
  {
   "cell_type": "markdown",
   "metadata": {},
   "source": [
    "<br>"
   ]
  },
  {
   "cell_type": "markdown",
   "metadata": {},
   "source": [
    "**`item_description`**\n",
    "\n",
    "- `item_description`의 null값은 4건으로 미비하다."
   ]
  },
  {
   "cell_type": "markdown",
   "metadata": {},
   "source": [
    "<br>"
   ]
  },
  {
   "cell_type": "markdown",
   "metadata": {},
   "source": [
    "이 Null 데이터는 이후에 적절한 문자열로 치환"
   ]
  },
  {
   "cell_type": "markdown",
   "metadata": {},
   "source": [
    "<br>"
   ]
  },
  {
   "cell_type": "markdown",
   "metadata": {},
   "source": [
    "### 10.2.3 Target 컬럼 분포 확인\n",
    "\n",
    "- Target 값인 `price` 컬럼의 데이터 분포도 확인\n",
    "- 회귀에서 Target 값의 정규 분포도는 매우 중요하다.\n",
    "- 왜곡돼 있을 경우 보통 로그를 씌워서 변환하면 대부분 정규 분포의 형태를 가지게 된다."
   ]
  },
  {
   "cell_type": "markdown",
   "metadata": {},
   "source": [
    "- `price` 컬럼의 데이터 값 분포도 확인"
   ]
  },
  {
   "cell_type": "code",
   "execution_count": 5,
   "metadata": {},
   "outputs": [
    {
     "data": {
      "image/png": "[encoded data removed]",
      "text/plain": [
       "<Figure size 432x288 with 1 Axes>"
      ]
     },
     "metadata": {
      "needs_background": "light"
     },
     "output_type": "display_data"
    }
   ],
   "source": [
    "import matplotlib.pyplot as plt\n",
    "import seaborn as sns\n",
    "%matplotlib inline\n",
    "\n",
    "y_train_df = mercari_df['price']\n",
    "plt.figure(figsize=(6,4))\n",
    "sns.distplot(y_train_df, kde=False)\n",
    "plt.show()"
   ]
  },
  {
   "cell_type": "markdown",
   "metadata": {},
   "source": [
    "- `price` 값이 비교적 적은 가격을 가진 데이터 값에 왜곡되어 분포돼 있다."
   ]
  },
  {
   "cell_type": "markdown",
   "metadata": {},
   "source": [
    "<br>"
   ]
  },
  {
   "cell_type": "markdown",
   "metadata": {},
   "source": [
    "### 10.2.4 타깃 컬럼 로그 변환\n",
    "\n",
    "- `Price` 컬럼을 로그 값으로 변환한 뒤 분포도 다시 확인"
   ]
  },
  {
   "cell_type": "code",
   "execution_count": 6,
   "metadata": {},
   "outputs": [
    {
     "data": {
      "image/png": "[encoded data removed]",
      "text/plain": [
       "<Figure size 432x288 with 1 Axes>"
      ]
     },
     "metadata": {
      "needs_background": "light"
     },
     "output_type": "display_data"
    }
   ],
   "source": [
    "import numpy as np\n",
    "\n",
    "y_train_df = np.log1p(y_train_df)\n",
    "sns.distplot(y_train_df, kde=False)\n",
    "plt.show()"
   ]
  },
  {
   "cell_type": "markdown",
   "metadata": {},
   "source": [
    "- 로그 값으로 변환하면 `price` 값이 비교적 정규 분포에 가까운 데이터를 이루게 된다.\n",
    "- 데이터 세트의 `price` 컬럼을 원래 값에서 로그로 변환된 값으로 변경"
   ]
  },
  {
   "cell_type": "code",
   "execution_count": 7,
   "metadata": {},
   "outputs": [
    {
     "data": {
      "text/plain": [
       "0    2.397895\n",
       "1    3.970292\n",
       "2    2.397895\n",
       "Name: price, dtype: float64"
      ]
     },
     "execution_count": 7,
     "metadata": {},
     "output_type": "execute_result"
    }
   ],
   "source": [
    "mercari_df['price'] = np.log1p(mercari_df['price'])\n",
    "mercari_df['price'].head(3)"
   ]
  },
  {
   "cell_type": "markdown",
   "metadata": {},
   "source": [
    "<br>"
   ]
  },
  {
   "cell_type": "markdown",
   "metadata": {},
   "source": [
    "### 10.2.5 피처 분포 확인\n",
    "\n",
    "- 다른 피처의 값도 확인"
   ]
  },
  {
   "cell_type": "markdown",
   "metadata": {},
   "source": [
    "<br>"
   ]
  },
  {
   "cell_type": "markdown",
   "metadata": {},
   "source": [
    "#### 10.2.5.1 `shipping`"
   ]
  },
  {
   "cell_type": "code",
   "execution_count": 8,
   "metadata": {},
   "outputs": [
    {
     "data": {
      "text/plain": [
       "0    819435\n",
       "1    663100\n",
       "Name: shipping, dtype: int64"
      ]
     },
     "execution_count": 8,
     "metadata": {},
     "output_type": "execute_result"
    }
   ],
   "source": [
    "mercari_df['shipping'].value_counts()"
   ]
  },
  {
   "cell_type": "markdown",
   "metadata": {},
   "source": [
    "- `Shipping` 컬럼은 **배송비 유무**\n",
    "- 값이 비교적 균일하다."
   ]
  },
  {
   "cell_type": "markdown",
   "metadata": {},
   "source": [
    "<br>"
   ]
  },
  {
   "cell_type": "markdown",
   "metadata": {},
   "source": [
    "#### 10.2.5.2 `item_condition_id`"
   ]
  },
  {
   "cell_type": "code",
   "execution_count": 9,
   "metadata": {},
   "outputs": [
    {
     "data": {
      "text/plain": [
       "1    640549\n",
       "3    432161\n",
       "2    375479\n",
       "4     31962\n",
       "5      2384\n",
       "Name: item_condition_id, dtype: int64"
      ]
     },
     "execution_count": 9,
     "metadata": {},
     "output_type": "execute_result"
    }
   ],
   "source": [
    "mercari_df['item_condition_id'].value_counts()"
   ]
  },
  {
   "cell_type": "markdown",
   "metadata": {},
   "source": [
    "- `Item_condition_id`는 **판매자가 제공하는 제품 상태**\n",
    "- 각 값이 의미하는 바는 캐글에 기재돼 있지 않아서 알 수 없지만, 1,2,3 값이 주를 이루고 있음"
   ]
  },
  {
   "cell_type": "markdown",
   "metadata": {},
   "source": [
    "<br>"
   ]
  },
  {
   "cell_type": "markdown",
   "metadata": {},
   "source": [
    "#### 10.2.5.3 `item_description`\n",
    "\n",
    "- `item_description` 컬럼은 Null 값은 별로 없음\n",
    "- description에 대한 별도 설명이 없는 경우 'No description yet' 값으로 돼 있다.\n",
    "- 이러한 값이 얼마나 있는 지 확인"
   ]
  },
  {
   "cell_type": "code",
   "execution_count": 10,
   "metadata": {},
   "outputs": [
    {
     "data": {
      "text/plain": [
       "82489"
      ]
     },
     "execution_count": 10,
     "metadata": {},
     "output_type": "execute_result"
    }
   ],
   "source": [
    "boolean_cond = mercari_df['item_description'] == 'No description yet'\n",
    "mercari_df[boolean_cond]['item_description'].count()"
   ]
  },
  {
   "cell_type": "markdown",
   "metadata": {},
   "source": [
    "- `item_description`이 'No description yet`으로 돼 있는 행은 82489건이다.\n",
    "- 'No description yet'의 경우도 Null과 마찬가지로 의미 있는 속성값으로 사용될 수 없으므로 적절한 값으로 변경해야 한다."
   ]
  },
  {
   "cell_type": "markdown",
   "metadata": {},
   "source": [
    "<br>"
   ]
  },
  {
   "cell_type": "markdown",
   "metadata": {},
   "source": [
    "#### 10.2.5.4 `category_name`\n",
    "\n",
    "- `category_name`은 '/'로 분리된 카테고리를 하나의 문자열로 나타내고 있다.\n",
    "  - ex) 'Men/Tops/T-shirts'\n",
    "    - 대분류 : 'Men'\n",
    "    - 중분류 : 'Tops'\n",
    "    - 소분류 : 'T-shirts'\n",
    "- `category_name`은 텍스트이므로 피처 추출 시 `tokenizer`를 '/'로 하여 단어를 분리해 벡터화할 수 도 있음\n",
    "- 여기서는 `category_name`의 '/'를 기준으로 단어를 토큰화해 각각 별도의 피처로 저장하고 이를 이용해 알고리즘을 학습"
   ]
  },
  {
   "cell_type": "markdown",
   "metadata": {},
   "source": [
    "- `category_name` 컬럼을 '/'를 기준으로 대, 중, 소분류로 효과적으로 분리해 내기 위해 별도의 `split_cat()` 함수를 생성\n",
    "- 이 함수를 DataFrame의 `apply lambda` 식에 적용"
   ]
  },
  {
   "cell_type": "markdown",
   "metadata": {},
   "source": [
    "- `category_name` 컬럼은 Null값을 약 6300여 건을 가지고 있으므로 이에 유의하면서 분리해야 한다."
   ]
  },
  {
   "cell_type": "code",
   "execution_count": 11,
   "metadata": {},
   "outputs": [],
   "source": [
    "# apply lambda에서 호출되는 대, 중, 소 분할 함수 생성\n",
    "# 대, 중, 소 값을 리스트로 반환\n",
    "def split_cat(category_name):\n",
    "    try:\n",
    "        # category_name이 Null이 아닌 경우에 split('/')를 이용해 대, 중, 소 분류를 분리\n",
    "        return category_name.split('/')\n",
    "    except:\n",
    "        # category_name이 Null일 경우에는 split() 함수가 Error를 발생하므로 예외 처리\n",
    "        return ['Other_Null','Other_Null','Other_Null']"
   ]
  },
  {
   "cell_type": "markdown",
   "metadata": {},
   "source": [
    "<br>"
   ]
  },
  {
   "cell_type": "markdown",
   "metadata": {},
   "source": [
    "- 대, 중, 소 컬럼은 `mercari_df`에서 `cat_dae`, `cat_jung`, `cat_so`로 부여"
   ]
  },
  {
   "cell_type": "markdown",
   "metadata": {},
   "source": [
    "- 판다스의 `apply lambda`로 반환되는 데이터 세트가 리스트를 요소로 가지고 있는 데 이를 다시 `cat_dae`, `cat_jung`, `cat_so`의 DataFrame 컬럼으로 분리해야 한다.\n",
    "- 이 부분은 다음 코드에서처럼 `zip`과 `*`를 `apply lambda` 식에 적용하면 여러 개의 컬럼으로 간단하게 분리할 수 있다."
   ]
  },
  {
   "cell_type": "code",
   "execution_count": 12,
   "metadata": {},
   "outputs": [],
   "source": [
    "# 위의 split_cat()을 apply lambda에서 호출해 대, 중, 소 컬럼을 mercari_df에 생성\n",
    "mercari_df['cat_dae'], mercari_df['cat_jung'], mercari_df['cat_so'] = \\\n",
    "    zip(*mercari_df['category_name'].apply(lambda x: split_cat(x)))"
   ]
  },
  {
   "cell_type": "code",
   "execution_count": 13,
   "metadata": {},
   "outputs": [
    {
     "name": "stdout",
     "output_type": "stream",
     "text": [
      "대분류 유형 :\n",
      " Women                     664385\n",
      "Beauty                    207828\n",
      "Kids                      171689\n",
      "Electronics               122690\n",
      "Men                        93680\n",
      "Home                       67871\n",
      "Vintage & Collectibles     46530\n",
      "Other                      45351\n",
      "Handmade                   30842\n",
      "Sports & Outdoors          25342\n",
      "Other_Null                  6327\n",
      "Name: cat_dae, dtype: int64 \n",
      "\n",
      "중분류 유형 :\n",
      " 114 \n",
      "\n",
      "소분류 유형 :\n",
      " 871 \n",
      "\n"
     ]
    }
   ],
   "source": [
    "# 대분류만 값의 유형과 건수를 확인\n",
    "# 중분류, 소분류는 값의 유형이 많으므로 분류 개수만 추출\n",
    "print('대분류 유형 :\\n', mercari_df['cat_dae'].value_counts(), '\\n')\n",
    "print('중분류 유형 :\\n', mercari_df['cat_jung'].nunique(), '\\n')\n",
    "print('소분류 유형 :\\n', mercari_df['cat_so'].nunique(), '\\n')"
   ]
  },
  {
   "cell_type": "markdown",
   "metadata": {},
   "source": [
    "- 대분류의 경우 Women, Beauty, Kids 등의 분류가 매우 많다.\n",
    "- 중분류 유형은 114개, 소분류는 871개로 구성"
   ]
  },
  {
   "cell_type": "markdown",
   "metadata": {},
   "source": [
    "<br>"
   ]
  },
  {
   "cell_type": "markdown",
   "metadata": {},
   "source": [
    "#### 10.2.5.5 `brand_name`, `category_name`, `item_description` Null값 처리\n",
    "\n",
    "- `brand_name`, `category_name`, `item_description` 컬럼의 Null값은 일괄적으로 `'Other Null'`로 동일하게 변경  \n",
    "(`brand_name`은 `price` 값 결정에 영향을 많이 줄 것으로 판단되지만, Null값이 너무 많다.)"
   ]
  },
  {
   "cell_type": "markdown",
   "metadata": {},
   "source": [
    "- `fillna()`를 적용한 뒤에 각 컬럼별로 Null 값이 없는 지 다음과 같이 `mercari_df.isnull().sum()`을 호출해 확인"
   ]
  },
  {
   "cell_type": "code",
   "execution_count": 14,
   "metadata": {},
   "outputs": [],
   "source": [
    "mercari_df['brand_name'] = mercari_df['brand_name'].fillna(value='Other_Null')\n",
    "mercari_df['category_name'] = mercari_df['category_name'].fillna(value='Other_Null')\n",
    "mercari_df['item_description'] = mercari_df['item_description'].fillna(value='Other_Null')"
   ]
  },
  {
   "cell_type": "code",
   "execution_count": 15,
   "metadata": {},
   "outputs": [
    {
     "data": {
      "text/plain": [
       "train_id             0\n",
       "name                 0\n",
       "item_condition_id    0\n",
       "category_name        0\n",
       "brand_name           0\n",
       "price                0\n",
       "shipping             0\n",
       "item_description     0\n",
       "cat_dae              0\n",
       "cat_jung             0\n",
       "cat_so               0\n",
       "dtype: int64"
      ]
     },
     "execution_count": 15,
     "metadata": {},
     "output_type": "execute_result"
    }
   ],
   "source": [
    "mercari_df.isnull().sum()"
   ]
  },
  {
   "cell_type": "markdown",
   "metadata": {},
   "source": [
    "<br>"
   ]
  },
  {
   "cell_type": "markdown",
   "metadata": {},
   "source": [
    "## 10.3 피처 인코딩과 피처 벡터화\n",
    "\n",
    "- 피처 인코딩 : 컬럼을 숫자형 코드 값으로 인코딩\n",
    "- 피처 벡터화 : 텍스트 컬럼에 대해서는 피처 벡터화 변환을 적용"
   ]
  },
  {
   "cell_type": "markdown",
   "metadata": {},
   "source": [
    "<br>"
   ]
  },
  {
   "cell_type": "markdown",
   "metadata": {},
   "source": [
    "### 10.3.1 피처 변환 방법 검토\n",
    "\n",
    "- 데이터 세트의 문자열 컬럼 중 레이블 또는 원-핫 인코딩을 수행하거나 피처 벡터화로 변환할 컬럼을 선별\n",
    "- 이 피처를 어떤 방식으로 변환할 지 검토한 후에 추후에 일괄적으로 전체 속성의 변환 작업을 적용"
   ]
  },
  {
   "cell_type": "markdown",
   "metadata": {},
   "source": [
    "<br>"
   ]
  },
  {
   "cell_type": "markdown",
   "metadata": {},
   "source": [
    "#### 10.3.1.1 인코딩 방식 - 원-핫 인코딩\n",
    "\n",
    "- Mercari Price Suggestion에서 예측 모델은 price 값, 즉 상품 가격을 예측해야 하므로 **회귀 모델**을 기반으로 한다.\n",
    "- **선형 회귀 모델**과 **회귀 트리 모델**을 모두 적용할 예정\n",
    "- 선형 회귀의 경우 **원-핫 인코딩 적용이 훨씬 선호됨**  \n",
    "$\\Rightarrow$ 인코딩할 피처는 모두 원-핫 인코딩을 적용"
   ]
  },
  {
   "cell_type": "markdown",
   "metadata": {},
   "source": [
    "<br>"
   ]
  },
  {
   "cell_type": "markdown",
   "metadata": {},
   "source": [
    "#### 10.3.1.2 피처 벡터화\n",
    "\n",
    "- 비교적 짧은 텍스트의 경우 $\\rightarrow$ Count 기반의 벡터화 적용\n",
    "- 긴 텍스트 $\\rightarrow$ TF-IDF 기반의 벡터화 적용"
   ]
  },
  {
   "cell_type": "markdown",
   "metadata": {},
   "source": [
    "<br>"
   ]
  },
  {
   "cell_type": "markdown",
   "metadata": {},
   "source": [
    "### 10.3.2 컬럼별 인코딩 및 피처 벡터화 방법 결정"
   ]
  },
  {
   "cell_type": "markdown",
   "metadata": {},
   "source": [
    "#### 10.3.2.1 `brand_name`\n",
    "\n",
    "- 상품의 브랜드명 (상품명이 아님)\n",
    "- 상품 브랜드명이 어떤 유형으로 되어 있는 지 유형 건수와 대표적인 브랜드명을 5개 확인"
   ]
  },
  {
   "cell_type": "code",
   "execution_count": 16,
   "metadata": {},
   "outputs": [
    {
     "name": "stdout",
     "output_type": "stream",
     "text": [
      "brand name의 유형 건수 : 4810\n",
      "brand name sample 5건 :\n",
      " Other_Null           632682\n",
      "PINK                  54088\n",
      "Nike                  54043\n",
      "Victoria's Secret     48036\n",
      "LuLaRoe               31024\n",
      "Name: brand_name, dtype: int64\n"
     ]
    }
   ],
   "source": [
    "print('brand name의 유형 건수 :', mercari_df['brand_name'].nunique())\n",
    "print('brand name sample 5건 :\\n', mercari_df['brand_name'].value_counts()[:5])"
   ]
  },
  {
   "cell_type": "markdown",
   "metadata": {},
   "source": [
    "- `brand_name`의 경우 대부분 명료한 문자열로 되어 있음\n",
    "- 별도의 피처 벡터화 형태로 만들 필요 없이 인코딩 변환을 적용하면 된다.\n",
    "- `brand_name`의 종류가 4810건 $\\rightarrow$ 원-핫 인코딩으로 변환하기에 다소 많아 보이나 본 예제의 ML 모델 구축상 큰 문제는 없다.  \n",
    "$\\Rightarrow$ **`brand_name`은 원-핫 인코딩 변환**"
   ]
  },
  {
   "cell_type": "markdown",
   "metadata": {},
   "source": [
    "<br>"
   ]
  },
  {
   "cell_type": "markdown",
   "metadata": {},
   "source": [
    "#### 10.3.2.2 `name`\n",
    "\n",
    "- 상품명"
   ]
  },
  {
   "cell_type": "code",
   "execution_count": 17,
   "metadata": {},
   "outputs": [
    {
     "name": "stdout",
     "output_type": "stream",
     "text": [
      "name의 종류 개수 : 1225273\n",
      "name sample 10건 :\n",
      " Bundle                 2232\n",
      "Reserved                453\n",
      "Converse                445\n",
      "BUNDLE                  418\n",
      "Dress                   410\n",
      "Coach purse             404\n",
      "Lularoe TC leggings     396\n",
      "Romper                  353\n",
      "Nike                    340\n",
      "Vans                    334\n",
      "Name: name, dtype: int64\n"
     ]
    }
   ],
   "source": [
    "print('name의 종류 개수 :', mercari_df['name'].nunique())\n",
    "print('name sample 10건 :\\n', mercari_df['name'].value_counts()[:10])"
   ]
  },
  {
   "cell_type": "markdown",
   "metadata": {},
   "source": [
    "- `name` 속성의 경우 종류가 매우 많다. (1,225,273가지)\n",
    "- 전체 데이터가 1,482,535개 이므로 개별적으로 거의 고유한 상품명을 가지고 있다.\n",
    "- `name` 속성은 유형이 매우 많고, 적은 단위 위주의 텍스트 형태로 되어 있다.  \n",
    "$\\Rightarrow$ **`name`은 Count 기반으로 피처 벡터화 변환**을 적용"
   ]
  },
  {
   "cell_type": "markdown",
   "metadata": {},
   "source": [
    "<br>"
   ]
  },
  {
   "cell_type": "markdown",
   "metadata": {},
   "source": [
    "#### 10.3.2.3 `category_name`\n",
    "\n",
    "- 이전에 전처리를 통해서 해당 컬럼은 아래와 같이 대, 중, 소 분류 세 개의 컬럼으로 분리\n",
    "  - `cat_dae`\n",
    "  - `cat_jung`\n",
    "  - `cat_so`  \n",
    "$\\Rightarrow$ **`cat_dae`, `cat_jung`, `cat_so` 컬럼도 원-핫 인코딩을 적용**"
   ]
  },
  {
   "cell_type": "markdown",
   "metadata": {},
   "source": [
    "<br>"
   ]
  },
  {
   "cell_type": "markdown",
   "metadata": {},
   "source": [
    "#### 10.3.2.4 `shipping`\n",
    "\n",
    "- 배송비 무료 여부\n",
    "- 0과 1, 두 가지 유형의 값을 가지고 있음  \n",
    "$\\Rightarrow$ **원-핫 인코딩 적용**"
   ]
  },
  {
   "cell_type": "markdown",
   "metadata": {},
   "source": [
    "<br>"
   ]
  },
  {
   "cell_type": "markdown",
   "metadata": {},
   "source": [
    "#### 10.3.2.5 `item_condition_id`\n",
    "\n",
    "- 상품 상태\n",
    "- 1, 2, 3, 4, 5의 다섯 가지 유형의 값을 가지고 있음  \n",
    "$\\Rightarrow$ **원-핫 인코딩 적용**"
   ]
  },
  {
   "cell_type": "markdown",
   "metadata": {},
   "source": [
    "<br>"
   ]
  },
  {
   "cell_type": "markdown",
   "metadata": {},
   "source": [
    "#### 10.3.2.6 `item_description`\n",
    "\n",
    "- 상품에 대한 간단 설명\n",
    "- 데이터 세트에서 가장 긴 텍스트를 가지고 있다."
   ]
  },
  {
   "cell_type": "markdown",
   "metadata": {},
   "source": [
    "- 해당 컬럼의 평균 문자열 크기와 2개 정도의 텍스트 추출"
   ]
  },
  {
   "cell_type": "code",
   "execution_count": 18,
   "metadata": {},
   "outputs": [
    {
     "name": "stdout",
     "output_type": "stream",
     "text": [
      "item_description 평균 문자열 크기: 145.7113889385411\n"
     ]
    }
   ],
   "source": [
    "pd.set_option('max_colwidth', 200)\n",
    "\n",
    "# item_description의 평균 문자열 크기\n",
    "print('item_description 평균 문자열 크기:', mercari_df['item_description'].str.len().mean())"
   ]
  },
  {
   "cell_type": "code",
   "execution_count": 19,
   "metadata": {},
   "outputs": [
    {
     "data": {
      "text/plain": [
       "0                                                                                                                                                                              No description yet\n",
       "1    This keyboard is in great condition and works like it came out of the box. All of the ports are tested and work perfectly. The lights are customizable via the Razer Synapse app on your PC.\n",
       "Name: item_description, dtype: object"
      ]
     },
     "execution_count": 19,
     "metadata": {},
     "output_type": "execute_result"
    }
   ],
   "source": [
    "mercari_df['item_description'][:2]"
   ]
  },
  {
   "cell_type": "markdown",
   "metadata": {},
   "source": [
    "- 평균 문자열이 145자로 비교적 큼  \n",
    "$\\Rightarrow$ **TF-IDF로 피처 벡터화**"
   ]
  },
  {
   "cell_type": "markdown",
   "metadata": {},
   "source": [
    "<br>"
   ]
  },
  {
   "cell_type": "markdown",
   "metadata": {},
   "source": [
    "#### 10.3.2.7 요약\n",
    "\n",
    "<div style=\"text-align: left; margin-left: 20px;\">\n",
    "    <img src=\"./images/Ch08/10/img001.jpg\" width=\"600px\"/>\n",
    "</div>"
   ]
  },
  {
   "cell_type": "markdown",
   "metadata": {},
   "source": [
    "<br>"
   ]
  },
  {
   "cell_type": "markdown",
   "metadata": {},
   "source": [
    "### 10.3.3 주요 컬럼 인코딩 및 피처 벡터화 변환"
   ]
  },
  {
   "cell_type": "markdown",
   "metadata": {},
   "source": [
    "#### 10.3.3.1 `name`, `item_description` 피처 벡터화\n",
    "\n",
    "- `name` 컬럼\n",
    "  - `CountVectorizer`로 변환\n",
    "  - 기본 파라미터 사용  \n",
    "  \n",
    "  \n",
    "- `item_description` 컬럼\n",
    "  - `TfidfVectorizer`로 변환\n",
    "  - 파라미터\n",
    "    - `max_features=50000`\n",
    "    - `n_gram_range=(1,3)` (triple gram)\n",
    "    - `stop_words='english'`"
   ]
  },
  {
   "cell_type": "code",
   "execution_count": 20,
   "metadata": {},
   "outputs": [
    {
     "name": "stdout",
     "output_type": "stream",
     "text": [
      "name vectorization shape : (1482535, 105757)\n",
      "item_description vectorization shape : (1482535, 50000)\n"
     ]
    }
   ],
   "source": [
    "# name 속성에 대한 피처 벡터화 변환\n",
    "cnt_vec = CountVectorizer()\n",
    "X_name = cnt_vec.fit_transform(mercari_df.name)\n",
    "\n",
    "# item_description에 대한 피처 벡터화 변환\n",
    "tfidf_descp = TfidfVectorizer(max_features=50000,\n",
    "                              ngram_range=(1,3),\n",
    "                              stop_words='english')\n",
    "X_descp = tfidf_descp.fit_transform(mercari_df['item_description'])\n",
    "\n",
    "print('name vectorization shape :', X_name.shape)\n",
    "print('item_description vectorization shape :', X_descp.shape)"
   ]
  },
  {
   "cell_type": "markdown",
   "metadata": {},
   "source": [
    "<br>"
   ]
  },
  {
   "cell_type": "markdown",
   "metadata": {},
   "source": [
    "#### 10.3.3.2 나머지 컬럼 인코딩\n",
    "\n",
    "- `CountVectorizer`, `TfidfVectorizer`가 `fit_transform()`을 통해 반환하는 데이터는 **희소 행렬** 형태이다.\n",
    "- 희소 행렬 객체 변수인 `X_name`과 `X_descp`를 새로 결합해 새로운 데이터 세트로 구성해야 한다.\n",
    "- 또한 앞으로 인코딩 될 `cat_dae`, `cat_jung`, `cat_so`, `brand_name`, `shipping`, `item_condition_id` 도 모두 `X_name`, `X_descp`와 결합돼 ML 모델을 실행하는 기반 데이터 세트로 재구성돼야 한다."
   ]
  },
  {
   "cell_type": "markdown",
   "metadata": {},
   "source": [
    "- 이를 위해서 이 인코딩 대상 컬럼도 밀집 행렬 형태가 아닌 희소 행렬 형태로 인코딩한 뒤 함께 결합한다."
   ]
  },
  {
   "cell_type": "markdown",
   "metadata": {},
   "source": [
    "- 사이킷런은 원-핫 인코딩을 위해 `OneHotEncoder`와 `LabelBinarizer` 클래스를 제공한다.\n",
    "- 이 중 `LabelBinarizer` 클래스는 희소 행렬 형태의 원-핫 인코딩 변환을 지원한다.\n",
    "  - 생성 시 `sparse_out=True`로 파라미터 설정\n",
    "- 모든 인코딩 대상 컬럼은 `LabelBinarizer`를 이용해 희소 행렬 형태의 원-핫 인코딩으로 변환"
   ]
  },
  {
   "cell_type": "markdown",
   "metadata": {},
   "source": [
    "- 개별 컬럼으로 만들어진 희소 행렬은 사이파이 패키지 `sparse` 모듈의 `hstack()` 함수를 이용해 결합\n",
    "  - `hstack()` : 희소 행렬을 손쉽게 컬럼 레벨로 결합할 수 있게 해준다."
   ]
  },
  {
   "cell_type": "markdown",
   "metadata": {},
   "source": [
    "- 먼저 인코딩 대상 컬럼을 모두 `LabelBinarizer`로 원-핫 인코딩 변환 실시"
   ]
  },
  {
   "cell_type": "code",
   "execution_count": 21,
   "metadata": {},
   "outputs": [],
   "source": [
    "from sklearn.preprocessing import LabelBinarizer\n",
    "\n",
    "# brand_name, item_condition_id, shipping 각 피처들을 희소 행렬 원-핫 인코딩 변환\n",
    "lb_brand_name = LabelBinarizer(sparse_output=True)\n",
    "X_brand = lb_brand_name.fit_transform(mercari_df['brand_name'])\n",
    "\n",
    "lb_item_cond_id = LabelBinarizer(sparse_output=True)\n",
    "X_item_cond_id = lb_item_cond_id.fit_transform(mercari_df['item_condition_id'])\n",
    "\n",
    "lb_shipping = LabelBinarizer(sparse_output=True)\n",
    "X_shipping = lb_shipping.fit_transform(mercari_df['shipping'])\n",
    "\n",
    "# cat_dae, cat_jung, cat_so 각 피처들을 희소 행렬 원-핫 인코딩 변환\n",
    "lb_cat_dae = LabelBinarizer(sparse_output=True)\n",
    "X_cat_dae = lb_cat_dae.fit_transform(mercari_df['cat_dae'])\n",
    "\n",
    "lb_cat_jung = LabelBinarizer(sparse_output=True)\n",
    "X_cat_jung = lb_cat_jung.fit_transform(mercari_df['cat_jung'])\n",
    "\n",
    "lb_cat_so = LabelBinarizer(sparse_output=True)\n",
    "X_cat_so = lb_cat_so.fit_transform(mercari_df['cat_so'])"
   ]
  },
  {
   "cell_type": "markdown",
   "metadata": {},
   "source": [
    "<br>"
   ]
  },
  {
   "cell_type": "markdown",
   "metadata": {},
   "source": [
    "- 제대로 변환됐는 지 생성된 인코딩 데이터 세트의 타입과 shape을 확인"
   ]
  },
  {
   "cell_type": "code",
   "execution_count": 22,
   "metadata": {},
   "outputs": [
    {
     "name": "stdout",
     "output_type": "stream",
     "text": [
      "<class 'scipy.sparse.csr.csr_matrix'> <class 'scipy.sparse.csr.csr_matrix'> <class 'scipy.sparse.csr.csr_matrix'>\n",
      "\n",
      "X_brand shape:(1482535, 4810), X_item_cond_id shape:(1482535, 5)\n",
      "X_shipping shape:(1482535, 1), X_cat_dae shape:(1482535, 11)\n",
      "X_cat_jung shape:(1482535, 114), X_cat_so shape:(1482535, 871)\n"
     ]
    }
   ],
   "source": [
    "print(type(X_brand), type(X_item_cond_id), type(X_shipping))\n",
    "print()\n",
    "print('X_brand shape:{0}, X_item_cond_id shape:{1}'.format(X_brand.shape, X_item_cond_id.shape))\n",
    "print('X_shipping shape:{0}, X_cat_dae shape:{1}'.format(X_shipping.shape, X_cat_dae.shape))\n",
    "print('X_cat_jung shape:{0}, X_cat_so shape:{1}'.format(X_cat_jung.shape, X_cat_so.shape))"
   ]
  },
  {
   "cell_type": "markdown",
   "metadata": {},
   "source": [
    "- 인코딩 변환된 데이터 세트가 CSR 형태로 변환된 csr_matrix 타입이다."
   ]
  },
  {
   "cell_type": "markdown",
   "metadata": {},
   "source": [
    "- 그리고 `brand_name` 컬럼의 경우 값의 유형이 4810개이므로 이를 원-핫 인코딩으로 변환한 `X_brand_shape`의 경우 4810개의 인코딩 컬럼을 가지게 된다."
   ]
  },
  {
   "cell_type": "markdown",
   "metadata": {},
   "source": [
    "- `X_cat_so`의 경우도 871개의 인코딩 컬럼을 가진다."
   ]
  },
  {
   "cell_type": "markdown",
   "metadata": {},
   "source": [
    "- 인코딩 컬럼이 매우 많이 생겼지만, 피처 벡터화로 텍스트 형태의 문자열이 가지는 벡터 형태의 매우 많은 컬럼과 함께 결합되므로 크게 문제될 것은 없다."
   ]
  },
  {
   "cell_type": "markdown",
   "metadata": {},
   "source": [
    "<br>"
   ]
  },
  {
   "cell_type": "markdown",
   "metadata": {},
   "source": [
    "#### 10.3.3.3 데이터 세트 결합\n",
    "\n",
    "- 피처 벡터화 변환한 데이터 세트와 희소 인코딩 변환된 데이터 세트를 `hstack()`을 이용해 모두 결합\n",
    "- 결합된 데이터는 Mercari Price Suggestion을 위한 기반 데이터 세트로 사용됨\n",
    "- 여기서는 결합한 데이터의 타입과 크기만 확인하고 메모리에서 삭제\n",
    "  - 만들어진 결합 데이터가 비교적 많은 메모리를 잡아먹기 때문에 개인용 PC에서 메모리 오류가 발생할 수 있다.\n",
    "  - `del '객체 변수명'`rhk `gc.collect()`로 결합 데이터를 메모리에서 삭제\n",
    "  - 추후에 다양한 모델을 적용하므로 그때마다 다시 결합해 해당 데이터 세트를 이용"
   ]
  },
  {
   "cell_type": "code",
   "execution_count": 23,
   "metadata": {},
   "outputs": [
    {
     "name": "stdout",
     "output_type": "stream",
     "text": [
      "<class 'scipy.sparse.csr.csr_matrix'> (1482535, 161569)\n"
     ]
    },
    {
     "data": {
      "text/plain": [
       "0"
      ]
     },
     "execution_count": 23,
     "metadata": {},
     "output_type": "execute_result"
    }
   ],
   "source": [
    "from scipy.sparse import hstack\n",
    "import gc\n",
    "\n",
    "sparse_matrix_list = (X_name, X_descp, X_brand, X_item_cond_id, \\\n",
    "                      X_shipping, X_cat_dae, X_cat_jung, X_cat_so)\n",
    "\n",
    "# hstack 함수를 이용해 인코딩과 벡터화를 수행한 데이터 세트를 모두 결합\n",
    "X_features_sparse = hstack(sparse_matrix_list).tocsr()\n",
    "print(type(X_features_sparse), X_features_sparse.shape)\n",
    "\n",
    "# 데이터 세트가 메모리를 많이 차지하므로 사용 목적이 끝났으면 바로 메모리에서 삭제\n",
    "del X_features_sparse\n",
    "gc.collect()"
   ]
  },
  {
   "cell_type": "markdown",
   "metadata": {},
   "source": [
    "- `hstack()`으로 결합한 데이터 세트는 `csr_matrix` 타입이며, 총 161,569개의 피처를 가지게 된다."
   ]
  },
  {
   "cell_type": "markdown",
   "metadata": {},
   "source": [
    "<br>"
   ]
  },
  {
   "cell_type": "markdown",
   "metadata": {},
   "source": [
    "## 10.4 릿지 회귀 모델 구축 및 평가\n",
    "\n",
    "- 여러 알고리즘 모델과 희소 생렬을 변환하고 예측 성능을 비교하면서 테스트 수행  \n",
    "$\\Rightarrow$ 수행에 필요한 로직을 함수화"
   ]
  },
  {
   "cell_type": "markdown",
   "metadata": {},
   "source": [
    "<br>"
   ]
  },
  {
   "cell_type": "markdown",
   "metadata": {},
   "source": [
    "### 10.4.1 모델 평가(Evaluation) 로직 함수화\n",
    "\n",
    "- 적용할 평가 지표 : 캐글에서 제시한 **RMSLE(Root Mean Square Logarithmic Error)** 방식\n",
    "- RMSLE는 RMSE와 유사하나 오류 값에 로그를 취해 RMSE를 구하는 방식\n",
    "- 낮은 가격(price)보다 높은 가격에서 오류가 발생할 경우 오류 값이 더 커지는 것을 억제하기 위해서 이 방식을 도입\n",
    "\n",
    "$$\n",
    "\\epsilon = \\sqrt{ {1 \\over n} \\sum_{i=1}^n \\left( log \\left( p_i + 1 \\right) - log \\left( a_i + 1 \\right) \\right)^2 }\n",
    "$$"
   ]
  },
  {
   "cell_type": "markdown",
   "metadata": {},
   "source": [
    "- 별도의 RMSLE를 구하는 함수를 `rmsle(y, y_pred)`로 생성"
   ]
  },
  {
   "cell_type": "markdown",
   "metadata": {},
   "source": [
    "**주의 사항**\n",
    "\n",
    "- 원본 데이터의 `price` 컬럼의 값은 왜곡된 데이터 분포를 가지고 있음\n",
    "- 이를 정규 분포 형태로 유도하기 위해 로그 값을 취해 변환함\n",
    "- 즉, 학습할 모델이 사용할 `price` 값은 로그 값으로 변환된 `price` 값이므로 예측도 당연히 로그로 변환한 데이터 값 수준의 `price` 값을 예측할 것\n",
    "- 따라서 학습 모델을 이용한 예측된 `price` 값은 다시 **로그의 역변환인 지수(Exponential) 변환**을 수행해 원복해야 한다."
   ]
  },
  {
   "cell_type": "markdown",
   "metadata": {},
   "source": [
    "- 이렇게 원복된 데이터를 기반으로 RMSLE를 적용할 수 있도록 `evaluate_org_price(y_test, preds)` 함수를 생성"
   ]
  },
  {
   "cell_type": "code",
   "execution_count": 29,
   "metadata": {},
   "outputs": [],
   "source": [
    "def rmsle(y, y_pred):\n",
    "    \n",
    "    # underflow, overflow를 막기 위해 log가 아닌 log1p로 rmsle 계산\n",
    "    return np.sqrt(np.mean(np.power(np.log1p(y) - np.log1p(y_pred), 2)))\n",
    "\n",
    "def evaluate_org_price(y_test, preds):\n",
    "    \n",
    "    # 원본 데이터는 log1p로 변환되었으므로 exmpm1로 원복 필요\n",
    "    preds_exmpm = np.expm1(preds)\n",
    "    y_test_exmpm = np.expm1(y_test)\n",
    "    \n",
    "    # rmsle로 RMSLE 값 추출\n",
    "    rmsle_result = rmsle(y_test_exmpm, preds_exmpm)\n",
    "    return rmsle_result"
   ]
  },
  {
   "cell_type": "markdown",
   "metadata": {},
   "source": [
    "<br>"
   ]
  },
  {
   "cell_type": "markdown",
   "metadata": {},
   "source": [
    "### 10.4.2 학습용 데이터 생성, 모델 학습 / 예측 로직 함수화"
   ]
  },
  {
   "cell_type": "markdown",
   "metadata": {},
   "source": [
    "#### 10.4.2.1 `model_train_predict()`\n",
    "\n",
    "- `model` : 사이킷런의 회귀 estimator 객체\n",
    "- `matrix_list` : 최종 데이터 세트로 결합할 희소 행렬 리스트"
   ]
  },
  {
   "cell_type": "markdown",
   "metadata": {},
   "source": [
    "- 평가 데이터 세트는 `train_test_split()`을 이용해 전체 데이터의 20% 사용"
   ]
  },
  {
   "cell_type": "code",
   "execution_count": 27,
   "metadata": {},
   "outputs": [],
   "source": [
    "import gc\n",
    "from scipy.sparse import hstack\n",
    "\n",
    "def model_train_predict(model, matrix_list):\n",
    "    \n",
    "    # scipy.sparse 모듈의 hstack을 이용해 희소 행렬 결합\n",
    "    X = hstack(matrix_list).tocsr()\n",
    "    \n",
    "    X_train, X_test, y_train, y_test = train_test_split(X, mercari_df['price'],\n",
    "                                                        test_size=0.2, random_state=156)\n",
    "    \n",
    "    # 모델 학습 및 예측\n",
    "    model.fit(X_train, y_train)\n",
    "    preds = model.predict(X_test)\n",
    "    \n",
    "    del X, X_train, X_test, y_train\n",
    "    gc.collect()\n",
    "    \n",
    "    return preds, y_test"
   ]
  },
  {
   "cell_type": "markdown",
   "metadata": {},
   "source": [
    "<br>"
   ]
  },
  {
   "cell_type": "markdown",
   "metadata": {},
   "source": [
    "### 10.4.3 Ridge 이용 Mercari Price 회귀 예측\n",
    "\n",
    "- 수행 전에 Mercari 상품 가격 예측에 `item_description`과 같은 텍스트 형태의 속성이 얼마나 영향을 미치는 지 확인\n",
    "- `item_description` 속성의 피처 벡터화 데이터가 포함되지 않았을 때와 포함됐을 때의 예측 성능을 다음 예제 코드와 같이 비교"
   ]
  },
  {
   "cell_type": "code",
   "execution_count": 30,
   "metadata": {},
   "outputs": [
    {
     "name": "stdout",
     "output_type": "stream",
     "text": [
      "Item Description을 제외했을 때 rmsle 값 : 0.5021728034748267\n"
     ]
    }
   ],
   "source": [
    "linear_model = Ridge(solver='lsqr', fit_intercept=False)\n",
    "\n",
    "sparse_matrix_list = (X_name, X_brand, X_item_cond_id, \\\n",
    "                      X_shipping, X_cat_dae, X_cat_jung, X_cat_so)\n",
    "\n",
    "linear_preds, y_test = model_train_predict(model=linear_model, matrix_list=sparse_matrix_list)\n",
    "print('Item Description을 제외했을 때 rmsle 값 :', evaluate_org_price(y_test, linear_preds))"
   ]
  },
  {
   "cell_type": "code",
   "execution_count": 31,
   "metadata": {},
   "outputs": [
    {
     "name": "stdout",
     "output_type": "stream",
     "text": [
      "Item Description을 포함한 rmsle 값 : 0.47122050042890895\n"
     ]
    }
   ],
   "source": [
    "sparse_matrix_list = (X_descp, X_name, X_brand, X_item_cond_id, \\\n",
    "                      X_shipping, X_cat_dae, X_cat_jung, X_cat_so)\n",
    "\n",
    "linear_preds, y_test = model_train_predict(model=linear_model, matrix_list=sparse_matrix_list)\n",
    "print('Item Description을 포함한 rmsle 값 :', evaluate_org_price(y_test, linear_preds))"
   ]
  },
  {
   "cell_type": "markdown",
   "metadata": {},
   "source": [
    "- `item_description`을 포함했을 때 rmsle 값이 많이 감소  \n",
    "$\\Rightarrow$ `item_description` 영향이 중요함을 알 수 있다."
   ]
  },
  {
   "cell_type": "markdown",
   "metadata": {},
   "source": [
    "<br>"
   ]
  },
  {
   "cell_type": "markdown",
   "metadata": {},
   "source": [
    "## 10.5 LightGBM 회귀 모델 구축과 앙상블을 이용한 최종 예측 평가"
   ]
  }
 ],
 "metadata": {
  "kernelspec": {
   "display_name": "Python 3",
   "language": "python",
   "name": "python3"
  },
  "language_info": {
   "codemirror_mode": {
    "name": "ipython",
    "version": 3
   },
   "file_extension": ".py",
   "mimetype": "text/x-python",
   "name": "python",
   "nbconvert_exporter": "python",
   "pygments_lexer": "ipython3",
   "version": "3.6.9"
  }
 },
 "nbformat": 4,
 "nbformat_minor": 4
}
