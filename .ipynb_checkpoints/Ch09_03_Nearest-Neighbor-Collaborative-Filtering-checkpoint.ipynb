{
 "cells": [
  {
   "cell_type": "markdown",
   "metadata": {},
   "source": [
    "# Chapter 9. 추천 시스템"
   ]
  },
  {
   "cell_type": "markdown",
   "metadata": {},
   "source": [
    "# 03. 최근접 이웃 협업 필터링\n",
    "\n",
    "p561(580)~"
   ]
  },
  {
   "cell_type": "code",
   "execution_count": 1,
   "metadata": {},
   "outputs": [],
   "source": [
    "import warnings\n",
    "warnings.filterwarnings('ignore')"
   ]
  },
  {
   "cell_type": "markdown",
   "metadata": {},
   "source": [
    "<br>"
   ]
  },
  {
   "cell_type": "markdown",
   "metadata": {},
   "source": [
    "## 3.1 신작 영화 감상 여부 의사결정 프로세스\n",
    "\n",
    "- '신작' 영화가 나왔을 때 영화관으로 그 영화를 보러 갈지 말지를 어떻게 결정하는 데 영향을 주는 고려사항\n",
    "  - 영화 관람료\n",
    "  - 영화관까지 이동하는 시간\n",
    "  - 관람 시간\n",
    "  - **가까운 친구들의 감상평 (취향이 비슷한 친구들)**"
   ]
  },
  {
   "cell_type": "markdown",
   "metadata": {},
   "source": [
    "<br>"
   ]
  },
  {
   "cell_type": "markdown",
   "metadata": {},
   "source": [
    "## 3.2 협업 필터링(Collaborative Filtering)\n",
    "\n",
    "- 친구들에게 물어보는 것과 유사한 방식\n",
    "- 사용자가 아이템에 매긴 평점 정보나 상품 구매 이력과 같은 **사용자 행동 양식(User Behavior)**만을 기반으로 추천을 수행하는 것"
   ]
  },
  {
   "cell_type": "markdown",
   "metadata": {},
   "source": [
    "<br>"
   ]
  },
  {
   "cell_type": "markdown",
   "metadata": {},
   "source": [
    "## 3.3 협업 필터링의 주요 목표\n",
    "\n",
    "- 사용자-아이템 평점 매트릭스와 같은 축적된 사용자 행동 데이터를 기반으로 사용자가 아직 평가하지 않은 아이템을 예측 평가(Predicted Rating)하는 것\n",
    "\n",
    "<img src=\"images/Ch09/03/img001.jpg\" />\n",
    "\n",
    "- 위 그림에서 User 1은 Item 4에 대한 평점이 없다.\n",
    "- 협업 필터링은 사용자가 평가한 다른 아이템을 기반으로 사용자가 평가하지 않은 아이템의 예측 평가를 도출하는 방식이다."
   ]
  },
  {
   "cell_type": "markdown",
   "metadata": {},
   "source": [
    "<br>"
   ]
  },
  {
   "cell_type": "markdown",
   "metadata": {},
   "source": [
    "## 3.4 협업 필터링 기반 추천 시스템의 구분\n",
    "\n",
    "- 협업 필터링 기반 추천 시스템은 아래의 2가지로 나뉨\n",
    "  - 최근접 이웃 방식\n",
    "  - 잠재 요인 방식\n",
    "- 두 방식 모두 사용자-아이템 평점 행렬 데이터에만 의지해 추천을 수행한다."
   ]
  },
  {
   "cell_type": "markdown",
   "metadata": {},
   "source": [
    "<br>"
   ]
  },
  {
   "cell_type": "markdown",
   "metadata": {},
   "source": [
    "## 3.5 사용자-아이템 평점 행렬의 구성\n",
    "\n",
    "- 협업 필터링 알고리즘에 사용되는 사용자-아이템 평점 행렬에서 행과 열은 다음과 같이 구성됨\n",
    "  - 행(Row) : 개별 사용자\n",
    "  - 열(Column) : 개별 아이템  \n",
    "  \n",
    "  \n",
    "- 사용자 아이디 행, 아이템 아이디 열 위치에 해당하는 값이 평점을 나타나는 형태가 되어야 한다.\n",
    "\n",
    "- 만약 데이터가 다음 그림의 왼쪽과 같이 레코드 레벨 형태인 사용자-아이템 평점 데이터라면 판다스의 `pivot_table()`과 같은 함수를 이용해 그림의 오른쪽과 같은 형태인 사용자-아이템 평점 행렬 형태로 변경해야 한다.\n",
    "\n",
    "<img src=\"images/Ch09/03/img002.jpg\" />\n",
    "\n",
    "- 일반적으로 이러한 사용자-아이템 평점 행렬은 많은 아이템을 열로 가지는 다차원 행렬이다.\n",
    "- 사용자가 아이템에 대한 평점을 매기는 경우가 많지 않기 때문에 **희소 행렬(Sparse Matrix)** 특성을 가지고 있다."
   ]
  },
  {
   "cell_type": "markdown",
   "metadata": {},
   "source": [
    "<br>"
   ]
  },
  {
   "cell_type": "markdown",
   "metadata": {},
   "source": [
    "## 3.6 최근접 이웃 협업 필터링\n",
    "\n",
    "- 메모리(Memory) 협업 필터링이라고도 불린다.\n",
    "- 일반적으로 **사용자 기반**과 **아이템 기반**으로 다시 나뉠 수 있다.  \n",
    "  \n",
    "  \n",
    "- **사용자 기반(User-User)**\n",
    "  - 당신과 비슷한 고객들이 다음 상품도 구매했습니다.  \n",
    "  (Customers like you also bought these items.)  \n",
    "  \n",
    "  \n",
    "- **아이템 기반(Item-Item)**\n",
    "  - 이 상품을 선택한 다른 고객들은 다음 상품도 구매했습니다.  \n",
    "  (Customers who bought this item also bought these items.)"
   ]
  },
  {
   "cell_type": "markdown",
   "metadata": {},
   "source": [
    "<br>"
   ]
  },
  {
   "cell_type": "markdown",
   "metadata": {},
   "source": [
    "### 3.6.1 사용자 기반 최근접 이웃 방식\n",
    "\n",
    "- 특정 사용자와 유사한 다른 사용자를 TOP-N으로 선정해 이 TOP-N 사용자가 좋아하는 아이템을 추천하는 방식\n",
    "- 즉, 특정 사용자와 타 사용자 간의 **유사도(Similarity)**를 측정한 뒤 가장 유사도가 높은 TOP-N 사용자를 추출해 그들이 선호하는 아이템을 추천하는 것\n",
    "- 다음 그림은 사용자별 영화 평점 정보를 나타내고 있다.\n",
    "\n",
    "<img src=\"images/Ch09/03/img003.jpg\" />\n",
    "\n",
    "- 사용자 A는 주요 영화의 평점 정보가 사용자 C보다 사용자 B와 비슷하다.\n",
    "- 그러므로 사용자 A와 사용자 B는 상호 간 유사도가 매우 높다고 할 수 있다.\n",
    "- 만약 사용자 A에게 아직 보지 못한 두 개의 영화인 '프로메테우스'와 '스타워즈-라스트 제다이' 중 하나를 추천한다면 사용자 C가 재미있게 본 '스타워즈-라스트 제다이' 보다는 사용자 A와 유사도가 높은 사용자 B가 재미있게 관람한 '프로메테우스'를 추천하는 것이 사용자 기반 최근접 이웃 협업 필터링이다."
   ]
  },
  {
   "cell_type": "markdown",
   "metadata": {},
   "source": [
    "<br>"
   ]
  },
  {
   "cell_type": "markdown",
   "metadata": {},
   "source": [
    "### 3.6.2 아이템 기반 최근접 이웃 방식\n",
    "\n",
    "- 아이템이 가지는 속성과는 상관없이 사용자들이 그 아이템을 좋아하는 지/싫어하는 지의 평가 척도가 유사한 아이템을 추천하는 기준이 되는 알고리즘이다.\n",
    "- 다음 그림은 아이템 기반 최근접 이웃 방식의 기반 데이터 세트이다.\n",
    "- 위의 사용자 기반 최근접 이웃 데이터 세트와 행과 열이 서로 반대이다.\n",
    "  - 행 : 개별 아이템\n",
    "  - 열 : 개별 사용자\n",
    "  \n",
    "<img src=\"images/Ch09/03/img004.jpg\" />\n",
    "\n",
    "- 아이템(영화) '다크 나이트'\n",
    "  - '프로메테우스'와 사용자들의 평점 분포가 비슷  \n",
    "  $\\Rightarrow$ '다크 나이트'와 '프로메테우스'는 상호 간 아이템 유사도가 상대적으로 매우 높다.\n",
    "- 따라서 '다크 나이트'를 매우 좋아하는 사용자 D에게 아이템 기반 협업 필터링은 D가 아직 관람하지 못한 '프로메테우스'를 추천한다."
   ]
  },
  {
   "cell_type": "markdown",
   "metadata": {},
   "source": [
    "<br>"
   ]
  },
  {
   "cell_type": "markdown",
   "metadata": {},
   "source": [
    "### 3.6.3 사용자 기반 vs 아이템 기반\n",
    "\n",
    "- 일반적으로 사용자 기반보다는 아이템 기반 협업 필터링이 정확도가 높다.\n",
    "  - 비슷한 영화(또는 상품)를 좋아(또는 구입)한다고 해서 사람들의 취향이 비슷하다고 판단하기는 어렵기 때문\n",
    "  - 매우 유명한 영화는 취향과 관계없이 대부분의 사람이 관람하는 경우가 많음\n",
    "  - 사용자들이 평점을 매긴 영화(또는 상품)의 개수가 많지 않은 경우가 일반적이다."
   ]
  },
  {
   "cell_type": "markdown",
   "metadata": {},
   "source": [
    "<br>"
   ]
  },
  {
   "cell_type": "markdown",
   "metadata": {},
   "source": [
    "## 3.7 추천 시스템 유사도 측정\n",
    "\n",
    "- 코사인 유사도 사용\n",
    "- 추천 시스템에 사용되는 데이터는 피처 벡터화된 텍스트 데이터와 동일하게 다차원 희소 행렬이라는 특징이 있으므로 유사도 측정을 위해 주로 코사인 유사도를 이용"
   ]
  }
 ],
 "metadata": {
  "kernelspec": {
   "display_name": "Python 3",
   "language": "python",
   "name": "python3"
  },
  "language_info": {
   "codemirror_mode": {
    "name": "ipython",
    "version": 3
   },
   "file_extension": ".py",
   "mimetype": "text/x-python",
   "name": "python",
   "nbconvert_exporter": "python",
   "pygments_lexer": "ipython3",
   "version": "3.6.9"
  }
 },
 "nbformat": 4,
 "nbformat_minor": 4
}
