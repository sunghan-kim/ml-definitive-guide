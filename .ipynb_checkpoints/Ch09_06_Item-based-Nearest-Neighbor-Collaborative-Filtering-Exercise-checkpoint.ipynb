{
 "cells": [
  {
   "cell_type": "markdown",
   "metadata": {},
   "source": [
    "# Chapter 9. 추천 시스템"
   ]
  },
  {
   "cell_type": "markdown",
   "metadata": {},
   "source": [
    "# 06. 아이템 기반 최근접 이웃 협업 필터링 실습\n",
    "\n",
    "p585(604)~"
   ]
  },
  {
   "cell_type": "code",
   "execution_count": 10,
   "metadata": {},
   "outputs": [],
   "source": [
    "import warnings\n",
    "warnings.filterwarnings('ignore')"
   ]
  },
  {
   "cell_type": "markdown",
   "metadata": {},
   "source": [
    "<br>"
   ]
  },
  {
   "cell_type": "markdown",
   "metadata": {},
   "source": [
    "- 최근접 이웃 협업 필터링은 **사용자 기반**과 **아이템 기반**으로 분류한다.\n",
    "- 이 중 일반적으로 추천 정확도가 더 뛰어난 **아이템 기반의 협업 필터링**을 구현"
   ]
  },
  {
   "cell_type": "markdown",
   "metadata": {},
   "source": [
    "- 협업 필터링 기반의 영화 추천을 위해서는 사용자가 영화의 평점을 매긴 **사용자-영화 평점 행렬 데이터 세트**가 필요하다.\n",
    "- 이를 위해 Grouplens 사이트에서 만든 `MovieLens` 데이터 세트를 이용해 실습 진행\n",
    "- [데이터 세트 다운로드 링크](https://grouplens.org/datasets/movielens/latest/)\n",
    "- 해당 사이트에서 `ml-latest-small.zip` 파일 다운로드\n",
    "- 해당 파일은 십만 개의 평점(rating) 정보를 가지고 있다."
   ]
  },
  {
   "cell_type": "markdown",
   "metadata": {},
   "source": [
    "<br>"
   ]
  },
  {
   "cell_type": "markdown",
   "metadata": {},
   "source": [
    "## 6.1 데이터 가공 및 변환\n",
    "\n",
    "- 내려받은 파일 중 주요 파일인 `ratings.csv`와 `movies.csv`를 DataFrame으로 로딩"
   ]
  },
  {
   "cell_type": "code",
   "execution_count": 11,
   "metadata": {},
   "outputs": [
    {
     "name": "stdout",
     "output_type": "stream",
     "text": [
      "(9742, 3)\n",
      "(100836, 4)\n"
     ]
    }
   ],
   "source": [
    "import pandas as pd\n",
    "import numpy as np\n",
    "\n",
    "movies = pd.read_csv('./data/Grouplens/ml-latest-small/movies.csv')\n",
    "ratings = pd.read_csv('./data/Grouplens/ml-latest-small/ratings.csv')\n",
    "print(movies.shape)\n",
    "print(ratings.shape)"
   ]
  },
  {
   "cell_type": "markdown",
   "metadata": {},
   "source": [
    "<br>"
   ]
  },
  {
   "cell_type": "markdown",
   "metadata": {},
   "source": [
    "### 6.1.1 `movies.csv`\n",
    "\n",
    "- 영화에 대한 메타 정보인 `title`과 `genres`를 가지고 있는 영화 정보"
   ]
  },
  {
   "cell_type": "code",
   "execution_count": 12,
   "metadata": {},
   "outputs": [
    {
     "data": {
      "text/html": [
       "<div>\n",
       "<style scoped>\n",
       "    .dataframe tbody tr th:only-of-type {\n",
       "        vertical-align: middle;\n",
       "    }\n",
       "\n",
       "    .dataframe tbody tr th {\n",
       "        vertical-align: top;\n",
       "    }\n",
       "\n",
       "    .dataframe thead th {\n",
       "        text-align: right;\n",
       "    }\n",
       "</style>\n",
       "<table border=\"1\" class=\"dataframe\">\n",
       "  <thead>\n",
       "    <tr style=\"text-align: right;\">\n",
       "      <th></th>\n",
       "      <th>movieId</th>\n",
       "      <th>title</th>\n",
       "      <th>genres</th>\n",
       "    </tr>\n",
       "  </thead>\n",
       "  <tbody>\n",
       "    <tr>\n",
       "      <th>0</th>\n",
       "      <td>1</td>\n",
       "      <td>Toy Story (1995)</td>\n",
       "      <td>Adventure|Animation|Children|Comedy|Fantasy</td>\n",
       "    </tr>\n",
       "    <tr>\n",
       "      <th>1</th>\n",
       "      <td>2</td>\n",
       "      <td>Jumanji (1995)</td>\n",
       "      <td>Adventure|Children|Fantasy</td>\n",
       "    </tr>\n",
       "    <tr>\n",
       "      <th>2</th>\n",
       "      <td>3</td>\n",
       "      <td>Grumpier Old Men (1995)</td>\n",
       "      <td>Comedy|Romance</td>\n",
       "    </tr>\n",
       "    <tr>\n",
       "      <th>3</th>\n",
       "      <td>4</td>\n",
       "      <td>Waiting to Exhale (1995)</td>\n",
       "      <td>Comedy|Drama|Romance</td>\n",
       "    </tr>\n",
       "    <tr>\n",
       "      <th>4</th>\n",
       "      <td>5</td>\n",
       "      <td>Father of the Bride Part II (1995)</td>\n",
       "      <td>Comedy</td>\n",
       "    </tr>\n",
       "  </tbody>\n",
       "</table>\n",
       "</div>"
      ],
      "text/plain": [
       "   movieId                               title  \\\n",
       "0        1                    Toy Story (1995)   \n",
       "1        2                      Jumanji (1995)   \n",
       "2        3             Grumpier Old Men (1995)   \n",
       "3        4            Waiting to Exhale (1995)   \n",
       "4        5  Father of the Bride Part II (1995)   \n",
       "\n",
       "                                        genres  \n",
       "0  Adventure|Animation|Children|Comedy|Fantasy  \n",
       "1                   Adventure|Children|Fantasy  \n",
       "2                               Comedy|Romance  \n",
       "3                         Comedy|Drama|Romance  \n",
       "4                                       Comedy  "
      ]
     },
     "execution_count": 12,
     "metadata": {},
     "output_type": "execute_result"
    }
   ],
   "source": [
    "movies.head()"
   ]
  },
  {
   "cell_type": "markdown",
   "metadata": {},
   "source": [
    "<br>"
   ]
  },
  {
   "cell_type": "markdown",
   "metadata": {},
   "source": [
    "### 6.1.2 `ratings.csv`\n",
    "\n",
    "- 사용자별로 영화에 대한 평점을 매긴 데이터 세트\n",
    "- 100,836개의 레코드 세트\n",
    "- `userId` : 사용자 아이디\n",
    "- `movieId` : 영화(아이템) 아이디\n",
    "- `rating` : 평점 (최소 0.5에서 최대 5점 사이, 0.5 단위로 평점을 부여)"
   ]
  },
  {
   "cell_type": "code",
   "execution_count": 13,
   "metadata": {},
   "outputs": [
    {
     "data": {
      "text/html": [
       "<div>\n",
       "<style scoped>\n",
       "    .dataframe tbody tr th:only-of-type {\n",
       "        vertical-align: middle;\n",
       "    }\n",
       "\n",
       "    .dataframe tbody tr th {\n",
       "        vertical-align: top;\n",
       "    }\n",
       "\n",
       "    .dataframe thead th {\n",
       "        text-align: right;\n",
       "    }\n",
       "</style>\n",
       "<table border=\"1\" class=\"dataframe\">\n",
       "  <thead>\n",
       "    <tr style=\"text-align: right;\">\n",
       "      <th></th>\n",
       "      <th>userId</th>\n",
       "      <th>movieId</th>\n",
       "      <th>rating</th>\n",
       "      <th>timestamp</th>\n",
       "    </tr>\n",
       "  </thead>\n",
       "  <tbody>\n",
       "    <tr>\n",
       "      <th>0</th>\n",
       "      <td>1</td>\n",
       "      <td>1</td>\n",
       "      <td>4.0</td>\n",
       "      <td>964982703</td>\n",
       "    </tr>\n",
       "    <tr>\n",
       "      <th>1</th>\n",
       "      <td>1</td>\n",
       "      <td>3</td>\n",
       "      <td>4.0</td>\n",
       "      <td>964981247</td>\n",
       "    </tr>\n",
       "    <tr>\n",
       "      <th>2</th>\n",
       "      <td>1</td>\n",
       "      <td>6</td>\n",
       "      <td>4.0</td>\n",
       "      <td>964982224</td>\n",
       "    </tr>\n",
       "    <tr>\n",
       "      <th>3</th>\n",
       "      <td>1</td>\n",
       "      <td>47</td>\n",
       "      <td>5.0</td>\n",
       "      <td>964983815</td>\n",
       "    </tr>\n",
       "    <tr>\n",
       "      <th>4</th>\n",
       "      <td>1</td>\n",
       "      <td>50</td>\n",
       "      <td>5.0</td>\n",
       "      <td>964982931</td>\n",
       "    </tr>\n",
       "  </tbody>\n",
       "</table>\n",
       "</div>"
      ],
      "text/plain": [
       "   userId  movieId  rating  timestamp\n",
       "0       1        1     4.0  964982703\n",
       "1       1        3     4.0  964981247\n",
       "2       1        6     4.0  964982224\n",
       "3       1       47     5.0  964983815\n",
       "4       1       50     5.0  964982931"
      ]
     },
     "execution_count": 13,
     "metadata": {},
     "output_type": "execute_result"
    }
   ],
   "source": [
    "ratings.head()"
   ]
  },
  {
   "cell_type": "markdown",
   "metadata": {},
   "source": [
    "- `timestamp`은 현재로서는 큰 의미가 없는 컬럼이다."
   ]
  },
  {
   "cell_type": "markdown",
   "metadata": {},
   "source": [
    "- 협업 필터링은 이 `ratings.csv` 데이터 세트와 같이 사용자와 아이템 간의 평점(또는 다른 유형의 액션)에 기반해 추천하는 시스템이다.\n",
    "- `ratings.csv`의 DataFrame인 `ratings`를 이용해 아이템 기반의 최근접 이웃 협업 필터링을 구현"
   ]
  },
  {
   "cell_type": "markdown",
   "metadata": {},
   "source": [
    "<br>"
   ]
  },
  {
   "cell_type": "markdown",
   "metadata": {},
   "source": [
    "### 6.1.3 사용자-영화 평점 행렬 데이터 세트 생성\n",
    "\n",
    "- 먼저 로우(행) 레벨 형태의 원본 데이터 세트를 다음 그림과 같이 구성한 데이터 세트로 변경\n",
    "  - 로우 : 모든 사용자\n",
    "  - 컬럼 : 모든 영화\n",
    "  \n",
    "<img src=\"./images/Ch09/06/img001.jpg\" />"
   ]
  },
  {
   "cell_type": "markdown",
   "metadata": {},
   "source": [
    "- 이 같은 변환은 DataFrame의 `pivot_table()` 함수를 이용하면 된다.\n",
    "- `pivot_table()` 함수는 로우 레벨의 값을 컬럼으로 변경하는 데 효과적이다.\n",
    "- `pivot_table()` 에 인자로 `columns='movieId'`와 같이 부여하면 `movieId` 컬럼의 모든 값이 새로운 컬럼 이름으로 변환된다.\n",
    "\n",
    "```python\n",
    "ratings.pivot_table('rating', index='userId', columns='movieId')\n",
    "```\n",
    "\n",
    "- 로우(행) 레벨 : `userId'\n",
    "- 컬럼 : 모두 `movieId` 컬럼에 있는 값으로 컬럼 이름이 바뀜\n",
    "- 데이터 : `rating` 컬럼에 있는 값이 할당됨"
   ]
  },
  {
   "cell_type": "code",
   "execution_count": 14,
   "metadata": {},
   "outputs": [
    {
     "data": {
      "text/html": [
       "<div>\n",
       "<style scoped>\n",
       "    .dataframe tbody tr th:only-of-type {\n",
       "        vertical-align: middle;\n",
       "    }\n",
       "\n",
       "    .dataframe tbody tr th {\n",
       "        vertical-align: top;\n",
       "    }\n",
       "\n",
       "    .dataframe thead th {\n",
       "        text-align: right;\n",
       "    }\n",
       "</style>\n",
       "<table border=\"1\" class=\"dataframe\">\n",
       "  <thead>\n",
       "    <tr style=\"text-align: right;\">\n",
       "      <th>movieId</th>\n",
       "      <th>1</th>\n",
       "      <th>2</th>\n",
       "      <th>3</th>\n",
       "      <th>4</th>\n",
       "      <th>5</th>\n",
       "      <th>6</th>\n",
       "      <th>7</th>\n",
       "      <th>8</th>\n",
       "      <th>9</th>\n",
       "      <th>10</th>\n",
       "      <th>...</th>\n",
       "      <th>193565</th>\n",
       "      <th>193567</th>\n",
       "      <th>193571</th>\n",
       "      <th>193573</th>\n",
       "      <th>193579</th>\n",
       "      <th>193581</th>\n",
       "      <th>193583</th>\n",
       "      <th>193585</th>\n",
       "      <th>193587</th>\n",
       "      <th>193609</th>\n",
       "    </tr>\n",
       "    <tr>\n",
       "      <th>userId</th>\n",
       "      <th></th>\n",
       "      <th></th>\n",
       "      <th></th>\n",
       "      <th></th>\n",
       "      <th></th>\n",
       "      <th></th>\n",
       "      <th></th>\n",
       "      <th></th>\n",
       "      <th></th>\n",
       "      <th></th>\n",
       "      <th></th>\n",
       "      <th></th>\n",
       "      <th></th>\n",
       "      <th></th>\n",
       "      <th></th>\n",
       "      <th></th>\n",
       "      <th></th>\n",
       "      <th></th>\n",
       "      <th></th>\n",
       "      <th></th>\n",
       "      <th></th>\n",
       "    </tr>\n",
       "  </thead>\n",
       "  <tbody>\n",
       "    <tr>\n",
       "      <th>1</th>\n",
       "      <td>4.0</td>\n",
       "      <td>NaN</td>\n",
       "      <td>4.0</td>\n",
       "      <td>NaN</td>\n",
       "      <td>NaN</td>\n",
       "      <td>4.0</td>\n",
       "      <td>NaN</td>\n",
       "      <td>NaN</td>\n",
       "      <td>NaN</td>\n",
       "      <td>NaN</td>\n",
       "      <td>...</td>\n",
       "      <td>NaN</td>\n",
       "      <td>NaN</td>\n",
       "      <td>NaN</td>\n",
       "      <td>NaN</td>\n",
       "      <td>NaN</td>\n",
       "      <td>NaN</td>\n",
       "      <td>NaN</td>\n",
       "      <td>NaN</td>\n",
       "      <td>NaN</td>\n",
       "      <td>NaN</td>\n",
       "    </tr>\n",
       "    <tr>\n",
       "      <th>2</th>\n",
       "      <td>NaN</td>\n",
       "      <td>NaN</td>\n",
       "      <td>NaN</td>\n",
       "      <td>NaN</td>\n",
       "      <td>NaN</td>\n",
       "      <td>NaN</td>\n",
       "      <td>NaN</td>\n",
       "      <td>NaN</td>\n",
       "      <td>NaN</td>\n",
       "      <td>NaN</td>\n",
       "      <td>...</td>\n",
       "      <td>NaN</td>\n",
       "      <td>NaN</td>\n",
       "      <td>NaN</td>\n",
       "      <td>NaN</td>\n",
       "      <td>NaN</td>\n",
       "      <td>NaN</td>\n",
       "      <td>NaN</td>\n",
       "      <td>NaN</td>\n",
       "      <td>NaN</td>\n",
       "      <td>NaN</td>\n",
       "    </tr>\n",
       "    <tr>\n",
       "      <th>3</th>\n",
       "      <td>NaN</td>\n",
       "      <td>NaN</td>\n",
       "      <td>NaN</td>\n",
       "      <td>NaN</td>\n",
       "      <td>NaN</td>\n",
       "      <td>NaN</td>\n",
       "      <td>NaN</td>\n",
       "      <td>NaN</td>\n",
       "      <td>NaN</td>\n",
       "      <td>NaN</td>\n",
       "      <td>...</td>\n",
       "      <td>NaN</td>\n",
       "      <td>NaN</td>\n",
       "      <td>NaN</td>\n",
       "      <td>NaN</td>\n",
       "      <td>NaN</td>\n",
       "      <td>NaN</td>\n",
       "      <td>NaN</td>\n",
       "      <td>NaN</td>\n",
       "      <td>NaN</td>\n",
       "      <td>NaN</td>\n",
       "    </tr>\n",
       "  </tbody>\n",
       "</table>\n",
       "<p>3 rows × 9724 columns</p>\n",
       "</div>"
      ],
      "text/plain": [
       "movieId  1       2       3       4       5       6       7       8       \\\n",
       "userId                                                                    \n",
       "1           4.0     NaN     4.0     NaN     NaN     4.0     NaN     NaN   \n",
       "2           NaN     NaN     NaN     NaN     NaN     NaN     NaN     NaN   \n",
       "3           NaN     NaN     NaN     NaN     NaN     NaN     NaN     NaN   \n",
       "\n",
       "movieId  9       10      ...  193565  193567  193571  193573  193579  193581  \\\n",
       "userId                   ...                                                   \n",
       "1           NaN     NaN  ...     NaN     NaN     NaN     NaN     NaN     NaN   \n",
       "2           NaN     NaN  ...     NaN     NaN     NaN     NaN     NaN     NaN   \n",
       "3           NaN     NaN  ...     NaN     NaN     NaN     NaN     NaN     NaN   \n",
       "\n",
       "movieId  193583  193585  193587  193609  \n",
       "userId                                   \n",
       "1           NaN     NaN     NaN     NaN  \n",
       "2           NaN     NaN     NaN     NaN  \n",
       "3           NaN     NaN     NaN     NaN  \n",
       "\n",
       "[3 rows x 9724 columns]"
      ]
     },
     "execution_count": 14,
     "metadata": {},
     "output_type": "execute_result"
    }
   ],
   "source": [
    "ratings = ratings[['userId', 'movieId', 'rating']]\n",
    "ratings_matrix = ratings.pivot_table('rating', index='userId', columns='movieId')\n",
    "ratings_matrix.head(3)"
   ]
  },
  {
   "cell_type": "markdown",
   "metadata": {},
   "source": [
    "- `pivot_table()`을 적용한 후 `movieId` 값이 모두 컬럼명(`1`, `2`, ..., `193581`)으로 변환됨\n",
    "- `NaN` 값이 많은 이유\n",
    "  - 사용자가 평점을 매기지 않은 영화가 컬럼으로 변환되면서 `NaN`으로 값이 할당됐기 때문\n",
    "- 최소 평점 = 0.5 $\\Rightarrow$ `NaN`은 모두 0으로의 변환이 필요하다"
   ]
  },
  {
   "cell_type": "markdown",
   "metadata": {},
   "source": [
    "<br>"
   ]
  },
  {
   "cell_type": "markdown",
   "metadata": {},
   "source": [
    "### 6.1.4 영화 제목 정보가 포함된 사용자-영화 평점 행렬 데이터 세트 생성\n",
    "\n",
    "- 컬럼명이 현재 `movieId` 숫자 값(1, 2, 3, ...)과 같이 할당돼 있어 사용자가 평점을 준 영화가 어떤 영화인 지 알기 어렵다.\n",
    "- 가동성을 높이기 위해 컬럼명을 `movieId`가 아닌 영화명 `title`로 변경\n",
    "- 영화명은 `ratings`에 존재하지 않고 `movies` 데이터 세트에 존재\n",
    "- `ratings`와 `movies`를 조인해 `title` 컬럼을 가져온 뒤 `pivot_table()`의 인자로 `column='title'`을 입력해 `title`로 피벗(pivot) 실시\n",
    "- 이후에 `NaN`은 0으로 변환"
   ]
  },
  {
   "cell_type": "code",
   "execution_count": 15,
   "metadata": {},
   "outputs": [
    {
     "data": {
      "text/html": [
       "<div>\n",
       "<style scoped>\n",
       "    .dataframe tbody tr th:only-of-type {\n",
       "        vertical-align: middle;\n",
       "    }\n",
       "\n",
       "    .dataframe tbody tr th {\n",
       "        vertical-align: top;\n",
       "    }\n",
       "\n",
       "    .dataframe thead th {\n",
       "        text-align: right;\n",
       "    }\n",
       "</style>\n",
       "<table border=\"1\" class=\"dataframe\">\n",
       "  <thead>\n",
       "    <tr style=\"text-align: right;\">\n",
       "      <th></th>\n",
       "      <th>userId</th>\n",
       "      <th>movieId</th>\n",
       "      <th>rating</th>\n",
       "      <th>title</th>\n",
       "      <th>genres</th>\n",
       "    </tr>\n",
       "  </thead>\n",
       "  <tbody>\n",
       "    <tr>\n",
       "      <th>0</th>\n",
       "      <td>1</td>\n",
       "      <td>1</td>\n",
       "      <td>4.0</td>\n",
       "      <td>Toy Story (1995)</td>\n",
       "      <td>Adventure|Animation|Children|Comedy|Fantasy</td>\n",
       "    </tr>\n",
       "    <tr>\n",
       "      <th>1</th>\n",
       "      <td>5</td>\n",
       "      <td>1</td>\n",
       "      <td>4.0</td>\n",
       "      <td>Toy Story (1995)</td>\n",
       "      <td>Adventure|Animation|Children|Comedy|Fantasy</td>\n",
       "    </tr>\n",
       "    <tr>\n",
       "      <th>2</th>\n",
       "      <td>7</td>\n",
       "      <td>1</td>\n",
       "      <td>4.5</td>\n",
       "      <td>Toy Story (1995)</td>\n",
       "      <td>Adventure|Animation|Children|Comedy|Fantasy</td>\n",
       "    </tr>\n",
       "    <tr>\n",
       "      <th>3</th>\n",
       "      <td>15</td>\n",
       "      <td>1</td>\n",
       "      <td>2.5</td>\n",
       "      <td>Toy Story (1995)</td>\n",
       "      <td>Adventure|Animation|Children|Comedy|Fantasy</td>\n",
       "    </tr>\n",
       "    <tr>\n",
       "      <th>4</th>\n",
       "      <td>17</td>\n",
       "      <td>1</td>\n",
       "      <td>4.5</td>\n",
       "      <td>Toy Story (1995)</td>\n",
       "      <td>Adventure|Animation|Children|Comedy|Fantasy</td>\n",
       "    </tr>\n",
       "  </tbody>\n",
       "</table>\n",
       "</div>"
      ],
      "text/plain": [
       "   userId  movieId  rating             title  \\\n",
       "0       1        1     4.0  Toy Story (1995)   \n",
       "1       5        1     4.0  Toy Story (1995)   \n",
       "2       7        1     4.5  Toy Story (1995)   \n",
       "3      15        1     2.5  Toy Story (1995)   \n",
       "4      17        1     4.5  Toy Story (1995)   \n",
       "\n",
       "                                        genres  \n",
       "0  Adventure|Animation|Children|Comedy|Fantasy  \n",
       "1  Adventure|Animation|Children|Comedy|Fantasy  \n",
       "2  Adventure|Animation|Children|Comedy|Fantasy  \n",
       "3  Adventure|Animation|Children|Comedy|Fantasy  \n",
       "4  Adventure|Animation|Children|Comedy|Fantasy  "
      ]
     },
     "execution_count": 15,
     "metadata": {},
     "output_type": "execute_result"
    }
   ],
   "source": [
    "# title 컬럼을 얻기 위해 movies와 조인\n",
    "rating_movies = pd.merge(ratings, movies, on='movieId')\n",
    "rating_movies.head()"
   ]
  },
  {
   "cell_type": "code",
   "execution_count": 16,
   "metadata": {},
   "outputs": [
    {
     "data": {
      "text/html": [
       "<div>\n",
       "<style scoped>\n",
       "    .dataframe tbody tr th:only-of-type {\n",
       "        vertical-align: middle;\n",
       "    }\n",
       "\n",
       "    .dataframe tbody tr th {\n",
       "        vertical-align: top;\n",
       "    }\n",
       "\n",
       "    .dataframe thead th {\n",
       "        text-align: right;\n",
       "    }\n",
       "</style>\n",
       "<table border=\"1\" class=\"dataframe\">\n",
       "  <thead>\n",
       "    <tr style=\"text-align: right;\">\n",
       "      <th>title</th>\n",
       "      <th>'71 (2014)</th>\n",
       "      <th>'Hellboy': The Seeds of Creation (2004)</th>\n",
       "      <th>'Round Midnight (1986)</th>\n",
       "      <th>'Salem's Lot (2004)</th>\n",
       "      <th>'Til There Was You (1997)</th>\n",
       "      <th>'Tis the Season for Love (2015)</th>\n",
       "      <th>'burbs, The (1989)</th>\n",
       "      <th>'night Mother (1986)</th>\n",
       "      <th>(500) Days of Summer (2009)</th>\n",
       "      <th>*batteries not included (1987)</th>\n",
       "      <th>...</th>\n",
       "      <th>Zulu (2013)</th>\n",
       "      <th>[REC] (2007)</th>\n",
       "      <th>[REC]² (2009)</th>\n",
       "      <th>[REC]³ 3 Génesis (2012)</th>\n",
       "      <th>anohana: The Flower We Saw That Day - The Movie (2013)</th>\n",
       "      <th>eXistenZ (1999)</th>\n",
       "      <th>xXx (2002)</th>\n",
       "      <th>xXx: State of the Union (2005)</th>\n",
       "      <th>¡Three Amigos! (1986)</th>\n",
       "      <th>À nous la liberté (Freedom for Us) (1931)</th>\n",
       "    </tr>\n",
       "    <tr>\n",
       "      <th>userId</th>\n",
       "      <th></th>\n",
       "      <th></th>\n",
       "      <th></th>\n",
       "      <th></th>\n",
       "      <th></th>\n",
       "      <th></th>\n",
       "      <th></th>\n",
       "      <th></th>\n",
       "      <th></th>\n",
       "      <th></th>\n",
       "      <th></th>\n",
       "      <th></th>\n",
       "      <th></th>\n",
       "      <th></th>\n",
       "      <th></th>\n",
       "      <th></th>\n",
       "      <th></th>\n",
       "      <th></th>\n",
       "      <th></th>\n",
       "      <th></th>\n",
       "      <th></th>\n",
       "    </tr>\n",
       "  </thead>\n",
       "  <tbody>\n",
       "    <tr>\n",
       "      <th>1</th>\n",
       "      <td>NaN</td>\n",
       "      <td>NaN</td>\n",
       "      <td>NaN</td>\n",
       "      <td>NaN</td>\n",
       "      <td>NaN</td>\n",
       "      <td>NaN</td>\n",
       "      <td>NaN</td>\n",
       "      <td>NaN</td>\n",
       "      <td>NaN</td>\n",
       "      <td>NaN</td>\n",
       "      <td>...</td>\n",
       "      <td>NaN</td>\n",
       "      <td>NaN</td>\n",
       "      <td>NaN</td>\n",
       "      <td>NaN</td>\n",
       "      <td>NaN</td>\n",
       "      <td>NaN</td>\n",
       "      <td>NaN</td>\n",
       "      <td>NaN</td>\n",
       "      <td>4.0</td>\n",
       "      <td>NaN</td>\n",
       "    </tr>\n",
       "    <tr>\n",
       "      <th>2</th>\n",
       "      <td>NaN</td>\n",
       "      <td>NaN</td>\n",
       "      <td>NaN</td>\n",
       "      <td>NaN</td>\n",
       "      <td>NaN</td>\n",
       "      <td>NaN</td>\n",
       "      <td>NaN</td>\n",
       "      <td>NaN</td>\n",
       "      <td>NaN</td>\n",
       "      <td>NaN</td>\n",
       "      <td>...</td>\n",
       "      <td>NaN</td>\n",
       "      <td>NaN</td>\n",
       "      <td>NaN</td>\n",
       "      <td>NaN</td>\n",
       "      <td>NaN</td>\n",
       "      <td>NaN</td>\n",
       "      <td>NaN</td>\n",
       "      <td>NaN</td>\n",
       "      <td>NaN</td>\n",
       "      <td>NaN</td>\n",
       "    </tr>\n",
       "    <tr>\n",
       "      <th>3</th>\n",
       "      <td>NaN</td>\n",
       "      <td>NaN</td>\n",
       "      <td>NaN</td>\n",
       "      <td>NaN</td>\n",
       "      <td>NaN</td>\n",
       "      <td>NaN</td>\n",
       "      <td>NaN</td>\n",
       "      <td>NaN</td>\n",
       "      <td>NaN</td>\n",
       "      <td>NaN</td>\n",
       "      <td>...</td>\n",
       "      <td>NaN</td>\n",
       "      <td>NaN</td>\n",
       "      <td>NaN</td>\n",
       "      <td>NaN</td>\n",
       "      <td>NaN</td>\n",
       "      <td>NaN</td>\n",
       "      <td>NaN</td>\n",
       "      <td>NaN</td>\n",
       "      <td>NaN</td>\n",
       "      <td>NaN</td>\n",
       "    </tr>\n",
       "    <tr>\n",
       "      <th>4</th>\n",
       "      <td>NaN</td>\n",
       "      <td>NaN</td>\n",
       "      <td>NaN</td>\n",
       "      <td>NaN</td>\n",
       "      <td>NaN</td>\n",
       "      <td>NaN</td>\n",
       "      <td>NaN</td>\n",
       "      <td>NaN</td>\n",
       "      <td>NaN</td>\n",
       "      <td>NaN</td>\n",
       "      <td>...</td>\n",
       "      <td>NaN</td>\n",
       "      <td>NaN</td>\n",
       "      <td>NaN</td>\n",
       "      <td>NaN</td>\n",
       "      <td>NaN</td>\n",
       "      <td>NaN</td>\n",
       "      <td>NaN</td>\n",
       "      <td>NaN</td>\n",
       "      <td>NaN</td>\n",
       "      <td>NaN</td>\n",
       "    </tr>\n",
       "    <tr>\n",
       "      <th>5</th>\n",
       "      <td>NaN</td>\n",
       "      <td>NaN</td>\n",
       "      <td>NaN</td>\n",
       "      <td>NaN</td>\n",
       "      <td>NaN</td>\n",
       "      <td>NaN</td>\n",
       "      <td>NaN</td>\n",
       "      <td>NaN</td>\n",
       "      <td>NaN</td>\n",
       "      <td>NaN</td>\n",
       "      <td>...</td>\n",
       "      <td>NaN</td>\n",
       "      <td>NaN</td>\n",
       "      <td>NaN</td>\n",
       "      <td>NaN</td>\n",
       "      <td>NaN</td>\n",
       "      <td>NaN</td>\n",
       "      <td>NaN</td>\n",
       "      <td>NaN</td>\n",
       "      <td>NaN</td>\n",
       "      <td>NaN</td>\n",
       "    </tr>\n",
       "  </tbody>\n",
       "</table>\n",
       "<p>5 rows × 9719 columns</p>\n",
       "</div>"
      ],
      "text/plain": [
       "title   '71 (2014)  'Hellboy': The Seeds of Creation (2004)  \\\n",
       "userId                                                        \n",
       "1              NaN                                      NaN   \n",
       "2              NaN                                      NaN   \n",
       "3              NaN                                      NaN   \n",
       "4              NaN                                      NaN   \n",
       "5              NaN                                      NaN   \n",
       "\n",
       "title   'Round Midnight (1986)  'Salem's Lot (2004)  \\\n",
       "userId                                                \n",
       "1                          NaN                  NaN   \n",
       "2                          NaN                  NaN   \n",
       "3                          NaN                  NaN   \n",
       "4                          NaN                  NaN   \n",
       "5                          NaN                  NaN   \n",
       "\n",
       "title   'Til There Was You (1997)  'Tis the Season for Love (2015)  \\\n",
       "userId                                                               \n",
       "1                             NaN                              NaN   \n",
       "2                             NaN                              NaN   \n",
       "3                             NaN                              NaN   \n",
       "4                             NaN                              NaN   \n",
       "5                             NaN                              NaN   \n",
       "\n",
       "title   'burbs, The (1989)  'night Mother (1986)  (500) Days of Summer (2009)  \\\n",
       "userId                                                                          \n",
       "1                      NaN                   NaN                          NaN   \n",
       "2                      NaN                   NaN                          NaN   \n",
       "3                      NaN                   NaN                          NaN   \n",
       "4                      NaN                   NaN                          NaN   \n",
       "5                      NaN                   NaN                          NaN   \n",
       "\n",
       "title   *batteries not included (1987)  ...  Zulu (2013)  [REC] (2007)  \\\n",
       "userId                                  ...                              \n",
       "1                                  NaN  ...          NaN           NaN   \n",
       "2                                  NaN  ...          NaN           NaN   \n",
       "3                                  NaN  ...          NaN           NaN   \n",
       "4                                  NaN  ...          NaN           NaN   \n",
       "5                                  NaN  ...          NaN           NaN   \n",
       "\n",
       "title   [REC]² (2009)  [REC]³ 3 Génesis (2012)  \\\n",
       "userId                                           \n",
       "1                 NaN                      NaN   \n",
       "2                 NaN                      NaN   \n",
       "3                 NaN                      NaN   \n",
       "4                 NaN                      NaN   \n",
       "5                 NaN                      NaN   \n",
       "\n",
       "title   anohana: The Flower We Saw That Day - The Movie (2013)  \\\n",
       "userId                                                           \n",
       "1                                                     NaN        \n",
       "2                                                     NaN        \n",
       "3                                                     NaN        \n",
       "4                                                     NaN        \n",
       "5                                                     NaN        \n",
       "\n",
       "title   eXistenZ (1999)  xXx (2002)  xXx: State of the Union (2005)  \\\n",
       "userId                                                                \n",
       "1                   NaN         NaN                             NaN   \n",
       "2                   NaN         NaN                             NaN   \n",
       "3                   NaN         NaN                             NaN   \n",
       "4                   NaN         NaN                             NaN   \n",
       "5                   NaN         NaN                             NaN   \n",
       "\n",
       "title   ¡Three Amigos! (1986)  À nous la liberté (Freedom for Us) (1931)  \n",
       "userId                                                                    \n",
       "1                         4.0                                        NaN  \n",
       "2                         NaN                                        NaN  \n",
       "3                         NaN                                        NaN  \n",
       "4                         NaN                                        NaN  \n",
       "5                         NaN                                        NaN  \n",
       "\n",
       "[5 rows x 9719 columns]"
      ]
     },
     "execution_count": 16,
     "metadata": {},
     "output_type": "execute_result"
    }
   ],
   "source": [
    "# columns='title'로 title 컬럼으로 피벗 수행\n",
    "ratings_matrix = rating_movies.pivot_table('rating', index='userId', columns='title')\n",
    "ratings_matrix.head()"
   ]
  },
  {
   "cell_type": "code",
   "execution_count": 17,
   "metadata": {},
   "outputs": [
    {
     "data": {
      "text/html": [
       "<div>\n",
       "<style scoped>\n",
       "    .dataframe tbody tr th:only-of-type {\n",
       "        vertical-align: middle;\n",
       "    }\n",
       "\n",
       "    .dataframe tbody tr th {\n",
       "        vertical-align: top;\n",
       "    }\n",
       "\n",
       "    .dataframe thead th {\n",
       "        text-align: right;\n",
       "    }\n",
       "</style>\n",
       "<table border=\"1\" class=\"dataframe\">\n",
       "  <thead>\n",
       "    <tr style=\"text-align: right;\">\n",
       "      <th>title</th>\n",
       "      <th>'71 (2014)</th>\n",
       "      <th>'Hellboy': The Seeds of Creation (2004)</th>\n",
       "      <th>'Round Midnight (1986)</th>\n",
       "      <th>'Salem's Lot (2004)</th>\n",
       "      <th>'Til There Was You (1997)</th>\n",
       "      <th>'Tis the Season for Love (2015)</th>\n",
       "      <th>'burbs, The (1989)</th>\n",
       "      <th>'night Mother (1986)</th>\n",
       "      <th>(500) Days of Summer (2009)</th>\n",
       "      <th>*batteries not included (1987)</th>\n",
       "      <th>...</th>\n",
       "      <th>Zulu (2013)</th>\n",
       "      <th>[REC] (2007)</th>\n",
       "      <th>[REC]² (2009)</th>\n",
       "      <th>[REC]³ 3 Génesis (2012)</th>\n",
       "      <th>anohana: The Flower We Saw That Day - The Movie (2013)</th>\n",
       "      <th>eXistenZ (1999)</th>\n",
       "      <th>xXx (2002)</th>\n",
       "      <th>xXx: State of the Union (2005)</th>\n",
       "      <th>¡Three Amigos! (1986)</th>\n",
       "      <th>À nous la liberté (Freedom for Us) (1931)</th>\n",
       "    </tr>\n",
       "    <tr>\n",
       "      <th>userId</th>\n",
       "      <th></th>\n",
       "      <th></th>\n",
       "      <th></th>\n",
       "      <th></th>\n",
       "      <th></th>\n",
       "      <th></th>\n",
       "      <th></th>\n",
       "      <th></th>\n",
       "      <th></th>\n",
       "      <th></th>\n",
       "      <th></th>\n",
       "      <th></th>\n",
       "      <th></th>\n",
       "      <th></th>\n",
       "      <th></th>\n",
       "      <th></th>\n",
       "      <th></th>\n",
       "      <th></th>\n",
       "      <th></th>\n",
       "      <th></th>\n",
       "      <th></th>\n",
       "    </tr>\n",
       "  </thead>\n",
       "  <tbody>\n",
       "    <tr>\n",
       "      <th>1</th>\n",
       "      <td>0.0</td>\n",
       "      <td>0.0</td>\n",
       "      <td>0.0</td>\n",
       "      <td>0.0</td>\n",
       "      <td>0.0</td>\n",
       "      <td>0.0</td>\n",
       "      <td>0.0</td>\n",
       "      <td>0.0</td>\n",
       "      <td>0.0</td>\n",
       "      <td>0.0</td>\n",
       "      <td>...</td>\n",
       "      <td>0.0</td>\n",
       "      <td>0.0</td>\n",
       "      <td>0.0</td>\n",
       "      <td>0.0</td>\n",
       "      <td>0.0</td>\n",
       "      <td>0.0</td>\n",
       "      <td>0.0</td>\n",
       "      <td>0.0</td>\n",
       "      <td>4.0</td>\n",
       "      <td>0.0</td>\n",
       "    </tr>\n",
       "    <tr>\n",
       "      <th>2</th>\n",
       "      <td>0.0</td>\n",
       "      <td>0.0</td>\n",
       "      <td>0.0</td>\n",
       "      <td>0.0</td>\n",
       "      <td>0.0</td>\n",
       "      <td>0.0</td>\n",
       "      <td>0.0</td>\n",
       "      <td>0.0</td>\n",
       "      <td>0.0</td>\n",
       "      <td>0.0</td>\n",
       "      <td>...</td>\n",
       "      <td>0.0</td>\n",
       "      <td>0.0</td>\n",
       "      <td>0.0</td>\n",
       "      <td>0.0</td>\n",
       "      <td>0.0</td>\n",
       "      <td>0.0</td>\n",
       "      <td>0.0</td>\n",
       "      <td>0.0</td>\n",
       "      <td>0.0</td>\n",
       "      <td>0.0</td>\n",
       "    </tr>\n",
       "    <tr>\n",
       "      <th>3</th>\n",
       "      <td>0.0</td>\n",
       "      <td>0.0</td>\n",
       "      <td>0.0</td>\n",
       "      <td>0.0</td>\n",
       "      <td>0.0</td>\n",
       "      <td>0.0</td>\n",
       "      <td>0.0</td>\n",
       "      <td>0.0</td>\n",
       "      <td>0.0</td>\n",
       "      <td>0.0</td>\n",
       "      <td>...</td>\n",
       "      <td>0.0</td>\n",
       "      <td>0.0</td>\n",
       "      <td>0.0</td>\n",
       "      <td>0.0</td>\n",
       "      <td>0.0</td>\n",
       "      <td>0.0</td>\n",
       "      <td>0.0</td>\n",
       "      <td>0.0</td>\n",
       "      <td>0.0</td>\n",
       "      <td>0.0</td>\n",
       "    </tr>\n",
       "  </tbody>\n",
       "</table>\n",
       "<p>3 rows × 9719 columns</p>\n",
       "</div>"
      ],
      "text/plain": [
       "title   '71 (2014)  'Hellboy': The Seeds of Creation (2004)  \\\n",
       "userId                                                        \n",
       "1              0.0                                      0.0   \n",
       "2              0.0                                      0.0   \n",
       "3              0.0                                      0.0   \n",
       "\n",
       "title   'Round Midnight (1986)  'Salem's Lot (2004)  \\\n",
       "userId                                                \n",
       "1                          0.0                  0.0   \n",
       "2                          0.0                  0.0   \n",
       "3                          0.0                  0.0   \n",
       "\n",
       "title   'Til There Was You (1997)  'Tis the Season for Love (2015)  \\\n",
       "userId                                                               \n",
       "1                             0.0                              0.0   \n",
       "2                             0.0                              0.0   \n",
       "3                             0.0                              0.0   \n",
       "\n",
       "title   'burbs, The (1989)  'night Mother (1986)  (500) Days of Summer (2009)  \\\n",
       "userId                                                                          \n",
       "1                      0.0                   0.0                          0.0   \n",
       "2                      0.0                   0.0                          0.0   \n",
       "3                      0.0                   0.0                          0.0   \n",
       "\n",
       "title   *batteries not included (1987)  ...  Zulu (2013)  [REC] (2007)  \\\n",
       "userId                                  ...                              \n",
       "1                                  0.0  ...          0.0           0.0   \n",
       "2                                  0.0  ...          0.0           0.0   \n",
       "3                                  0.0  ...          0.0           0.0   \n",
       "\n",
       "title   [REC]² (2009)  [REC]³ 3 Génesis (2012)  \\\n",
       "userId                                           \n",
       "1                 0.0                      0.0   \n",
       "2                 0.0                      0.0   \n",
       "3                 0.0                      0.0   \n",
       "\n",
       "title   anohana: The Flower We Saw That Day - The Movie (2013)  \\\n",
       "userId                                                           \n",
       "1                                                     0.0        \n",
       "2                                                     0.0        \n",
       "3                                                     0.0        \n",
       "\n",
       "title   eXistenZ (1999)  xXx (2002)  xXx: State of the Union (2005)  \\\n",
       "userId                                                                \n",
       "1                   0.0         0.0                             0.0   \n",
       "2                   0.0         0.0                             0.0   \n",
       "3                   0.0         0.0                             0.0   \n",
       "\n",
       "title   ¡Three Amigos! (1986)  À nous la liberté (Freedom for Us) (1931)  \n",
       "userId                                                                    \n",
       "1                         4.0                                        0.0  \n",
       "2                         0.0                                        0.0  \n",
       "3                         0.0                                        0.0  \n",
       "\n",
       "[3 rows x 9719 columns]"
      ]
     },
     "execution_count": 17,
     "metadata": {},
     "output_type": "execute_result"
    }
   ],
   "source": [
    "# NaN 값을 모두 0으로 변환\n",
    "ratings_matrix = ratings_matrix.fillna(0)\n",
    "ratings_matrix.head(3)"
   ]
  },
  {
   "cell_type": "markdown",
   "metadata": {},
   "source": [
    "<br>"
   ]
  },
  {
   "cell_type": "markdown",
   "metadata": {},
   "source": [
    "## 6.2 영화 간 유사도 산출\n",
    "\n",
    "- 변환된 사용자-영화 평점 행렬 데이터 세트를 이용해 영화 간의 유사도를 측정\n",
    "- 영화간의 유사도 측정 방법\n",
    "  - 코사인 유사도를 기반으로 함\n",
    "  - 사이킷런의 `cosine_similarity()`를 이용해 측정"
   ]
  },
  {
   "cell_type": "markdown",
   "metadata": {},
   "source": [
    "<br>"
   ]
  },
  {
   "cell_type": "markdown",
   "metadata": {},
   "source": [
    "### 6.2.1 사용자 간의 유사도 행렬 생성\n",
    "\n",
    "- 지금 만든 `ratings_matrix` 데이터 세트에 `cosine_similarity()`를 적용하면 영화간 유사도를 측정할 수 없다.\n",
    "- 다음 그림에서도 볼 수 있듯이 `cosine_similarity()` 함수는 행을 기준으로 서로 다른 행을 비교해 유사도를 산출한다.\n",
    "- 하지만 `ratings_matrix`는 `userId`가 기준인 행 레벨 데이터이다.\n",
    "- 그러므로 여기에 `cosine_similarity()`를 적용하면 영화 간의 유사도가 아닌 **사용자 간의 유사도**가 만들어진다.\n",
    "\n",
    "<img src=\"./images/Ch09/06/img002.jpg\" />\n",
    "\n",
    "- 영화를 기준으로 `cosine_similarity()`를 적용하려면 현재의 `ratings_matrix`가 행 기준이 영화가 되고 열 기준이 사용자가 되어야 한다.\n",
    "- Pandas의 전치 행렬 변경을 위한 `transpose()` 함수를 사용하여 데이터의 행과 열의 위치를 변경하여 `ratings_matrix_T`라는 새로운 행렬 생성"
   ]
  },
  {
   "cell_type": "code",
   "execution_count": 18,
   "metadata": {},
   "outputs": [
    {
     "data": {
      "text/html": [
       "<div>\n",
       "<style scoped>\n",
       "    .dataframe tbody tr th:only-of-type {\n",
       "        vertical-align: middle;\n",
       "    }\n",
       "\n",
       "    .dataframe tbody tr th {\n",
       "        vertical-align: top;\n",
       "    }\n",
       "\n",
       "    .dataframe thead th {\n",
       "        text-align: right;\n",
       "    }\n",
       "</style>\n",
       "<table border=\"1\" class=\"dataframe\">\n",
       "  <thead>\n",
       "    <tr style=\"text-align: right;\">\n",
       "      <th>userId</th>\n",
       "      <th>1</th>\n",
       "      <th>2</th>\n",
       "      <th>3</th>\n",
       "      <th>4</th>\n",
       "      <th>5</th>\n",
       "      <th>6</th>\n",
       "      <th>7</th>\n",
       "      <th>8</th>\n",
       "      <th>9</th>\n",
       "      <th>10</th>\n",
       "      <th>...</th>\n",
       "      <th>601</th>\n",
       "      <th>602</th>\n",
       "      <th>603</th>\n",
       "      <th>604</th>\n",
       "      <th>605</th>\n",
       "      <th>606</th>\n",
       "      <th>607</th>\n",
       "      <th>608</th>\n",
       "      <th>609</th>\n",
       "      <th>610</th>\n",
       "    </tr>\n",
       "    <tr>\n",
       "      <th>title</th>\n",
       "      <th></th>\n",
       "      <th></th>\n",
       "      <th></th>\n",
       "      <th></th>\n",
       "      <th></th>\n",
       "      <th></th>\n",
       "      <th></th>\n",
       "      <th></th>\n",
       "      <th></th>\n",
       "      <th></th>\n",
       "      <th></th>\n",
       "      <th></th>\n",
       "      <th></th>\n",
       "      <th></th>\n",
       "      <th></th>\n",
       "      <th></th>\n",
       "      <th></th>\n",
       "      <th></th>\n",
       "      <th></th>\n",
       "      <th></th>\n",
       "      <th></th>\n",
       "    </tr>\n",
       "  </thead>\n",
       "  <tbody>\n",
       "    <tr>\n",
       "      <th>'71 (2014)</th>\n",
       "      <td>0.0</td>\n",
       "      <td>0.0</td>\n",
       "      <td>0.0</td>\n",
       "      <td>0.0</td>\n",
       "      <td>0.0</td>\n",
       "      <td>0.0</td>\n",
       "      <td>0.0</td>\n",
       "      <td>0.0</td>\n",
       "      <td>0.0</td>\n",
       "      <td>0.0</td>\n",
       "      <td>...</td>\n",
       "      <td>0.0</td>\n",
       "      <td>0.0</td>\n",
       "      <td>0.0</td>\n",
       "      <td>0.0</td>\n",
       "      <td>0.0</td>\n",
       "      <td>0.0</td>\n",
       "      <td>0.0</td>\n",
       "      <td>0.0</td>\n",
       "      <td>0.0</td>\n",
       "      <td>4.0</td>\n",
       "    </tr>\n",
       "    <tr>\n",
       "      <th>'Hellboy': The Seeds of Creation (2004)</th>\n",
       "      <td>0.0</td>\n",
       "      <td>0.0</td>\n",
       "      <td>0.0</td>\n",
       "      <td>0.0</td>\n",
       "      <td>0.0</td>\n",
       "      <td>0.0</td>\n",
       "      <td>0.0</td>\n",
       "      <td>0.0</td>\n",
       "      <td>0.0</td>\n",
       "      <td>0.0</td>\n",
       "      <td>...</td>\n",
       "      <td>0.0</td>\n",
       "      <td>0.0</td>\n",
       "      <td>0.0</td>\n",
       "      <td>0.0</td>\n",
       "      <td>0.0</td>\n",
       "      <td>0.0</td>\n",
       "      <td>0.0</td>\n",
       "      <td>0.0</td>\n",
       "      <td>0.0</td>\n",
       "      <td>0.0</td>\n",
       "    </tr>\n",
       "    <tr>\n",
       "      <th>'Round Midnight (1986)</th>\n",
       "      <td>0.0</td>\n",
       "      <td>0.0</td>\n",
       "      <td>0.0</td>\n",
       "      <td>0.0</td>\n",
       "      <td>0.0</td>\n",
       "      <td>0.0</td>\n",
       "      <td>0.0</td>\n",
       "      <td>0.0</td>\n",
       "      <td>0.0</td>\n",
       "      <td>0.0</td>\n",
       "      <td>...</td>\n",
       "      <td>0.0</td>\n",
       "      <td>0.0</td>\n",
       "      <td>0.0</td>\n",
       "      <td>0.0</td>\n",
       "      <td>0.0</td>\n",
       "      <td>0.0</td>\n",
       "      <td>0.0</td>\n",
       "      <td>0.0</td>\n",
       "      <td>0.0</td>\n",
       "      <td>0.0</td>\n",
       "    </tr>\n",
       "  </tbody>\n",
       "</table>\n",
       "<p>3 rows × 610 columns</p>\n",
       "</div>"
      ],
      "text/plain": [
       "userId                                   1    2    3    4    5    6    7    \\\n",
       "title                                                                        \n",
       "'71 (2014)                               0.0  0.0  0.0  0.0  0.0  0.0  0.0   \n",
       "'Hellboy': The Seeds of Creation (2004)  0.0  0.0  0.0  0.0  0.0  0.0  0.0   \n",
       "'Round Midnight (1986)                   0.0  0.0  0.0  0.0  0.0  0.0  0.0   \n",
       "\n",
       "userId                                   8    9    10   ...  601  602  603  \\\n",
       "title                                                   ...                  \n",
       "'71 (2014)                               0.0  0.0  0.0  ...  0.0  0.0  0.0   \n",
       "'Hellboy': The Seeds of Creation (2004)  0.0  0.0  0.0  ...  0.0  0.0  0.0   \n",
       "'Round Midnight (1986)                   0.0  0.0  0.0  ...  0.0  0.0  0.0   \n",
       "\n",
       "userId                                   604  605  606  607  608  609  610  \n",
       "title                                                                       \n",
       "'71 (2014)                               0.0  0.0  0.0  0.0  0.0  0.0  4.0  \n",
       "'Hellboy': The Seeds of Creation (2004)  0.0  0.0  0.0  0.0  0.0  0.0  0.0  \n",
       "'Round Midnight (1986)                   0.0  0.0  0.0  0.0  0.0  0.0  0.0  \n",
       "\n",
       "[3 rows x 610 columns]"
      ]
     },
     "execution_count": 18,
     "metadata": {},
     "output_type": "execute_result"
    }
   ],
   "source": [
    "ratings_matrix_T = ratings_matrix.transpose()\n",
    "ratings_matrix_T.head(3)"
   ]
  },
  {
   "cell_type": "markdown",
   "metadata": {},
   "source": [
    "<br>"
   ]
  },
  {
   "cell_type": "markdown",
   "metadata": {},
   "source": [
    "### 6.2.2 영화의 코사인 유사도 계산\n",
    "\n",
    "- `ratings_matrix_T` 데이터 세트를 기반으로 영화의 코사인 유사도를 구함\n",
    "- 좀 더 직관적인 영화의 유사도 값을 표현하기 위해 `cosine_similarity()`로 반환된 넘파이 행렬에 영화명을 매핑해 DataFrame으로 변환"
   ]
  },
  {
   "cell_type": "code",
   "execution_count": 19,
   "metadata": {},
   "outputs": [
    {
     "name": "stdout",
     "output_type": "stream",
     "text": [
      "(9719, 9719)\n"
     ]
    },
    {
     "data": {
      "text/html": [
       "<div>\n",
       "<style scoped>\n",
       "    .dataframe tbody tr th:only-of-type {\n",
       "        vertical-align: middle;\n",
       "    }\n",
       "\n",
       "    .dataframe tbody tr th {\n",
       "        vertical-align: top;\n",
       "    }\n",
       "\n",
       "    .dataframe thead th {\n",
       "        text-align: right;\n",
       "    }\n",
       "</style>\n",
       "<table border=\"1\" class=\"dataframe\">\n",
       "  <thead>\n",
       "    <tr style=\"text-align: right;\">\n",
       "      <th>title</th>\n",
       "      <th>'71 (2014)</th>\n",
       "      <th>'Hellboy': The Seeds of Creation (2004)</th>\n",
       "      <th>'Round Midnight (1986)</th>\n",
       "      <th>'Salem's Lot (2004)</th>\n",
       "      <th>'Til There Was You (1997)</th>\n",
       "      <th>'Tis the Season for Love (2015)</th>\n",
       "      <th>'burbs, The (1989)</th>\n",
       "      <th>'night Mother (1986)</th>\n",
       "      <th>(500) Days of Summer (2009)</th>\n",
       "      <th>*batteries not included (1987)</th>\n",
       "      <th>...</th>\n",
       "      <th>Zulu (2013)</th>\n",
       "      <th>[REC] (2007)</th>\n",
       "      <th>[REC]² (2009)</th>\n",
       "      <th>[REC]³ 3 Génesis (2012)</th>\n",
       "      <th>anohana: The Flower We Saw That Day - The Movie (2013)</th>\n",
       "      <th>eXistenZ (1999)</th>\n",
       "      <th>xXx (2002)</th>\n",
       "      <th>xXx: State of the Union (2005)</th>\n",
       "      <th>¡Three Amigos! (1986)</th>\n",
       "      <th>À nous la liberté (Freedom for Us) (1931)</th>\n",
       "    </tr>\n",
       "    <tr>\n",
       "      <th>title</th>\n",
       "      <th></th>\n",
       "      <th></th>\n",
       "      <th></th>\n",
       "      <th></th>\n",
       "      <th></th>\n",
       "      <th></th>\n",
       "      <th></th>\n",
       "      <th></th>\n",
       "      <th></th>\n",
       "      <th></th>\n",
       "      <th></th>\n",
       "      <th></th>\n",
       "      <th></th>\n",
       "      <th></th>\n",
       "      <th></th>\n",
       "      <th></th>\n",
       "      <th></th>\n",
       "      <th></th>\n",
       "      <th></th>\n",
       "      <th></th>\n",
       "      <th></th>\n",
       "    </tr>\n",
       "  </thead>\n",
       "  <tbody>\n",
       "    <tr>\n",
       "      <th>'71 (2014)</th>\n",
       "      <td>1.0</td>\n",
       "      <td>0.000000</td>\n",
       "      <td>0.000000</td>\n",
       "      <td>0.0</td>\n",
       "      <td>0.0</td>\n",
       "      <td>0.0</td>\n",
       "      <td>0.000000</td>\n",
       "      <td>0.0</td>\n",
       "      <td>0.141653</td>\n",
       "      <td>0.0</td>\n",
       "      <td>...</td>\n",
       "      <td>0.0</td>\n",
       "      <td>0.342055</td>\n",
       "      <td>0.543305</td>\n",
       "      <td>0.707107</td>\n",
       "      <td>0.0</td>\n",
       "      <td>0.0</td>\n",
       "      <td>0.139431</td>\n",
       "      <td>0.327327</td>\n",
       "      <td>0.0</td>\n",
       "      <td>0.0</td>\n",
       "    </tr>\n",
       "    <tr>\n",
       "      <th>'Hellboy': The Seeds of Creation (2004)</th>\n",
       "      <td>0.0</td>\n",
       "      <td>1.000000</td>\n",
       "      <td>0.707107</td>\n",
       "      <td>0.0</td>\n",
       "      <td>0.0</td>\n",
       "      <td>0.0</td>\n",
       "      <td>0.000000</td>\n",
       "      <td>0.0</td>\n",
       "      <td>0.000000</td>\n",
       "      <td>0.0</td>\n",
       "      <td>...</td>\n",
       "      <td>0.0</td>\n",
       "      <td>0.000000</td>\n",
       "      <td>0.000000</td>\n",
       "      <td>0.000000</td>\n",
       "      <td>0.0</td>\n",
       "      <td>0.0</td>\n",
       "      <td>0.000000</td>\n",
       "      <td>0.000000</td>\n",
       "      <td>0.0</td>\n",
       "      <td>0.0</td>\n",
       "    </tr>\n",
       "    <tr>\n",
       "      <th>'Round Midnight (1986)</th>\n",
       "      <td>0.0</td>\n",
       "      <td>0.707107</td>\n",
       "      <td>1.000000</td>\n",
       "      <td>0.0</td>\n",
       "      <td>0.0</td>\n",
       "      <td>0.0</td>\n",
       "      <td>0.176777</td>\n",
       "      <td>0.0</td>\n",
       "      <td>0.000000</td>\n",
       "      <td>0.0</td>\n",
       "      <td>...</td>\n",
       "      <td>0.0</td>\n",
       "      <td>0.000000</td>\n",
       "      <td>0.000000</td>\n",
       "      <td>0.000000</td>\n",
       "      <td>0.0</td>\n",
       "      <td>0.0</td>\n",
       "      <td>0.000000</td>\n",
       "      <td>0.000000</td>\n",
       "      <td>0.0</td>\n",
       "      <td>0.0</td>\n",
       "    </tr>\n",
       "  </tbody>\n",
       "</table>\n",
       "<p>3 rows × 9719 columns</p>\n",
       "</div>"
      ],
      "text/plain": [
       "title                                    '71 (2014)  \\\n",
       "title                                                 \n",
       "'71 (2014)                                      1.0   \n",
       "'Hellboy': The Seeds of Creation (2004)         0.0   \n",
       "'Round Midnight (1986)                          0.0   \n",
       "\n",
       "title                                    'Hellboy': The Seeds of Creation (2004)  \\\n",
       "title                                                                              \n",
       "'71 (2014)                                                              0.000000   \n",
       "'Hellboy': The Seeds of Creation (2004)                                 1.000000   \n",
       "'Round Midnight (1986)                                                  0.707107   \n",
       "\n",
       "title                                    'Round Midnight (1986)  \\\n",
       "title                                                             \n",
       "'71 (2014)                                             0.000000   \n",
       "'Hellboy': The Seeds of Creation (2004)                0.707107   \n",
       "'Round Midnight (1986)                                 1.000000   \n",
       "\n",
       "title                                    'Salem's Lot (2004)  \\\n",
       "title                                                          \n",
       "'71 (2014)                                               0.0   \n",
       "'Hellboy': The Seeds of Creation (2004)                  0.0   \n",
       "'Round Midnight (1986)                                   0.0   \n",
       "\n",
       "title                                    'Til There Was You (1997)  \\\n",
       "title                                                                \n",
       "'71 (2014)                                                     0.0   \n",
       "'Hellboy': The Seeds of Creation (2004)                        0.0   \n",
       "'Round Midnight (1986)                                         0.0   \n",
       "\n",
       "title                                    'Tis the Season for Love (2015)  \\\n",
       "title                                                                      \n",
       "'71 (2014)                                                           0.0   \n",
       "'Hellboy': The Seeds of Creation (2004)                              0.0   \n",
       "'Round Midnight (1986)                                               0.0   \n",
       "\n",
       "title                                    'burbs, The (1989)  \\\n",
       "title                                                         \n",
       "'71 (2014)                                         0.000000   \n",
       "'Hellboy': The Seeds of Creation (2004)            0.000000   \n",
       "'Round Midnight (1986)                             0.176777   \n",
       "\n",
       "title                                    'night Mother (1986)  \\\n",
       "title                                                           \n",
       "'71 (2014)                                                0.0   \n",
       "'Hellboy': The Seeds of Creation (2004)                   0.0   \n",
       "'Round Midnight (1986)                                    0.0   \n",
       "\n",
       "title                                    (500) Days of Summer (2009)  \\\n",
       "title                                                                  \n",
       "'71 (2014)                                                  0.141653   \n",
       "'Hellboy': The Seeds of Creation (2004)                     0.000000   \n",
       "'Round Midnight (1986)                                      0.000000   \n",
       "\n",
       "title                                    *batteries not included (1987)  ...  \\\n",
       "title                                                                    ...   \n",
       "'71 (2014)                                                          0.0  ...   \n",
       "'Hellboy': The Seeds of Creation (2004)                             0.0  ...   \n",
       "'Round Midnight (1986)                                              0.0  ...   \n",
       "\n",
       "title                                    Zulu (2013)  [REC] (2007)  \\\n",
       "title                                                                \n",
       "'71 (2014)                                       0.0      0.342055   \n",
       "'Hellboy': The Seeds of Creation (2004)          0.0      0.000000   \n",
       "'Round Midnight (1986)                           0.0      0.000000   \n",
       "\n",
       "title                                    [REC]² (2009)  \\\n",
       "title                                                    \n",
       "'71 (2014)                                    0.543305   \n",
       "'Hellboy': The Seeds of Creation (2004)       0.000000   \n",
       "'Round Midnight (1986)                        0.000000   \n",
       "\n",
       "title                                    [REC]³ 3 Génesis (2012)  \\\n",
       "title                                                              \n",
       "'71 (2014)                                              0.707107   \n",
       "'Hellboy': The Seeds of Creation (2004)                 0.000000   \n",
       "'Round Midnight (1986)                                  0.000000   \n",
       "\n",
       "title                                    anohana: The Flower We Saw That Day - The Movie (2013)  \\\n",
       "title                                                                                             \n",
       "'71 (2014)                                                                             0.0        \n",
       "'Hellboy': The Seeds of Creation (2004)                                                0.0        \n",
       "'Round Midnight (1986)                                                                 0.0        \n",
       "\n",
       "title                                    eXistenZ (1999)  xXx (2002)  \\\n",
       "title                                                                  \n",
       "'71 (2014)                                           0.0    0.139431   \n",
       "'Hellboy': The Seeds of Creation (2004)              0.0    0.000000   \n",
       "'Round Midnight (1986)                               0.0    0.000000   \n",
       "\n",
       "title                                    xXx: State of the Union (2005)  \\\n",
       "title                                                                     \n",
       "'71 (2014)                                                     0.327327   \n",
       "'Hellboy': The Seeds of Creation (2004)                        0.000000   \n",
       "'Round Midnight (1986)                                         0.000000   \n",
       "\n",
       "title                                    ¡Three Amigos! (1986)  \\\n",
       "title                                                            \n",
       "'71 (2014)                                                 0.0   \n",
       "'Hellboy': The Seeds of Creation (2004)                    0.0   \n",
       "'Round Midnight (1986)                                     0.0   \n",
       "\n",
       "title                                    À nous la liberté (Freedom for Us) (1931)  \n",
       "title                                                                               \n",
       "'71 (2014)                                                                     0.0  \n",
       "'Hellboy': The Seeds of Creation (2004)                                        0.0  \n",
       "'Round Midnight (1986)                                                         0.0  \n",
       "\n",
       "[3 rows x 9719 columns]"
      ]
     },
     "execution_count": 19,
     "metadata": {},
     "output_type": "execute_result"
    }
   ],
   "source": [
    "from sklearn.metrics.pairwise import cosine_similarity\n",
    "\n",
    "item_sim = cosine_similarity(ratings_matrix_T, ratings_matrix_T)\n",
    "\n",
    "# cosine_similarity()로 반환된 넘파이 행렬을 영화명을 매핑해 DataFrame으로 변환\n",
    "item_sim_df = pd.DataFrame(data=item_sim,\n",
    "                           index=ratings_matrix.columns,\n",
    "                           columns=ratings_matrix.columns)\n",
    "print(item_sim_df.shape)\n",
    "item_sim_df.head(3)"
   ]
  },
  {
   "cell_type": "markdown",
   "metadata": {},
   "source": [
    "- 9,719 로우인 `ratings_matrix.transpose()` 데이터 세트에 대해 `cosine_similarity()`를 적용한 결과 9719 x 9719 Shape으로 영화의 유사도 행렬인 `item_sim`이 생성됨"
   ]
  },
  {
   "cell_type": "markdown",
   "metadata": {},
   "source": [
    "<br>"
   ]
  },
  {
   "cell_type": "markdown",
   "metadata": {},
   "source": [
    "### 6.2.3 영화 '대부(Godfather, The (1972))'와 유사도가 높은 영화\n",
    "\n",
    "- `item_sim`을 DataFrame으로 변환한 `item_sim_df`를 이용해 영화 '대부(Godfather, The (1972))'와 유사도가 높은 상위 6개 영화를 추출"
   ]
  },
  {
   "cell_type": "code",
   "execution_count": 20,
   "metadata": {},
   "outputs": [
    {
     "data": {
      "text/plain": [
       "title\n",
       "Godfather, The (1972)                        1.000000\n",
       "Godfather: Part II, The (1974)               0.821773\n",
       "Goodfellas (1990)                            0.664841\n",
       "One Flew Over the Cuckoo's Nest (1975)       0.620536\n",
       "Star Wars: Episode IV - A New Hope (1977)    0.595317\n",
       "Fargo (1996)                                 0.588614\n",
       "Name: Godfather, The (1972), dtype: float64"
      ]
     },
     "execution_count": 20,
     "metadata": {},
     "output_type": "execute_result"
    }
   ],
   "source": [
    "item_sim_df[\"Godfather, The (1972)\"].sort_values(ascending=False)[:6]"
   ]
  },
  {
   "cell_type": "markdown",
   "metadata": {},
   "source": [
    "- 기준 영화인 '대부'를 제외하면 '대부-2편'이 가장 유사도가 높음"
   ]
  },
  {
   "cell_type": "markdown",
   "metadata": {},
   "source": [
    "<br>"
   ]
  },
  {
   "cell_type": "markdown",
   "metadata": {},
   "source": [
    "### 6.2.4 영화 '인셉션(Inception (2010))'과 유사도가 높은 영화\n",
    "\n",
    "- '인셉션' 자신은 유사도에서 제외"
   ]
  },
  {
   "cell_type": "code",
   "execution_count": 22,
   "metadata": {},
   "outputs": [
    {
     "data": {
      "text/plain": [
       "title\n",
       "Dark Knight, The (2008)          0.727263\n",
       "Inglourious Basterds (2009)      0.646103\n",
       "Shutter Island (2010)            0.617736\n",
       "Dark Knight Rises, The (2012)    0.617504\n",
       "Fight Club (1999)                0.615417\n",
       "Name: Inception (2010), dtype: float64"
      ]
     },
     "execution_count": 22,
     "metadata": {},
     "output_type": "execute_result"
    }
   ],
   "source": [
    "item_sim_df[\"Inception (2010)\"].sort_values(ascending=False)[1:6]"
   ]
  },
  {
   "cell_type": "markdown",
   "metadata": {},
   "source": [
    "- '다크나이트'가 가장 유사도가 높음\n",
    "- 그 뒤를 이어서 주로 스릴러와 액션이 가미된 좋은 영화가 높은 유사도를 나타내고 있음"
   ]
  },
  {
   "cell_type": "markdown",
   "metadata": {},
   "source": [
    "<br>"
   ]
  },
  {
   "cell_type": "markdown",
   "metadata": {},
   "source": [
    "### 6.2.5 아이템 기반 유사도 데이터 활용\n",
    "\n",
    "- 만들어진 아이템 기반 유사도 데이터는 사용자의 평점 정보를 모두 취합해 **영화에 따라 유사한 다른 영화를 추천**할 수 있게 해준다.\n",
    "- 이번에는 이 아이템 기반 유사도 데이터를 이용해 **개인에게 특화된(Personalized) 영화 추천 알고리즘**을 만들어보자."
   ]
  },
  {
   "cell_type": "markdown",
   "metadata": {},
   "source": [
    "<br>"
   ]
  },
  {
   "cell_type": "markdown",
   "metadata": {},
   "source": [
    "## 6.3 아이템 기반 최근접 이웃 협업 필터링으로 개인화된 영화 추천\n",
    "\n",
    "- 위에서 만든 아이템 기반의 영화 유사도 데이터는 개인적인 **취향**을 반영하지 않고 영화 간의 유사도만을 가지고 추천한 것이다.\n",
    "- 이번 절에서는 영화 유사도 데이터를 이용해 최근접 이웃 협업 필터링으로 **개인에게 최적화된 영화 추천**을 구현"
   ]
  },
  {
   "cell_type": "markdown",
   "metadata": {},
   "source": [
    "<br>"
   ]
  },
  {
   "cell_type": "markdown",
   "metadata": {},
   "source": [
    "### 6.3.1 개인화된 영화 추천의 특징\n",
    "\n",
    "- 개인이 아직 관람하지 않은 영화를 추천한다는 것\n",
    "- 아직 관람하지 않은 영화에 대해서 아이템 유사도와 기존에 관람한 영화의 평점 데이터를 기반으로 해 새롭게 모든 영화의 **예측 평점을 계산**\n",
    "- 높은 예측 평점을 가진 영화를 추천하는 방식"
   ]
  },
  {
   "cell_type": "markdown",
   "metadata": {},
   "source": [
    "<br>"
   ]
  },
  {
   "cell_type": "markdown",
   "metadata": {},
   "source": [
    "<a id=\"632\"></a>\n",
    "\n",
    "### 6.3.2 개인화된 예측 평점 계산\n",
    "\n",
    "- 이러한 아이템 기반의 협업 필터링에서 개인화된 예측 평점은 다음 식으로 구할 수 있다.\n",
    "\n",
    "$$\n",
    "\\hat{R}_{u,i} = { \\sum N  \\left( S_{i,N} \\times R_{u,N} \\right) \\over \\sum N \\left( | S_{i,N} | \\right) }\n",
    "$$\n",
    "\n",
    "- 식에 있는 변수의 의미\n",
    "  - $\\hat{R}_{u,i}$ : 사용자 $u$, 아이템 $i$의 개인화된 예측 평점 값\n",
    "  - $S_{i,N}$ : 아이템 $i$와 가장 유사도가 높은 Top-N개 아이템의 유사도 벡터\n",
    "  - $R_{u,N}$ : 사용자 $u$의 아이템 $i$와 가장 유사도가 높은 Top-N개 아이템에 대한 실제 평점 벡터  "
   ]
  },
  {
   "cell_type": "markdown",
   "metadata": {},
   "source": [
    "<br>"
   ]
  },
  {
   "cell_type": "markdown",
   "metadata": {},
   "source": [
    "**$S_{i,N}$와 $R_{u,N}$에 나오는 $N$ 값**\n",
    "\n",
    "- 아이템의 **최근접 이웃 범위 계수(item neighbor)**\n",
    "- 특정 아이템과 유사도가 가장 높은 Top-N개의 다른 아이템을 추출하는 데 사용됨"
   ]
  },
  {
   "cell_type": "markdown",
   "metadata": {},
   "source": [
    "- 먼저 $N$의 범위에 제약을 두지 않고 모든 아이템으로 가정하고 예측 평점을 구하는 로직을 작성\n",
    "- 그런 다음 Top-N 아이템을 기반으로 협업 필터링을 수행하는 로직으로 변경"
   ]
  },
  {
   "cell_type": "markdown",
   "metadata": {},
   "source": [
    "<br>"
   ]
  },
  {
   "cell_type": "markdown",
   "metadata": {},
   "source": [
    "### 6.3.3 사용자별 최적화 평점 스코어 예측 함수 생성 : $N$의 범위 제약 없음\n",
    "\n",
    "- 앞 예제에서 생성된 다음 2가지 변수를 활용해 사용자별로 최적화된 평점 스코어를 예측하는 함수를 만든다.\n",
    "  - `item_sim_df` : 영화 간의 유사도를 가지는 DataFrame\n",
    "  - `ratings_matrix` : 사용자-영화 평점 DataFrame  \n",
    "  \n",
    "  \n",
    "- 함수 명 : `predict_rating()`\n",
    "- 인자\n",
    "  - 사용자-영화 평점 넘파이 행렬(`rating_matrix`를 넘파이 행렬로 변환)\n",
    "  - 영화 간의 유사도를 가지는 넘파이 행렬 (`item_sim_df`를 넘파이 행렬로 변환)\n",
    "- 위 2개의 인자를 이용해 [6.3.2의 식](#632)으로 개인화된 예측 평점을 계산"
   ]
  },
  {
   "cell_type": "markdown",
   "metadata": {},
   "source": [
    "<br>"
   ]
  },
  {
   "cell_type": "markdown",
   "metadata": {},
   "source": [
    "**$N$의 범위에 제약을 두지 않을 때의 예측 평점 계산 식**\n",
    "\n",
    "$$\n",
    "\\hat{R}_{u,i} = { \\sum N  \\left( S_{i,N} \\times R_{u,N} \\right) \\over \\sum N \\left( | S_{i,N} | \\right) }\n",
    "$$\n",
    "\n",
    "- $R_{u,i}$ : 사용자별 영화 예측 평점\n",
    "- $S_{i,N}$ : 사용자 $u$의 모든 영화에 대한 실제 평점\n",
    "- $R_{u,N}$ : 영화 $i$의 다른 모든 영화와의 코사인 유사도\n",
    "- $\\sum N  \\left( S_{i,N} \\times R_{u,N} \\right)$ : $S_{i,N}$와 $R_{u,N}$의 벡터 내적 곱(dot)한 값\n",
    "- $\\sum N \\left( | S_{i,N} | \\right)$ : 정규화를 위해 이 값으로 나눈 것을 의미  \n",
    "  \n",
    "  \n",
    "- 다음 코드는 이를 구현한 것"
   ]
  },
  {
   "cell_type": "code",
   "execution_count": 23,
   "metadata": {},
   "outputs": [],
   "source": [
    "def predict_rating(ratings_arr, item_sim_arr):\n",
    "    ratings_pred = ratings_arr.dot(item_sim_arr)/np.array([np.abs(item_sim_arr).sum(axis=1)])\n",
    "    return ratings_pred"
   ]
  },
  {
   "cell_type": "markdown",
   "metadata": {},
   "source": [
    "- `ratings_arr.dot(item_sim_arr)` : $\\sum N  \\left( S_{i,N} \\times R_{u,N} \\right)$를 계산한 값\n",
    "- `np.array([np.abs(item_sim_arr).sum(axis=1)]` : $\\sum N \\left( | S_{i,N} | \\right)$를 계산한 값"
   ]
  },
  {
   "cell_type": "markdown",
   "metadata": {},
   "source": [
    "<br>"
   ]
  },
  {
   "cell_type": "markdown",
   "metadata": {},
   "source": [
    "### 6.3.4 개인화된 예측 평점 계산\n",
    "\n",
    "- `predict_rating()` 함수를 이용해 개인화된 예측 평점을 계산\n",
    "- `ratings_matrix`와 `item_sim_df`를 넘파이 행렬로 변환해 인자로 입력"
   ]
  },
  {
   "cell_type": "code",
   "execution_count": 25,
   "metadata": {},
   "outputs": [
    {
     "data": {
      "text/html": [
       "<div>\n",
       "<style scoped>\n",
       "    .dataframe tbody tr th:only-of-type {\n",
       "        vertical-align: middle;\n",
       "    }\n",
       "\n",
       "    .dataframe tbody tr th {\n",
       "        vertical-align: top;\n",
       "    }\n",
       "\n",
       "    .dataframe thead th {\n",
       "        text-align: right;\n",
       "    }\n",
       "</style>\n",
       "<table border=\"1\" class=\"dataframe\">\n",
       "  <thead>\n",
       "    <tr style=\"text-align: right;\">\n",
       "      <th>title</th>\n",
       "      <th>'71 (2014)</th>\n",
       "      <th>'Hellboy': The Seeds of Creation (2004)</th>\n",
       "      <th>'Round Midnight (1986)</th>\n",
       "      <th>'Salem's Lot (2004)</th>\n",
       "      <th>'Til There Was You (1997)</th>\n",
       "      <th>'Tis the Season for Love (2015)</th>\n",
       "      <th>'burbs, The (1989)</th>\n",
       "      <th>'night Mother (1986)</th>\n",
       "      <th>(500) Days of Summer (2009)</th>\n",
       "      <th>*batteries not included (1987)</th>\n",
       "      <th>...</th>\n",
       "      <th>Zulu (2013)</th>\n",
       "      <th>[REC] (2007)</th>\n",
       "      <th>[REC]² (2009)</th>\n",
       "      <th>[REC]³ 3 Génesis (2012)</th>\n",
       "      <th>anohana: The Flower We Saw That Day - The Movie (2013)</th>\n",
       "      <th>eXistenZ (1999)</th>\n",
       "      <th>xXx (2002)</th>\n",
       "      <th>xXx: State of the Union (2005)</th>\n",
       "      <th>¡Three Amigos! (1986)</th>\n",
       "      <th>À nous la liberté (Freedom for Us) (1931)</th>\n",
       "    </tr>\n",
       "    <tr>\n",
       "      <th>userId</th>\n",
       "      <th></th>\n",
       "      <th></th>\n",
       "      <th></th>\n",
       "      <th></th>\n",
       "      <th></th>\n",
       "      <th></th>\n",
       "      <th></th>\n",
       "      <th></th>\n",
       "      <th></th>\n",
       "      <th></th>\n",
       "      <th></th>\n",
       "      <th></th>\n",
       "      <th></th>\n",
       "      <th></th>\n",
       "      <th></th>\n",
       "      <th></th>\n",
       "      <th></th>\n",
       "      <th></th>\n",
       "      <th></th>\n",
       "      <th></th>\n",
       "      <th></th>\n",
       "    </tr>\n",
       "  </thead>\n",
       "  <tbody>\n",
       "    <tr>\n",
       "      <th>1</th>\n",
       "      <td>0.070345</td>\n",
       "      <td>0.577855</td>\n",
       "      <td>0.321696</td>\n",
       "      <td>0.227055</td>\n",
       "      <td>0.206958</td>\n",
       "      <td>0.194615</td>\n",
       "      <td>0.249883</td>\n",
       "      <td>0.102542</td>\n",
       "      <td>0.157084</td>\n",
       "      <td>0.178197</td>\n",
       "      <td>...</td>\n",
       "      <td>0.113608</td>\n",
       "      <td>0.181738</td>\n",
       "      <td>0.133962</td>\n",
       "      <td>0.128574</td>\n",
       "      <td>0.006179</td>\n",
       "      <td>0.212070</td>\n",
       "      <td>0.192921</td>\n",
       "      <td>0.136024</td>\n",
       "      <td>0.292955</td>\n",
       "      <td>0.720347</td>\n",
       "    </tr>\n",
       "    <tr>\n",
       "      <th>2</th>\n",
       "      <td>0.018260</td>\n",
       "      <td>0.042744</td>\n",
       "      <td>0.018861</td>\n",
       "      <td>0.000000</td>\n",
       "      <td>0.000000</td>\n",
       "      <td>0.035995</td>\n",
       "      <td>0.013413</td>\n",
       "      <td>0.002314</td>\n",
       "      <td>0.032213</td>\n",
       "      <td>0.014863</td>\n",
       "      <td>...</td>\n",
       "      <td>0.015640</td>\n",
       "      <td>0.020855</td>\n",
       "      <td>0.020119</td>\n",
       "      <td>0.015745</td>\n",
       "      <td>0.049983</td>\n",
       "      <td>0.014876</td>\n",
       "      <td>0.021616</td>\n",
       "      <td>0.024528</td>\n",
       "      <td>0.017563</td>\n",
       "      <td>0.000000</td>\n",
       "    </tr>\n",
       "    <tr>\n",
       "      <th>3</th>\n",
       "      <td>0.011884</td>\n",
       "      <td>0.030279</td>\n",
       "      <td>0.064437</td>\n",
       "      <td>0.003762</td>\n",
       "      <td>0.003749</td>\n",
       "      <td>0.002722</td>\n",
       "      <td>0.014625</td>\n",
       "      <td>0.002085</td>\n",
       "      <td>0.005666</td>\n",
       "      <td>0.006272</td>\n",
       "      <td>...</td>\n",
       "      <td>0.006923</td>\n",
       "      <td>0.011665</td>\n",
       "      <td>0.011800</td>\n",
       "      <td>0.012225</td>\n",
       "      <td>0.000000</td>\n",
       "      <td>0.008194</td>\n",
       "      <td>0.007017</td>\n",
       "      <td>0.009229</td>\n",
       "      <td>0.010420</td>\n",
       "      <td>0.084501</td>\n",
       "    </tr>\n",
       "  </tbody>\n",
       "</table>\n",
       "<p>3 rows × 9719 columns</p>\n",
       "</div>"
      ],
      "text/plain": [
       "title   '71 (2014)  'Hellboy': The Seeds of Creation (2004)  \\\n",
       "userId                                                        \n",
       "1         0.070345                                 0.577855   \n",
       "2         0.018260                                 0.042744   \n",
       "3         0.011884                                 0.030279   \n",
       "\n",
       "title   'Round Midnight (1986)  'Salem's Lot (2004)  \\\n",
       "userId                                                \n",
       "1                     0.321696             0.227055   \n",
       "2                     0.018861             0.000000   \n",
       "3                     0.064437             0.003762   \n",
       "\n",
       "title   'Til There Was You (1997)  'Tis the Season for Love (2015)  \\\n",
       "userId                                                               \n",
       "1                        0.206958                         0.194615   \n",
       "2                        0.000000                         0.035995   \n",
       "3                        0.003749                         0.002722   \n",
       "\n",
       "title   'burbs, The (1989)  'night Mother (1986)  (500) Days of Summer (2009)  \\\n",
       "userId                                                                          \n",
       "1                 0.249883              0.102542                     0.157084   \n",
       "2                 0.013413              0.002314                     0.032213   \n",
       "3                 0.014625              0.002085                     0.005666   \n",
       "\n",
       "title   *batteries not included (1987)  ...  Zulu (2013)  [REC] (2007)  \\\n",
       "userId                                  ...                              \n",
       "1                             0.178197  ...     0.113608      0.181738   \n",
       "2                             0.014863  ...     0.015640      0.020855   \n",
       "3                             0.006272  ...     0.006923      0.011665   \n",
       "\n",
       "title   [REC]² (2009)  [REC]³ 3 Génesis (2012)  \\\n",
       "userId                                           \n",
       "1            0.133962                 0.128574   \n",
       "2            0.020119                 0.015745   \n",
       "3            0.011800                 0.012225   \n",
       "\n",
       "title   anohana: The Flower We Saw That Day - The Movie (2013)  \\\n",
       "userId                                                           \n",
       "1                                                0.006179        \n",
       "2                                                0.049983        \n",
       "3                                                0.000000        \n",
       "\n",
       "title   eXistenZ (1999)  xXx (2002)  xXx: State of the Union (2005)  \\\n",
       "userId                                                                \n",
       "1              0.212070    0.192921                        0.136024   \n",
       "2              0.014876    0.021616                        0.024528   \n",
       "3              0.008194    0.007017                        0.009229   \n",
       "\n",
       "title   ¡Three Amigos! (1986)  À nous la liberté (Freedom for Us) (1931)  \n",
       "userId                                                                    \n",
       "1                    0.292955                                   0.720347  \n",
       "2                    0.017563                                   0.000000  \n",
       "3                    0.010420                                   0.084501  \n",
       "\n",
       "[3 rows x 9719 columns]"
      ]
     },
     "execution_count": 25,
     "metadata": {},
     "output_type": "execute_result"
    }
   ],
   "source": [
    "ratings_pred = predict_rating(ratings_matrix.values, item_sim_df.values)\n",
    "ratings_pred_matrix = pd.DataFrame(data=ratings_pred,\n",
    "                                   index=ratings_matrix.index,\n",
    "                                   columns=ratings_matrix.columns)\n",
    "ratings_pred_matrix.head(3)"
   ]
  },
  {
   "cell_type": "markdown",
   "metadata": {},
   "source": [
    "- 예측 평점이 사용자별 영화의 실제 평점과 영화의 코사인 유사도를 내적(dot)한 값이기때문에 기존에 영화를 관람하지 않아 0에 해당했던 실제 영화 평점이 예측에서는 값이 부여되는 경우가 많이 발생한다.  \n",
    "  \n",
    "  \n",
    "- 예측 평점이 실제 평점에 비해 작을 수 있다.\n",
    "  - 내적 결과를 코사인 유사도 벡터 합으로 나누었기 때문에 생기는 현상"
   ]
  },
  {
   "cell_type": "markdown",
   "metadata": {},
   "source": [
    "<br>"
   ]
  },
  {
   "cell_type": "markdown",
   "metadata": {},
   "source": [
    "### 6.3.5 예측 결과와 실제 평점 차이 확인\n",
    "\n",
    "- 이 예측 결과가 원래의 실제 평점과 얼마나 차이가 있는 지 확인\n",
    "- 예측 평가 지표 : MSE 적용"
   ]
  },
  {
   "cell_type": "markdown",
   "metadata": {},
   "source": [
    "**MSE 측정 시 유의할 점**\n",
    "\n",
    "- 사용자가 영화의 평점을 주지 않은 경우 앞에서는 평점을 0으로 부과했다.\n",
    "- 하지만 앞에서 개인화된 예측 점수는 평점을 주지 않은 영화에 대해서도 아이템 유사도에 기반해 평점을 예측했다.\n",
    "- 따라서 실제와 예측 평점 사이는 **기존에 평점이 부여된 데이터에 대해서만 오차 정도를 측정**한다."
   ]
  },
  {
   "cell_type": "markdown",
   "metadata": {},
   "source": [
    "- 예측 평가 지표인 MSE를 계산하는 `get_mse()` 함수를 만들고 결과 확인"
   ]
  },
  {
   "cell_type": "code",
   "execution_count": 26,
   "metadata": {},
   "outputs": [
    {
     "name": "stdout",
     "output_type": "stream",
     "text": [
      "아이템 기반 모든 최근접 이웃 MSE:  9.895354759094706\n"
     ]
    }
   ],
   "source": [
    "from sklearn.metrics import mean_squared_error\n",
    "\n",
    "# 사용자가 평점을 부여한 영화에 대해서만 예측 성능 평가 MSE를 구함\n",
    "def get_mse(pred, actual):\n",
    "    # 평점이 있는 실제 영화만 추출\n",
    "    pred = pred[actual.nonzero()].flatten()\n",
    "    actual = actual[actual.nonzero()].flatten()\n",
    "    return mean_squared_error(pred, actual)\n",
    "\n",
    "print('아이템 기반 모든 최근접 이웃 MSE: ', get_mse(ratings_pred, ratings_matrix.values))"
   ]
  },
  {
   "cell_type": "markdown",
   "metadata": {},
   "source": [
    "- MSE가 약 9.89이다.\n",
    "- 실제 값과 예측값은 서로 스테일이 다르기때문에 MSE가 클 수도 있다.\n",
    "- 중요한 것은 **MSE를 감소시키는 방향으로 개선하는 것**이다."
   ]
  },
  {
   "cell_type": "markdown",
   "metadata": {},
   "source": [
    "<br>"
   ]
  },
  {
   "cell_type": "markdown",
   "metadata": {},
   "source": [
    "### 6.3.6 $N$의 범위 제약이 없을 때의 한계\n",
    "\n",
    "- `predict_rating()` 함수는 사용자별 영화의 예측 평점을 계산하기 위해 해당 영화와 다른 모든 영화 간의 유사도 벡터를 적용했다.\n",
    "- 많은 영화의 유사도 벡터를 이용하다 보니 상대적으로 평점 예측이 떨어졌다.\n",
    "- 특정 영화와 가장 비슷한 유사도를 가지는 영화에 대해서만 유사도 벡터를 적용하는 함수로 변경이 필요하다."
   ]
  },
  {
   "cell_type": "markdown",
   "metadata": {},
   "source": [
    "<br>"
   ]
  },
  {
   "cell_type": "markdown",
   "metadata": {},
   "source": [
    "### 6.3.7 사용자별 최적화 평점 스코어 예측 함수 생성 : $N$의 범위 제약 있음\n",
    "\n",
    "**`predict_rating_topsim(ratings_arr, item_sim_arr, N=20)` 함수**\n",
    "\n",
    "- `predict_rating()` 함수와 유사하지만 `N` 인자를 가지고 있어서 TOP-N 유사도를 가지는 영화 유사도 벡터만 예측값을 계산하는 데 적용한다.\n",
    "- 이러한 계산을 위해서는 개별 예측값을 구하기 위해서 행, 열별로 for 루프를 반복 수행하면서 TOP-N 유사도 벡터를 계산해야 한다.  \n",
    "$\\Rightarrow$ 수행 시간이 오래 걸린다."
   ]
  },
  {
   "cell_type": "code",
   "execution_count": 29,
   "metadata": {},
   "outputs": [],
   "source": [
    "def predict_rating_topsim(ratings_arr, item_sim_arr, n=20):\n",
    "    \n",
    "    # 사용자-아이템 평점 행렬 크기만큼 0으로 채운 예측 행렬 초기화\n",
    "    pred = np.zeros(ratings_arr.shape)\n",
    "    \n",
    "    # 사용자-아이템 평점 행렬의 열 크기만큼 루프 수행\n",
    "    for col in range(ratings_arr.shape[1]):\n",
    "        \n",
    "        # 유사도 행렬에서 유사도가 큰 순으로 n개 데이터 행렬의 인덱스 반환\n",
    "        top_n_items = [np.argsort(item_sim_arr[:, col])[:-n-1:-1]]\n",
    "        \n",
    "        # 개인화된 예측 평점 계산\n",
    "        for row in range(ratings_arr.shape[0]):\n",
    "            pred[row, col] = item_sim_arr[col, :][top_n_items].dot(ratings_arr[row,:][top_n_items].T)\n",
    "            pred[row, col] /= np.sum(np.abs(item_sim_arr[col, :][top_n_items]))\n",
    "            \n",
    "    return pred"
   ]
  },
  {
   "cell_type": "markdown",
   "metadata": {},
   "source": [
    "- `predict_rating_topsim()` 함수를 이용해 예측 평점을 계산하고, 실제 평점과의 MSE 계산\n",
    "- 계산된 예측 평점 넘파이 행렬은 판다스 DataFrame으로 재생성"
   ]
  },
  {
   "cell_type": "code",
   "execution_count": 30,
   "metadata": {},
   "outputs": [
    {
     "name": "stdout",
     "output_type": "stream",
     "text": [
      "아이템 기반 최근접 TOP-20 이웃 MSE:  3.6949696289030554\n"
     ]
    }
   ],
   "source": [
    "ratings_pred = predict_rating_topsim(ratings_matrix.values, item_sim_df.values, n=20)\n",
    "print('아이템 기반 최근접 TOP-20 이웃 MSE: ', get_mse(ratings_pred, ratings_matrix.values))"
   ]
  },
  {
   "cell_type": "code",
   "execution_count": null,
   "metadata": {},
   "outputs": [],
   "source": [
    "# 계산된 예측 평점 데이터는 DataFrame으로 재생성\n",
    "ratings_pred_matrix = pd.DataFrame(data=ratings_pred,\n",
    "                                   index=ratings_matrix.index,\n",
    "                                   columns=ratings_matrix.columns)"
   ]
  },
  {
   "cell_type": "markdown",
   "metadata": {},
   "source": [
    "- MSE가 3.69로 기존의 9.89보다 많이 향상됐다."
   ]
  },
  {
   "cell_type": "markdown",
   "metadata": {},
   "source": [
    "<br>"
   ]
  },
  {
   "cell_type": "markdown",
   "metadata": {},
   "source": [
    "### 6.3.8 특정 사용자에 대해 영화 추천\n",
    "\n",
    "- `userId=9`인 사용자에 대해 영화 추천\n",
    "- 먼저 9번 `userId` 사용자가 어떤 영화를 좋아했는 지 확인\n",
    "- 사용자가 평점을 준 영화를 평점이 높은 순으로 나열"
   ]
  },
  {
   "cell_type": "code",
   "execution_count": 31,
   "metadata": {},
   "outputs": [
    {
     "data": {
      "text/plain": [
       "title\n",
       "'71 (2014)                                   0.0\n",
       "'Hellboy': The Seeds of Creation (2004)      0.0\n",
       "'Round Midnight (1986)                       0.0\n",
       "'Salem's Lot (2004)                          0.0\n",
       "'Til There Was You (1997)                    0.0\n",
       "                                            ... \n",
       "eXistenZ (1999)                              0.0\n",
       "xXx (2002)                                   1.0\n",
       "xXx: State of the Union (2005)               0.0\n",
       "¡Three Amigos! (1986)                        0.0\n",
       "À nous la liberté (Freedom for Us) (1931)    0.0\n",
       "Name: 9, Length: 9719, dtype: float64"
      ]
     },
     "execution_count": 31,
     "metadata": {},
     "output_type": "execute_result"
    }
   ],
   "source": [
    "user_rating_id = ratings_matrix.loc[9,:]\n",
    "user_rating_id"
   ]
  },
  {
   "cell_type": "code",
   "execution_count": 32,
   "metadata": {},
   "outputs": [
    {
     "data": {
      "text/plain": [
       "title\n",
       "Adaptation (2002)                                                                 5.0\n",
       "Austin Powers in Goldmember (2002)                                                5.0\n",
       "Lord of the Rings: The Fellowship of the Ring, The (2001)                         5.0\n",
       "Lord of the Rings: The Two Towers, The (2002)                                     5.0\n",
       "Producers, The (1968)                                                             5.0\n",
       "Citizen Kane (1941)                                                               5.0\n",
       "Raiders of the Lost Ark (Indiana Jones and the Raiders of the Lost Ark) (1981)    5.0\n",
       "Back to the Future (1985)                                                         5.0\n",
       "Glengarry Glen Ross (1992)                                                        4.0\n",
       "Sunset Blvd. (a.k.a. Sunset Boulevard) (1950)                                     4.0\n",
       "Name: 9, dtype: float64"
      ]
     },
     "execution_count": 32,
     "metadata": {},
     "output_type": "execute_result"
    }
   ],
   "source": [
    "user_rating_id[user_rating_id > 0].sort_values(ascending=False)[:10]"
   ]
  },
  {
   "cell_type": "markdown",
   "metadata": {},
   "source": [
    "- '오스틴 파워', '반지의 제왕' 등 대작 영화나 어드벤처 영화, 코미디 영화 등 전반적으로 흥행성이 좋은 영화에 높은 평점을 주고 있다."
   ]
  },
  {
   "cell_type": "markdown",
   "metadata": {},
   "source": [
    "<br>"
   ]
  },
  {
   "cell_type": "markdown",
   "metadata": {},
   "source": [
    "- 이 사용자에게 아이템 기반 협업 필터링을 통해 영화를 추천\n",
    "- 먼저 이미 평점을 준 영화를 제외하고 추천할 수 있도록 평점을 주지 않은 영화를 리스트 객체로 반환하는 함수인 `get_unseen_movies()`를 생성"
   ]
  },
  {
   "cell_type": "code",
   "execution_count": 34,
   "metadata": {},
   "outputs": [],
   "source": [
    "def get_unseen_movies(ratings_matrix, userId):\n",
    "    \n",
    "    # userId로 입력받은 사용자의 모든 영화 정보를 추출해 Series로 반환\n",
    "    # 반환된 user_rating은 영화명(title)을 인덱스로 가지는 Series 객체임\n",
    "    user_rating = ratings_matrix.loc[userId, :]\n",
    "    \n",
    "    # user_rating이 0보다 크면 기존에 관람한 영화임\n",
    "    # 대상 인덱스를 추출해 list 객체로 만듦\n",
    "    already_seen = user_rating[user_rating > 0].index.tolist()\n",
    "    \n",
    "    # 모든 영화명을 list 객체로 만듦\n",
    "    movies_list = ratings_matrix.columns.tolist()\n",
    "    \n",
    "    # list comprehension으로 already_seen에 해당하는 영화는 movies_list에서 제외\n",
    "    unseen_list = [movie for movie in movies_list if movie not in already_seen]\n",
    "    \n",
    "    return unseen_list"
   ]
  },
  {
   "cell_type": "markdown",
   "metadata": {},
   "source": [
    "<br>"
   ]
  },
  {
   "cell_type": "markdown",
   "metadata": {},
   "source": [
    "**`recomm_movie_by_userid()`**\n",
    "\n",
    "- 다음 2개의 데이터 세트를 이용해 최종적으로 사용자에게 영화를 추천하는 함수\n",
    "  - 사용자가 영화의 평점을 주지 않은 추천 대상 영화 정보\n",
    "  - `predict_rating_topsim()`에서 추출한 사용자별 아이템 유사도에 기반한 예측 평점 데이터 세트  \n",
    "  \n",
    "  \n",
    "- 해당 함수의 인자\n",
    "  - 예측 평점 DataFrame\n",
    "  - 추천하려는 사용자id\n",
    "  - 추천 후보 영화 리스트\n",
    "  - 추천 상위 영화 개수  \n",
    "  \n",
    "  \n",
    "- 위의 인자들을 받아서 사용자가 좋아할 만한 가장 높은 예측 평점을 가진 영화를 추천"
   ]
  },
  {
   "cell_type": "code",
   "execution_count": 35,
   "metadata": {},
   "outputs": [],
   "source": [
    "def recomm_movie_by_userid(pred_df, userId, unseen_list, top_n=10):\n",
    "    \n",
    "    # 예측 평점 DataFrame에서 사용자id 인덱스와 unseen_list로 들어온 영화명 컬럼을 추출해\n",
    "    # 가장 예측 평점이 높은 순으로 정렬\n",
    "    recomm_movies = pred_df.loc[userId, unseen_list].sort_values(ascending=False)[:top_n]\n",
    "    return recomm_movies"
   ]
  },
  {
   "cell_type": "code",
   "execution_count": 37,
   "metadata": {},
   "outputs": [
    {
     "data": {
      "text/plain": [
       "[\"'71 (2014)\",\n",
       " \"'Hellboy': The Seeds of Creation (2004)\",\n",
       " \"'Round Midnight (1986)\",\n",
       " \"'Salem's Lot (2004)\",\n",
       " \"'Til There Was You (1997)\",\n",
       " \"'Tis the Season for Love (2015)\",\n",
       " \"'burbs, The (1989)\",\n",
       " \"'night Mother (1986)\",\n",
       " '(500) Days of Summer (2009)',\n",
       " '*batteries not included (1987)']"
      ]
     },
     "execution_count": 37,
     "metadata": {},
     "output_type": "execute_result"
    }
   ],
   "source": [
    "# 사용자가 관람하지 않은 영화명 추출\n",
    "unseen_list = get_unseen_movies(ratings_matrix, 9)\n",
    "unseen_list[:10]"
   ]
  },
  {
   "cell_type": "code",
   "execution_count": 38,
   "metadata": {},
   "outputs": [
    {
     "data": {
      "text/plain": [
       "title\n",
       "Venom (1982)                                      0.303278\n",
       "Dr. Goldfoot and the Bikini Machine (1965)        0.258705\n",
       "Frankie and Johnny (1966)                         0.234754\n",
       "English Vinglish (2012)                           0.214774\n",
       "Harmonists, The (1997)                            0.169338\n",
       "Story of Women (Affaire de femmes, Une) (1988)    0.163884\n",
       "3:10 to Yuma (1957)                               0.163884\n",
       "Passenger, The (Professione: reporter) (1975)     0.163884\n",
       "Child, The (L'enfant) (2005)                      0.163884\n",
       "Cassandra's Dream (2007)                          0.163884\n",
       "Name: 9, dtype: float64"
      ]
     },
     "execution_count": 38,
     "metadata": {},
     "output_type": "execute_result"
    }
   ],
   "source": [
    "# 아이템 기반의 최근접 이웃 협업 필터링으로 영화 추천\n",
    "recomm_movies = recomm_movie_by_userid(ratings_pred_matrix, 9, unseen_list, top_n=10)\n",
    "recomm_movies"
   ]
  },
  {
   "cell_type": "code",
   "execution_count": 39,
   "metadata": {},
   "outputs": [
    {
     "data": {
      "text/html": [
       "<div>\n",
       "<style scoped>\n",
       "    .dataframe tbody tr th:only-of-type {\n",
       "        vertical-align: middle;\n",
       "    }\n",
       "\n",
       "    .dataframe tbody tr th {\n",
       "        vertical-align: top;\n",
       "    }\n",
       "\n",
       "    .dataframe thead th {\n",
       "        text-align: right;\n",
       "    }\n",
       "</style>\n",
       "<table border=\"1\" class=\"dataframe\">\n",
       "  <thead>\n",
       "    <tr style=\"text-align: right;\">\n",
       "      <th></th>\n",
       "      <th>pred_score</th>\n",
       "    </tr>\n",
       "    <tr>\n",
       "      <th>title</th>\n",
       "      <th></th>\n",
       "    </tr>\n",
       "  </thead>\n",
       "  <tbody>\n",
       "    <tr>\n",
       "      <th>Venom (1982)</th>\n",
       "      <td>0.303278</td>\n",
       "    </tr>\n",
       "    <tr>\n",
       "      <th>Dr. Goldfoot and the Bikini Machine (1965)</th>\n",
       "      <td>0.258705</td>\n",
       "    </tr>\n",
       "    <tr>\n",
       "      <th>Frankie and Johnny (1966)</th>\n",
       "      <td>0.234754</td>\n",
       "    </tr>\n",
       "    <tr>\n",
       "      <th>English Vinglish (2012)</th>\n",
       "      <td>0.214774</td>\n",
       "    </tr>\n",
       "    <tr>\n",
       "      <th>Harmonists, The (1997)</th>\n",
       "      <td>0.169338</td>\n",
       "    </tr>\n",
       "    <tr>\n",
       "      <th>Story of Women (Affaire de femmes, Une) (1988)</th>\n",
       "      <td>0.163884</td>\n",
       "    </tr>\n",
       "    <tr>\n",
       "      <th>3:10 to Yuma (1957)</th>\n",
       "      <td>0.163884</td>\n",
       "    </tr>\n",
       "    <tr>\n",
       "      <th>Passenger, The (Professione: reporter) (1975)</th>\n",
       "      <td>0.163884</td>\n",
       "    </tr>\n",
       "    <tr>\n",
       "      <th>Child, The (L'enfant) (2005)</th>\n",
       "      <td>0.163884</td>\n",
       "    </tr>\n",
       "    <tr>\n",
       "      <th>Cassandra's Dream (2007)</th>\n",
       "      <td>0.163884</td>\n",
       "    </tr>\n",
       "  </tbody>\n",
       "</table>\n",
       "</div>"
      ],
      "text/plain": [
       "                                                pred_score\n",
       "title                                                     \n",
       "Venom (1982)                                      0.303278\n",
       "Dr. Goldfoot and the Bikini Machine (1965)        0.258705\n",
       "Frankie and Johnny (1966)                         0.234754\n",
       "English Vinglish (2012)                           0.214774\n",
       "Harmonists, The (1997)                            0.169338\n",
       "Story of Women (Affaire de femmes, Une) (1988)    0.163884\n",
       "3:10 to Yuma (1957)                               0.163884\n",
       "Passenger, The (Professione: reporter) (1975)     0.163884\n",
       "Child, The (L'enfant) (2005)                      0.163884\n",
       "Cassandra's Dream (2007)                          0.163884"
      ]
     },
     "execution_count": 39,
     "metadata": {},
     "output_type": "execute_result"
    }
   ],
   "source": [
    "# 평점 데이터를 DataFrame으로 생성\n",
    "recomm_movies = pd.DataFrame(data=recomm_movies.values,\n",
    "                             index=recomm_movies.index,\n",
    "                             columns=['pred_score'])\n",
    "recomm_movies"
   ]
  },
  {
   "cell_type": "markdown",
   "metadata": {},
   "source": [
    "- '베놈'과 같이 높은 흥행성을 가진 작품이 추천됨"
   ]
  }
 ],
 "metadata": {
  "kernelspec": {
   "display_name": "Python 3",
   "language": "python",
   "name": "python3"
  },
  "language_info": {
   "codemirror_mode": {
    "name": "ipython",
    "version": 3
   },
   "file_extension": ".py",
   "mimetype": "text/x-python",
   "name": "python",
   "nbconvert_exporter": "python",
   "pygments_lexer": "ipython3",
   "version": "3.6.9"
  }
 },
 "nbformat": 4,
 "nbformat_minor": 4
}
