{
 "cells": [
  {
   "cell_type": "markdown",
   "metadata": {},
   "source": [
    "# 5. 데이터 전처리 (Data Preprocessing)"
   ]
  },
  {
   "cell_type": "markdown",
   "metadata": {},
   "source": [
    "<br>"
   ]
  },
  {
   "cell_type": "markdown",
   "metadata": {},
   "source": [
    "**결손값 처리**\n",
    "\n",
    "- 사이킷런의 ML 알고리즘은 결손값(NaN, Null)을 허용하지 않음\n",
    "- 이러한 Null 값은 고정된 다른 값으로 변환해야 한다."
   ]
  },
  {
   "cell_type": "markdown",
   "metadata": {},
   "source": [
    "**Null 값 처리 방법**\n",
    "\n",
    "- 피처 값 중 Null 값이 얼마 되지 않는다.  \n",
    "$\\Rightarrow$ 피처의 평균값 등으로 간단히 대체  \n",
    "  \n",
    "  \n",
    "- 피처 값 중 Null 값이 대부분이다.  \n",
    "$\\Rightarrow$ 해당 피처는 드롭하는 것이 더 좋다.  \n",
    "  \n",
    "  \n",
    "- 피처 값 중 Null 값이 일정 수준 이상 되는 경우\n",
    "  - 일정 수준 이상의 기준은 없다.\n",
    "  - 해당 피처가 중요도가 높은 피처이고 Null을 단순히 피처의 평균값으로 대체할 경우 예측 왜곡이 심할 수 있는 경우  \n",
    "  $\\Rightarrow$ 업무 로직 등을 상세히 검토해 더 정밀한 대체 값을 선정"
   ]
  },
  {
   "cell_type": "markdown",
   "metadata": {},
   "source": [
    "**문자열 값**\n",
    "\n",
    "- 사이킷런의 머신러닝 알고리즘은 문자열 값을 입력값으로 허용하지 않는다.  \n",
    "$\\Rightarrow$ 모든 문자열 값은 인코딩돼서 숫자 형으로 변환해야 한다."
   ]
  },
  {
   "cell_type": "markdown",
   "metadata": {},
   "source": [
    "**문자열 피처**\n",
    "\n",
    "- 카테고리형 피처\n",
    "  - 코드 값으로 표현하는 게 더 이해하기 쉬움  \n",
    "  \n",
    "  \n",
    "- 텍스트형 피처\n",
    "  - 피처 벡터화(feature vectorization) 등의 기법으로 벡터화  \n",
    "  ('텍스트 분석' 장에서 별도로 설명)\n",
    "  - 불필요한 피처라고 판단되면 삭제"
   ]
  },
  {
   "cell_type": "markdown",
   "metadata": {},
   "source": [
    "**식별자 피처**\n",
    "\n",
    "- ex) 주민번호, 단순 문자열 아이디\n",
    "- 인코딩하지 않고 삭제하는 게 더 좋다.\n",
    "- 이러한 식별자 피처는 단순히 데이터 로우를 식별하는 용도로 사용됨\n",
    "- 예측에 중요한 요소가 될 수는 없음\n",
    "- 알고리즘을 오히려 복잡하게 만들고 예측 성능을 떨어뜨림"
   ]
  },
  {
   "cell_type": "markdown",
   "metadata": {},
   "source": [
    "<br>"
   ]
  },
  {
   "cell_type": "markdown",
   "metadata": {},
   "source": [
    "## 5.1 데이터 인코딩"
   ]
  },
  {
   "cell_type": "markdown",
   "metadata": {},
   "source": [
    "**데이터 인코딩의 종류**\n",
    "\n",
    "1. 레이블 인코딩 (Label encoding)\n",
    "2. 원-핫 인코딩 (One Hot encoding)"
   ]
  },
  {
   "cell_type": "markdown",
   "metadata": {},
   "source": [
    "<br>"
   ]
  },
  {
   "cell_type": "markdown",
   "metadata": {},
   "source": [
    "### 5.1.1 레이블 인코딩 (Label encoding)"
   ]
  },
  {
   "cell_type": "markdown",
   "metadata": {},
   "source": [
    "카테고리 피처를 코드형 숫자 값으로 변환한다.  \n",
    "사이킷런의 레이블 인코딩은 `LabelEncoder` 클래스로 구현한다.  \n",
    "`LabelEncoder`를 객체로 생성한 후 `f"
   ]
  },
  {
   "cell_type": "code",
   "execution_count": null,
   "metadata": {},
   "outputs": [],
   "source": []
  }
 ],
 "metadata": {
  "kernelspec": {
   "display_name": "Python 3",
   "language": "python",
   "name": "python3"
  },
  "language_info": {
   "codemirror_mode": {
    "name": "ipython",
    "version": 3
   },
   "file_extension": ".py",
   "mimetype": "text/x-python",
   "name": "python",
   "nbconvert_exporter": "python",
   "pygments_lexer": "ipython3",
   "version": "3.6.8"
  }
 },
 "nbformat": 4,
 "nbformat_minor": 2
}
