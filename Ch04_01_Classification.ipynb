{
 "cells": [
  {
   "cell_type": "markdown",
   "metadata": {},
   "source": [
    "# 01. 분류(Classification)의 개요"
   ]
  },
  {
   "cell_type": "markdown",
   "metadata": {},
   "source": [
    "<br>"
   ]
  },
  {
   "cell_type": "markdown",
   "metadata": {},
   "source": [
    "**지도학습(Supervised Learning)**\n",
    "\n",
    "- 명시적인 정답(i.e. 레이블(Label))이 있는 데이터가 주어진 상태에서 학습하는 머신러닝 방식  "
   ]
  },
  {
   "cell_type": "markdown",
   "metadata": {},
   "source": [
    "<br>"
   ]
  },
  {
   "cell_type": "markdown",
   "metadata": {},
   "source": [
    "**분류(Classification)**\n",
    "\n",
    "- 지도학습의 대표적인 유형\n",
    "- 학습 데이터로 주어진 데이터의 피처와 레이블값(결정 값, 클래스 값)을 머신러닝 알고리즘으로 학습해 모델을 생성\n",
    "- 생성된 모델에 새로운 데이터 값이 주어졌을 때 미지의 레이블 값을 예측하는 것\n",
    "- 즉, 기존 데이터가 어떤 레이블에 속하는지 패턴을 알고리즘으로 인지한 뒤 새롭게 관측된 데이터에 대한 레이블을 판별하는 것"
   ]
  },
  {
   "cell_type": "markdown",
   "metadata": {},
   "source": [
    "<br>"
   ]
  },
  {
   "cell_type": "markdown",
   "metadata": {},
   "source": [
    "**분류를 구현할 수 있는 머신러닝 알고리즘의 종류**\n",
    "\n",
    "- **나이브 베이즈(Naive Bayes)**  \n",
    ": 베이즈(Bayes) 통계와 생성 모델에 기반  \n",
    "  \n",
    "  \n",
    "- **로지스틱 회귀(Logistic Regression)**  \n",
    ": 독립변수와 종속변수의 선형 관계성에 기반  \n",
    "  \n",
    "  \n",
    "- **결정 트리(Decision Tree)**  \n",
    ": 데이터 균일도에 따른 규칙 기반  \n",
    "  \n",
    "  \n",
    "- **서포트 벡터 머신(Support Vector Machine)**  \n",
    ": 개별 클래스 간의 최대 분류 마진을 효과적으로 찾아줌  \n",
    "  \n",
    "  \n",
    "- **최소 근접(Nearest Neighbor) 알고리즘**  \n",
    ": 근접 거리를 기준으로 함  \n",
    "  \n",
    "  \n",
    "- **신경망(Neural Nnetwork)**  \n",
    ": 심층 연결 기반  \n",
    "  \n",
    "  \n",
    "- **앙상블(Ensemble)**  \n",
    ": 서로 다른(또는 같은) 머신러닝 알고리즘을 결합"
   ]
  },
  {
   "cell_type": "markdown",
   "metadata": {},
   "source": [
    "<br>"
   ]
  },
  {
   "cell_type": "markdown",
   "metadata": {},
   "source": [
    "**앙상블 방법(Ensemble Method)**\n",
    "\n",
    "정형 데이터의 예측 분석 영역에서는 앙상블이 매우 높은 예측 성능으로 인해 많은 분석가와 데이터 과학자들에게 애용되고 있다.  \n",
    "앙상블은 서로 다른/또는 같은 알고리즘을 단순히 결합한 형태도 있으나, 일반적으로는 **배깅(Bagging)**과 **부스팅(Boosting)** 방식으로 나뉨"
   ]
  },
  {
   "cell_type": "markdown",
   "metadata": {},
   "source": [
    "<br>"
   ]
  },
  {
   "cell_type": "markdown",
   "metadata": {},
   "source": [
    "**배깅(Bagging)**\n",
    "\n",
    "- **랜덤 포레스트(Random Forest)**\n",
    "  - 배깅 방식의 대표\n",
    "  - 뛰어난 예측 성능, 상대적으로 빠른 수행 시간, 유연성 등으로 많은 분석가가 애용하는 알고리즘"
   ]
  },
  {
   "cell_type": "markdown",
   "metadata": {},
   "source": [
    "<br>"
   ]
  },
  {
   "cell_type": "markdown",
   "metadata": {},
   "source": [
    "**부스팅(Boosting)**\n",
    "\n",
    "근래의 앙상블 방법은 부스팅 방식으로 지속해서 발전  \n",
    "  \n",
    "  \n",
    "- **그래디언트 부스팅(Gradient Boosting)**\n",
    "  - 부스팅의 효시\n",
    "  - 뛰어난 예측 성능을 갖고 있음\n",
    "  - 그러나 수행 시간이 너무 오래 걸리는 단점이 있다.  \n",
    "  $\\rightarrow$ 최적화 모델 튜닝이 어려움  \n",
    "  \n",
    "  \n",
    "- **XgBoost(eXtra Gradient Boost)**, **LightGbM**\n",
    "  - 기존 그래디언트 부스팅의 예측 성능을 한 단계 발전\n",
    "  - 수행 시간을 단축\n",
    "  - 정형 데이터의 분류 영역에서 가장 활용도가 높은 알고리즘으로 자리 잡음"
   ]
  },
  {
   "cell_type": "markdown",
   "metadata": {},
   "source": [
    "<br>"
   ]
  },
  {
   "cell_type": "markdown",
   "metadata": {},
   "source": [
    "**결정 트리(Decision Tree)**\n",
    "\n",
    "앙상블은 서로 다른/또는 같은 알고리즘을 결합  \n",
    "대부분 동일한 알고리즘을 결합  \n",
    "앙상블의 기본 알고리즘으로 일반적으로 사용하는 것은 **결정 트리**이다.  \n",
    "  \n",
    "  \n",
    "결정 트리는 매우 쉽고 유연하게 적용될 수 있는 알고리즘  \n",
    "데이터의 스케일링이나 정규화 등의 사전 가공의 영향이 매우 적습니다.  \n",
    "하지만 예측 성능을 향상시키기 위해 복잡한 규칙 구조를 가져야 함  \n",
    "$\\rightarrow$ 과적합(overfitting)이 발생해 반대로 예측 성능이 저하될 수도 있다는 단점이 있다.  \n",
    "  \n",
    "  \n",
    "하지만 이런 단점이 앙상블 기법에서는 오히려 장점으로 작용한다.  \n",
    "앙상블은 매우 많은 여러 개의 약한 학습기(즉, 예측 성능이 상대적으로 떨어지는 학습 알고리즘)를 결합해 확률적 보완과 오류가 발생한 부분에 대한 가중치를 계속 업데이트하면서 예측 성능을 향상시킴  \n",
    "이때, 결정 트리가 좋은 약한 학습기가 될 수 있다."
   ]
  },
  {
   "cell_type": "code",
   "execution_count": null,
   "metadata": {},
   "outputs": [],
   "source": []
  }
 ],
 "metadata": {
  "kernelspec": {
   "display_name": "Python 3",
   "language": "python",
   "name": "python3"
  },
  "language_info": {
   "codemirror_mode": {
    "name": "ipython",
    "version": 3
   },
   "file_extension": ".py",
   "mimetype": "text/x-python",
   "name": "python",
   "nbconvert_exporter": "python",
   "pygments_lexer": "ipython3",
   "version": "3.6.8"
  }
 },
 "nbformat": 4,
 "nbformat_minor": 2
}
