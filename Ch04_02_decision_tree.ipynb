{
 "cells": [
  {
   "cell_type": "markdown",
   "metadata": {},
   "source": [
    "# 02. 결정 트리"
   ]
  },
  {
   "cell_type": "markdown",
   "metadata": {},
   "source": [
    "<br>"
   ]
  },
  {
   "cell_type": "markdown",
   "metadata": {},
   "source": [
    "**결정 트리(Decision Tree)**\n",
    "\n",
    "ML 알고리즘 중 직관적으로 이해하기 쉬운 알고리즘  \n",
    "데이터에 있는 규칙을 학습을 통해 자동으로 찾아내 트리(Tree) 기반의 분류 규칙을 만드는 것  \n",
    "데이터의 어떤 기준을 바탕으로 규칙을 만들어야 가장 효율적인 분류가 될 것인가가 알고리즘의 성능을 크게 좌우"
   ]
  },
  {
   "cell_type": "markdown",
   "metadata": {},
   "source": [
    "**결정 트리의 구조**\n",
    "\n",
    "- **규칙 노드(Decision Node)**\n",
    "  - 규칙 조건이 되는 것\n",
    "  - 데이터 세트에 있는 피처가 결합해 규칙 조건을 만들 때마다 규칙 노드가 만들어짐\n",
    "  \n",
    "  \n",
    "- **리프 노드(Leaf Node)**\n",
    "  - 결정된 클래스 값  \n",
    "  \n",
    "  \n",
    "- **서브 트리(Sub Tree)**\n",
    "  - 새로운 규칙 조건마다 서브 트리 생성"
   ]
  },
  {
   "cell_type": "markdown",
   "metadata": {},
   "source": [
    "많은 규칙이 있다.  \n",
    "$\\rightarrow$ 분류를 결정하는 방식이 복잡해진다.  \n",
    "$\\rightarrow$ 과적합  \n",
    "$\\Rightarrow$ 트리의 깊이(depth)가 깊어질수록 결정 트리의 예측 성능이 저하될 가능성이 높다."
   ]
  },
  {
   "cell_type": "markdown",
   "metadata": {},
   "source": [
    "가능한 한 적은 결정 노드로 높은 예측 정확도를 가지려면 데이터를 분류할 때 최대한 많은 데이터 세트가 해당 분류에 속할 수 있도록 결정 노드의 규칙이 정해저야 한다.  \n",
    "$\\rightarrow$ 어떻게 트리를 **분할(Split)**할 것인가가 중요  \n",
    "$\\Rightarrow$ 최대한 균일한 데이터 세트를 구성할 수 있도록 분할하는 것이 필요"
   ]
  },
  {
   "cell_type": "markdown",
   "metadata": {},
   "source": [
    "<br>"
   ]
  },
  {
   "cell_type": "markdown",
   "metadata": {},
   "source": [
    "**균일도**\n",
    "\n",
    "각각 3가지 종류의 데이터 세트들 중 가장 균일한 데이터 세트는?\n",
    "\n",
    "- A : 검은공과 하얀공이 비슷한 비율로 섞여 있음\n",
    "- B : 검은공이 하얀공보다 많이 있음\n",
    "- C : 검은공으로만 이루어져 있음  \n",
    "  \n",
    "  \n",
    "$\\Rightarrow$ C $\\rightarrow$ B $\\rightarrow$ A"
   ]
  },
  {
   "cell_type": "markdown",
   "metadata": {},
   "source": [
    "C 데이터 세트의 균일도가 가장 높다.  \n",
    "A 데이터 세트의 균일도가 가장 낮다."
   ]
  },
  {
   "cell_type": "markdown",
   "metadata": {},
   "source": [
    "데이터 세트의 균일도는 데이터를 구분하는 데 필요한 정보의 양에 영향을 미친다.  \n",
    "\n",
    "- C 데이터 세트에서 하나의 데이터를 뽑았을 경우  \n",
    ": 검은공으로 쉽게 예측 가능  \n",
    "  \n",
    "  \n",
    "- A 데이터 세트에서 하나의 데이터를 뽑았을 경우  \n",
    ": 상대적으로 혼잡도가 높고 균일도가 낮기 때문에 같은 조건에서 데이터를 판단하는 데 있어 더 많은 정보가 필요"
   ]
  },
  {
   "cell_type": "markdown",
   "metadata": {},
   "source": [
    "<br>"
   ]
  },
  {
   "cell_type": "markdown",
   "metadata": {},
   "source": [
    "**데이터 분류 방식**\n",
    "\n",
    "- 정보 균일도가 높은 데이터 세트를 먼저 선택할 수 있는 규칙 조건을 만듬  \n",
    "- 정보 균일도가 높은 데이터 세트로 쪼개질 수 있도록 조건을 찾아 서브 데이터 세트를 만듬\n",
    "- 다시 이 서브 데이터 세트에서 균일도가 높은 자식 데이터 세트를 쪼개는 방식으로 트리를 내려가면서 반복하는 방식으로 데이터 값을 예측"
   ]
  },
  {
   "cell_type": "markdown",
   "metadata": {},
   "source": [
    "<br>"
   ]
  },
  {
   "cell_type": "markdown",
   "metadata": {},
   "source": [
    "**정보의 균일도를 측정하는 방법**\n",
    "\n",
    "1. 엔트로피를 이용한 정보 이득(Information Gain) 지수\n",
    "2. 지니 계수"
   ]
  },
  {
   "cell_type": "markdown",
   "metadata": {},
   "source": [
    "<br>"
   ]
  },
  {
   "cell_type": "markdown",
   "metadata": {},
   "source": [
    "**정보 이득 지수**\n",
    "\n",
    "- 정보 이득은 엔트로피라는 개념을 기반으로 함  \n",
    "  \n",
    "  \n",
    "- **엔트로피**\n",
    "  - 주어진 데이터 집합의 혼잡도를 의미\n",
    "  - 서로 다른 값이 섞여 있다 $\\rightarrow$ 엔트로피(복잡도)가 높음\n",
    "  - 같은 값이 섞여 있다 $\\rightarrow$ 엔트로피(복잡도)가 낮음  \n",
    "  \n",
    "  \n",
    "- **정보 이득 지수**\n",
    "  - 1에서 엔트로피 지수를 뺸 값 (i.e. 1 - 엔트로피 지수)\n",
    "  - 결정 트리는 이 정보 이득 지수로 분할 기준을 정함\n",
    "  - 정보 이득이 높은 속성을 기분으로 분할"
   ]
  },
  {
   "cell_type": "markdown",
   "metadata": {},
   "source": [
    "**지니 계수**\n",
    "\n",
    "- 경제학에서 불평등 지수를 나타낼 때 사용하는 계수\n",
    "- 지니 계수 = 0 : 가장 평등\n",
    "- 지니 계수 = 1 : 가장 불평등\n",
    "- 머신러닝에 적용될 때는 의미론적으로 재해석 됨\n",
    "  - 데이터가 다양한 값을 가질수록(다양성이 높음) 평등한 값\n",
    "  - 데이터가 특정 값으로 쏠릴 경우(다양성이 낮음) 불평등한 값  \n",
    "  $\\Rightarrow$ 다양성이 낮을수록 균일도가 높다.  \n",
    "  $\\Rightarrow$ 지니 계수가 1로 갈수록 균일도가 높다.\n",
    "- 지니 계수가 높은 속성을 기준으로 분할"
   ]
  },
  {
   "cell_type": "code",
   "execution_count": null,
   "metadata": {},
   "outputs": [],
   "source": []
  }
 ],
 "metadata": {
  "kernelspec": {
   "display_name": "Python 3",
   "language": "python",
   "name": "python3"
  },
  "language_info": {
   "codemirror_mode": {
    "name": "ipython",
    "version": 3
   },
   "file_extension": ".py",
   "mimetype": "text/x-python",
   "name": "python",
   "nbconvert_exporter": "python",
   "pygments_lexer": "ipython3",
   "version": "3.6.8"
  }
 },
 "nbformat": 4,
 "nbformat_minor": 2
}
