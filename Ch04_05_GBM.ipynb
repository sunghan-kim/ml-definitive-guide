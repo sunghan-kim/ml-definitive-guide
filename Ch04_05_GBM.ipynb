{
 "cells": [
  {
   "cell_type": "markdown",
   "metadata": {},
   "source": [
    "# 05. GBM(Gradient Boosting Machine)"
   ]
  },
  {
   "cell_type": "markdown",
   "metadata": {},
   "source": [
    "<br>"
   ]
  },
  {
   "cell_type": "markdown",
   "metadata": {},
   "source": [
    "# 1. GBM의 개요 및 실습"
   ]
  },
  {
   "cell_type": "markdown",
   "metadata": {},
   "source": [
    "## 1.1 부스팅 알고리즘\n",
    "\n",
    "- 여러 개의 약한 학습기(weak learner)를 순차적으로 학습-예측\n",
    "- 잘못 예측한 데이터에 가중치 부여를 통해 오류를 개선해 나가면서 학습하는 방식  \n",
    "  \n",
    "  \n",
    "- 부스팅의 대표적인 구현 : 에이다 부스트(AdaBoost), 그래디언트 부스트(GBM)"
   ]
  },
  {
   "cell_type": "markdown",
   "metadata": {},
   "source": [
    "<br>"
   ]
  },
  {
   "cell_type": "markdown",
   "metadata": {},
   "source": [
    "## 1.2 AdaBoost(Adaptive boosting)\n",
    "\n",
    "- 오류 데이터에 가중치를 부여하면서 부스팅을 수행하는 대표적인 알고리즘"
   ]
  },
  {
   "cell_type": "markdown",
   "metadata": {},
   "source": [
    "<br>"
   ]
  },
  {
   "cell_type": "markdown",
   "metadata": {},
   "source": [
    "### 1.2.1 AdaBoost 학습 진행 방법"
   ]
  },
  {
   "cell_type": "markdown",
   "metadata": {},
   "source": [
    "<div style=\"text-align: left; margin-left: 10px;\">\n",
    "    <img src=\"./images/Ch04/05/img001.jpg\" width=\"600px\"/>\n",
    "</div>"
   ]
  },
  {
   "cell_type": "markdown",
   "metadata": {},
   "source": [
    "- 피처 데이터 세트 : + 와 - 로 구성"
   ]
  },
  {
   "cell_type": "markdown",
   "metadata": {},
   "source": [
    "**1) Step1**\n",
    "\n",
    "- 첫 번째 약한 학습기(weak learner)가 **분류 기준 1**로 +와 -를 분류\n",
    "- 동그라미로 표시된 $\\oplus$ 데이터는 + 데이터가 잘못 분류된 오류 데이터"
   ]
  },
  {
   "cell_type": "markdown",
   "metadata": {},
   "source": [
    "**2) Step2**\n",
    "\n",
    "- 이 오류 데이터에 가중치 부여\n",
    "- 가중치가 부여된 오류 + 데이터는 다음 약한 학습기가 더 잘 분류할 수 있게 크기가 커짐"
   ]
  },
  {
   "cell_type": "markdown",
   "metadata": {},
   "source": [
    "**3) Step3**\n",
    "\n",
    "- 두 번째 약한 학습기가 **분류 기준 2**로 +와 -를 분류\n",
    "- 동그라미로 표시된 $\\ominus$ 데이터는 - 데이터가 잘못 분류된 오류 데이터"
   ]
  },
  {
   "cell_type": "markdown",
   "metadata": {},
   "source": [
    "**4) Step4**\n",
    "\n",
    "- 잘못 불뉴된 오류 - 데이터에 대해 다음 약한 학습기가 잘 분류할 수 있게 더 큰 가중치를 부여"
   ]
  },
  {
   "cell_type": "markdown",
   "metadata": {},
   "source": [
    "**5) Step5**\n",
    "\n",
    "- 세 번째 약한 학습기가 **분류 기준 3**으로 +와 -를 분류하고 오류 데이터를 찾음"
   ]
  },
  {
   "cell_type": "markdown",
   "metadata": {},
   "source": [
    "에이다부스트는 약한 학습기가 순차적으로 오류 값에 대해 가중치를 부여한 예측 결정 기준을 모두 결합해 예측을 수행  \n",
    "마지막으로 맨 아래에는 첫 번째, 두 번째, 세 번째 약한 학습기를 모두 결합한 결과 예측  \n",
    "개별 약한 학습기보다 훨씬 정확도가 높아졌음을 알 수 있다."
   ]
  },
  {
   "cell_type": "markdown",
   "metadata": {},
   "source": [
    "<br>"
   ]
  },
  {
   "cell_type": "markdown",
   "metadata": {},
   "source": [
    "### 1.2.2 가중치 부여 방법\n",
    "\n",
    "- 개별 약한 학습기는 다음 그림과 같이 각각 가중치를 부여해 결합"
   ]
  },
  {
   "cell_type": "markdown",
   "metadata": {},
   "source": [
    "<div style=\"text-align: left; margin-left: 10px;\">\n",
    "    <img src=\"./images/Ch04/05/img002.jpg\" width=\"600px\"/>\n",
    "</div>"
   ]
  },
  {
   "cell_type": "markdown",
   "metadata": {},
   "source": [
    "- 첫 번째 학습기에 가중치 0.3 부여\n",
    "- 두 번째 학습기에 가중치 0.5 부여\n",
    "- 세 번째 학습기에 가중치 0.8 부여\n",
    "- 세 가지를 모두 결합해 예측을 수행"
   ]
  },
  {
   "cell_type": "markdown",
   "metadata": {},
   "source": [
    "<br>"
   ]
  },
  {
   "cell_type": "markdown",
   "metadata": {},
   "source": [
    "## 1.3 GBM(Gradient Boosting Machine)\n",
    "\n",
    "- 에이다부스트와 유사\n",
    "- 가중치 업데이트를 **경사 하강법(Gradient Descent)**을 이용하는 것이 큰 차이    "
   ]
  },
  {
   "cell_type": "markdown",
   "metadata": {},
   "source": [
    "### 1.3.1 경사 하강법(Gradient Descent)\n",
    "\n",
    "- 오류값 = 실제값 - 예측값\n",
    "- $y$ : 분류의 실제 결괏값\n",
    "- $x_1, x_2, \\cdots, x_n$ : 피처\n",
    "- $F(x)$ : 피처들에 기반한 예측 함수  \n",
    "$\\Rightarrow$ 오류식 $h(x) = y - F(x)$\n",
    "- 이 오류식을 최소화하는 방향성을 가지고 반복적으로 가중치를 업데이트 하는 것이 경사 하강법이다.\n",
    "- **경사 하강법 : \"반복 수행을 통해 오류를 최소화할 수 있도록 가중치의 업데이트 값을 도출하는 기법\"**"
   ]
  },
  {
   "cell_type": "markdown",
   "metadata": {},
   "source": [
    "<br>"
   ]
  },
  {
   "cell_type": "markdown",
   "metadata": {},
   "source": [
    "### 1.3.2 `GradientBoostingClassifier`\n",
    "\n",
    "- GBM은 CART 기반의 다른 알고리즘과 마찬가지로 분류와 회귀 모두 가능\n",
    "- 사이킷런은 GBM 기반의 분류를 위해 `GradientBoostingClassifier` 클래스 제공"
   ]
  },
  {
   "cell_type": "markdown",
   "metadata": {},
   "source": [
    "<br>"
   ]
  },
  {
   "cell_type": "markdown",
   "metadata": {},
   "source": [
    "### 1.3.3 사용자 행동 데이터 세트 예측 분류 - GBM 이용"
   ]
  },
  {
   "cell_type": "code",
   "execution_count": 1,
   "metadata": {},
   "outputs": [],
   "source": [
    "import pandas as pd\n",
    "\n",
    "def get_human_dataset() :\n",
    "    \n",
    "    # 각 데이터 파일들을 공백으로 분리 -> read_csv에서 공백 문자를 sep으로 할당\n",
    "    feature_name_df = pd.read_csv('./data/human_activity/features.txt', sep='\\s+',\n",
    "                                  header=None, names=['column_index', 'column_name'])\n",
    "    \n",
    "    # DataFrame에 피처명을 컬럼으로 부여하기 위해 리스트 객체로 변환\n",
    "    feature_name = feature_name_df.iloc[:,1].values.tolist()\n",
    "    \n",
    "    # 학습 피처 데이터 세트와 테스트 피처 데이터를 DataFrame으로 로딩. 컬럼명은 feature_name 적용\n",
    "    X_train = pd.read_csv('./data/human_activity/train/X_train.txt', sep='\\s+', names=feature_name)\n",
    "    X_test = pd.read_csv('./data/human_activity/test/X_test.txt', sep='\\s+', names=feature_name)\n",
    "    \n",
    "    # 학습 레이블과 테스트 레이블 데이터를 DataFrame으로 로딩하고 컬럼명은 action으로 부여\n",
    "    y_train = pd.read_csv('./data/human_activity/train/y_train.txt', sep='\\s+', header=None, names=['action'])\n",
    "    y_test = pd.read_csv('./data/human_activity/test/y_test.txt', sep='\\s+', header=None, names=['action'])\n",
    "    \n",
    "    # 로드된 학습/테스트용 DataFrame을 모두 반환\n",
    "    return X_train, X_test, y_train, y_test"
   ]
  },
  {
   "cell_type": "code",
   "execution_count": 2,
   "metadata": {},
   "outputs": [
    {
     "name": "stdout",
     "output_type": "stream",
     "text": [
      "GBM 정확도 : 0.9386\n",
      "GBM 수행 시간 : 174.7초\n"
     ]
    }
   ],
   "source": [
    "from sklearn.ensemble import GradientBoostingClassifier\n",
    "import time\n",
    "from sklearn.metrics import accuracy_score\n",
    "import warnings\n",
    "warnings.filterwarnings('ignore')\n",
    "\n",
    "X_train, X_test, y_train, y_test = get_human_dataset()\n",
    "\n",
    "# GBM 수행 시간 측정을 위함. 시작 시간 설정\n",
    "start_time = time.time()\n",
    "\n",
    "gb_clf = GradientBoostingClassifier(random_state=0)\n",
    "gb_clf.fit(X_train, y_train)\n",
    "gb_pred = gb_clf.predict(X_test)\n",
    "gb_accuracy = accuracy_score(y_test, gb_pred)\n",
    "\n",
    "print('GBM 정확도 : {0:.4f}'.format(gb_accuracy))\n",
    "print('GBM 수행 시간 : {0:.1f}초'.format(time.time() - start_time))"
   ]
  },
  {
   "cell_type": "markdown",
   "metadata": {},
   "source": [
    "$\\rightarrow$ 기본 하이퍼 파라미터 만으로 랜덤 포레스트보다 나은 예측 성능을 나타냄"
   ]
  },
  {
   "cell_type": "markdown",
   "metadata": {},
   "source": [
    "<br>"
   ]
  },
  {
   "cell_type": "markdown",
   "metadata": {},
   "source": [
    "### 1.3.4 GBM의 단점\n",
    "\n",
    "- 일반적으로 GBM이 랜덤 포레스트보다 예측 성능이 조금 뛰어난 경우가 많다.\n",
    "- 하지만 수행 시간이 오래 걸리고, 하이퍼 파라미터 튜닝 노력도 더 필요하다.\n",
    "- 특히 수행 시간 문제는 GBM이 극복해야 할 중요한 과제이다.\n",
    "- 사이킷런의 `GradientBoostingClassifier`는 약한 학습기의 **순차적**인 예측 오류 보정을 통해 학습을 수행  \n",
    "$\\rightarrow$ 멀티 CPU 코어 시스템을 사용하더라도 병렬 처리가 지원되지 않아 대용량 데이터 학습 시 매우 많은 시간이 필요  "
   ]
  },
  {
   "cell_type": "markdown",
   "metadata": {},
   "source": [
    "<br>"
   ]
  },
  {
   "cell_type": "markdown",
   "metadata": {},
   "source": [
    "# 2. GBM 하이퍼 파라미터 및 튜닝"
   ]
  },
  {
   "cell_type": "markdown",
   "metadata": {},
   "source": [
    "## 2.1 대표적인 GBM 하이퍼 파라미터\n",
    "\n",
    "1) 트리 기반 자체 파라미터(`n_estimators`, `max_depth`, `max_features`)  \n",
    "2) `loss`  \n",
    "3) `learning_rate`  \n",
    "4) `n_estimators`  \n",
    "5) `subsample`"
   ]
  },
  {
   "cell_type": "markdown",
   "metadata": {},
   "source": [
    "<br>"
   ]
  },
  {
   "cell_type": "markdown",
   "metadata": {},
   "source": [
    "### 2.1.1 `loss`\n",
    "\n",
    "- 경사 하강법에서 사용할 **비용 함수** 지정\n",
    "- 특별한 이유가 없으면 기본값인 `deviance`를 그대로 사용"
   ]
  },
  {
   "cell_type": "markdown",
   "metadata": {},
   "source": [
    "<br>"
   ]
  },
  {
   "cell_type": "markdown",
   "metadata": {},
   "source": [
    "### 2.1.2 `learning_rate`\n",
    "\n",
    "- GBM이 학습을 진행할 때마다 적용하는 학습률\n",
    "- Weak learner가 순차적으로 오류 값을 보정해 나가는 데 적용하는 계수\n",
    "- 0~1 사이의 값을 지정\n",
    "- 기본값 = 0.1  \n",
    "  \n",
    "  \n",
    "- **너무 작은 값을 적용한 경우**\n",
    "  - 업데이트 되는 값이 작아짐\n",
    "  - 최소 오류 값을 찾아 예측 성능이 높아질 가능성이 높음\n",
    "  - 그러나 많은 weak learner는 순차적인 반복이 필요  \n",
    "  $\\rightarrow$ 수행 시간이 오래 걸림  \n",
    "  - 모든 weak learner의 반복이 완료되도 최소 오류 값을 찾지 못할 수 있음  \n",
    "  \n",
    "  \n",
    "- **너무 큰 값을 적용한 경우**\n",
    "  - 최소 오류 값을 찾지 못하고 그냥 지나쳐 버려 예측 성능이 떨어질 가능성이 높음\n",
    "  - 빠른 수행이 가능  \n",
    "  \n",
    "  \n",
    "- 위와 같은 특성 때문에 `learning_rate`는 `n_estimators`와 **상호 보완적**으로 조합해 사용함  \n",
    "  \n",
    "  \n",
    "- `learning_rate`을 작게, `n_estimators`를 크게 한 경우\n",
    "  - 더 이상 성능이 좋아지지 않는 한계점까지는 예측 성능이 조금씩 좋아질 수 있음\n",
    "  - 하지만 수행 시간이 너무 오래 걸림\n",
    "  - 예측 성능 역시 현격히 좋아지지는 않음"
   ]
  },
  {
   "cell_type": "markdown",
   "metadata": {},
   "source": [
    "<br>"
   ]
  },
  {
   "cell_type": "markdown",
   "metadata": {},
   "source": [
    "### 2.1.3 `n_estimators`\n",
    "\n",
    "- weak learner의 개수\n",
    "- weak learner가 순차적으로 오류를 보정 $\\rightarrow$ 개수가 많을수록 예측 성능이 일정 수준까지는 좋아짐\n",
    "- 하지만 개수가 많을수록 수행 시간이 오래 걸림\n",
    "- 기본값 = 100"
   ]
  },
  {
   "cell_type": "markdown",
   "metadata": {},
   "source": [
    "<br>"
   ]
  },
  {
   "cell_type": "markdown",
   "metadata": {},
   "source": [
    "### 2.1.4 `subsample`\n",
    "\n",
    "- weak learner가 학습에 사용하는 데이터의 **샘플링 비율**\n",
    "- 기본값 = 1 (전체 학습 데이터를 기반으로 학습한다는 의미)\n",
    "- 0.5이면 학습 데이터의 50%를 샘플링으로 사용\n",
    "- 과적합이 염려되는 경우 `subsample`을 1보다 작은 값으로 설정"
   ]
  },
  {
   "cell_type": "markdown",
   "metadata": {},
   "source": [
    "<br>"
   ]
  },
  {
   "cell_type": "markdown",
   "metadata": {},
   "source": [
    "## 2.2 `GridSearchCV` 이용 하이퍼 파라미터 최적화"
   ]
  },
  {
   "cell_type": "code",
   "execution_count": null,
   "metadata": {},
   "outputs": [
    {
     "name": "stdout",
     "output_type": "stream",
     "text": [
      "Fitting 2 folds for each of 4 candidates, totalling 8 fits\n"
     ]
    },
    {
     "name": "stderr",
     "output_type": "stream",
     "text": [
      "[Parallel(n_jobs=1)]: Using backend SequentialBackend with 1 concurrent workers.\n",
      "[Parallel(n_jobs=1)]: Done   8 out of   8 | elapsed: 15.9min finished\n"
     ]
    }
   ],
   "source": [
    "from sklearn.model_selection import GridSearchCV\n",
    "\n",
    "params = {\n",
    "    'n_estimators': [100, 500],\n",
    "    'learning_rate': [0.05, 0.1]\n",
    "}\n",
    "\n",
    "grid_cv = GridSearchCV(gb_clf, param_grid=params, cv=2, verbose=1)\n",
    "grid_cv.fit(X_train, y_train)\n",
    "print('최적 하이퍼 파라미터 : \\n', grid_cv.best_params_)\n",
    "print('최고 예측 정확도 : {0:.4f}'.format(grid_cv.best_scores_))"
   ]
  },
  {
   "cell_type": "markdown",
   "metadata": {},
   "source": [
    "<br>"
   ]
  },
  {
   "cell_type": "markdown",
   "metadata": {},
   "source": [
    "최적 하이퍼 파라미터를 사용해 테스트 데이터 세트에 적용해 예측 정확도 확인"
   ]
  },
  {
   "cell_type": "code",
   "execution_count": null,
   "metadata": {},
   "outputs": [],
   "source": [
    "# GridSearchCV를 이용해 최적으로 학습된 estimator로 예측 수행\n",
    "gb_pred = grid_cv.best_estimator_.predict(X_test)\n",
    "gb_accuracy = accuracy_score(y_test, gb_pred)\n",
    "print('GBM 정확도 : {0:.4f}'.format(gb_accuracy))"
   ]
  },
  {
   "cell_type": "markdown",
   "metadata": {},
   "source": [
    "<br>"
   ]
  },
  {
   "cell_type": "markdown",
   "metadata": {},
   "source": [
    "GBM은 과적합에도 강한 뛰어난 예측 성능을 가진 알고리즘이다.  \n",
    "하지만 수행 시간이 오래 걸린다는 단점이 있다.  \n",
    "많은 알고리즘이 GBM을 기반으로 새롭게 만들어지고 있음  \n",
    "  \n",
    "  \n",
    "가장 각광 받고 있는 두 개의 그래디언트 부스팅 기반 ML 패키지\n",
    "- XGBoost\n",
    "- LightGBM"
   ]
  }
 ],
 "metadata": {
  "kernelspec": {
   "display_name": "Python 3",
   "language": "python",
   "name": "python3"
  },
  "language_info": {
   "codemirror_mode": {
    "name": "ipython",
    "version": 3
   },
   "file_extension": ".py",
   "mimetype": "text/x-python",
   "name": "python",
   "nbconvert_exporter": "python",
   "pygments_lexer": "ipython3",
   "version": "3.6.8"
  }
 },
 "nbformat": 4,
 "nbformat_minor": 2
}
