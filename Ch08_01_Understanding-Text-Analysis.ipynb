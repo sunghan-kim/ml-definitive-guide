{
 "cells": [
  {
   "cell_type": "markdown",
   "metadata": {},
   "source": [
    "# Chapter08. 텍스트 분석"
   ]
  },
  {
   "cell_type": "markdown",
   "metadata": {},
   "source": [
    "<br>"
   ]
  },
  {
   "cell_type": "markdown",
   "metadata": {},
   "source": [
    "**NLP이냐 텍스트 분석이냐?**\n",
    "\n",
    "- NLP(National Language Processing)\n",
    "  - 머신이 인간의 언어를 이해하고 해석하는 데 중점  \n",
    "  \n",
    "  \n",
    "- 텍스트 분석(Text Analytics, TA)\n",
    "  - 텍스트 마이닝(Text Mining)이라고도 불림\n",
    "  - 비정형 텍스트에서 의미 있는 정보를 추출하는 것에 중점  \n",
    "  \n",
    "  \n",
    "- NLP는 텍스트 분석을 향상하게 하는 기반 기술이라고 볼 수 있음\n",
    "- NLP와 텍스트 분석의 발전 근간에는 머신러닝이 존재  \n",
    "  \n",
    "  \n",
    "- 텍스트 분석은 머신러닝, 언어 이해, 통계 등을 활용해 모델을 수립, 정보 추출, 비즈니스 인텔리전스(Business Intelligence)나 예측 분석 등의 작업을 주로 수행  "
   ]
  },
  {
   "cell_type": "markdown",
   "metadata": {},
   "source": [
    "텍스트 분석은 다음과 같은 **기술 영역**에 집중  \n",
    "\n",
    "- **텍스트 분류 (Text Classification)**\n",
    "  - Text Categorization)\n",
    "  - 문서가 특정 분류 또는 카테고리에 속하는 것을 예측하는 기법을 통칭\n",
    "  - ex) 특정 신문기사 내용 카테고리 자동 분류\n",
    "  - ex) 스팸 메일 검출 프로그램\n",
    "  - 지도학습을 적용  \n",
    "    \n",
    "    \n",
    "- **감성 분석 (Sentiment Analysis)**\n",
    "  - 텍스트에서 나타나는 감정/판단/믿음/의견/기분 등의 **주관적인 요소**를 분석하는 기법\n",
    "  - ex) 소셜 미디어 감정 분석\n",
    "  - ex) 영화나 제품에 대한 긍정 또는 리뷰\n",
    "  - ex) 여론조사 의견 분석\n",
    "  - Text Analytics에서 가장 활발하게 사용되고 있는 분야\n",
    "  - 지도학습 + 비지도 학습 적용  \n",
    "    \n",
    "    \n",
    "- **텍스트 요약 (Summarization)**\n",
    "  - 텍스트 내에서 중요한 주제나 중심 사상을 추출하는 기법\n",
    "  - ex) 토픽 모델링 (Topic Modeling)  \n",
    "   \n",
    "    \n",
    "- **텍스트 군집화(Clustering)와 유사도 측정**\n",
    "  - 비슷한 유형의 문서에 대해 군집화를 수행하는 기법\n",
    "  - 텍스트 분류를 비지도 학습으로 수행하는 방법의 일환으로 사용\n",
    "  - 유사도 측정 역시 문서들간의 유사도를 측정해 비슷한 문서끼리 모을 수 있는 방법"
   ]
  },
  {
   "cell_type": "markdown",
   "metadata": {},
   "source": [
    "<br>"
   ]
  },
  {
   "cell_type": "markdown",
   "metadata": {},
   "source": [
    "# 01. 텍스트 분석 이해"
   ]
  },
  {
   "cell_type": "markdown",
   "metadata": {},
   "source": [
    "텍스트 분석 : 비정형 데이터인 텍스트를 분석하는 것\n",
    "\n",
    "머신러닝 알고리즘은 숫자형의 피처 기반 데이터만 입력받을 수 있음  \n",
    "\n",
    "텍스트를 머신러닝에 적용하기 위해 중요한 요소\n",
    "  - 비정형 텍스트 데이터를 어떻게 피처 형태로 추출할 것인가?\n",
    "  - 추출된 피처에 의미 있는 값을 부여하는 가?\n",
    "  \n",
    "피처 벡터화 (Feature Vectorization) or 피처 추출 (Feature Extraction)\n",
    "\n",
    "- 텍스트를 word(또는 word의 일부분) 기반의 다수의 피처로 추출\n",
    "- 이 피처에 단어 빈도수와 같은 숫자 값을 부여하면 텍스트는 단어의 조합인 **벡터값**으로 표현될 수 있음\n",
    "- 이렇게 텍스트를 변환하는 것을 피처 벡터화 또는 피처 추출이라고 한다.\n",
    "\n",
    "대표적인 텍스트를 피처 벡터화해서 변환하는 방법\n",
    "\n",
    "- BOW(Bag of Words)\n",
    "- Word2Vec\n",
    "\n",
    "텍스트를 벡터값을 가지는 피처로 변환하는 것은 머신러닝 모델을 적용하기 전에 수행해야 할 매우 중요한 요소이다."
   ]
  },
  {
   "cell_type": "markdown",
   "metadata": {},
   "source": [
    "<br>"
   ]
  },
  {
   "cell_type": "markdown",
   "metadata": {},
   "source": [
    "## 1.1 텍스트 분석 수행 프로세스\n",
    "\n",
    "### 1.1.1 텍스트 사전 준비작업 (텍스트 전처리)\n",
    "\n",
    "- **클렌징 작업**\n",
    "  - 클렌징\n",
    "  - 대/소문자 변경\n",
    "  - 특수문자 삭제 등  \n",
    "  \n",
    "  \n",
    "- **토큰화 작업**\n",
    "  - 단어(Word)의 토큰화  \n",
    "  \n",
    "  \n",
    "- **텍스트 정규화 작업**\n",
    "  - 의미 없는 단어(Stop word) 제거 작업\n",
    "  - 어근 추출(Stemming/Lemmatization)  \n",
    "  \n",
    "  \n",
    "### 1.1.2 피처 벡터화/추출\n",
    "\n",
    "- 사전 준비 작업으로 가공된 텍스트에서 피처를 추출\n",
    "- 여기에 벡터 값을 할당\n",
    "- 대표적인 방법\n",
    "  - BOW (Count 기반 벡터화, TF-IDF 기반 벡터화)\n",
    "  - Word2Vec  \n",
    "  \n",
    "  \n",
    "### 1.1.3 ML 모델 수립 및 학습/예측/평가\n",
    "\n",
    "- 피처 벡터화된 데이터 세트에 ML 모델을 적용해 학습/예측 및 평가를 수행"
   ]
  },
  {
   "cell_type": "markdown",
   "metadata": {},
   "source": [
    "이미지 : Text Analytics 수행 프로세스"
   ]
  },
  {
   "cell_type": "markdown",
   "metadata": {},
   "source": [
    "<br>"
   ]
  },
  {
   "cell_type": "markdown",
   "metadata": {},
   "source": [
    "## 1.2 파이썬 기반의 NLP, 텍스트 분석 패키지"
   ]
  },
  {
   "cell_type": "markdown",
   "metadata": {},
   "source": [
    "대표적인 파이썬 기반의 NLP와 텍스트 분석 패키지 소개\n",
    "\n",
    "- `NTLK`\n",
    "  - 방대한 데이터 세트와 서브 모듈, 다양한 데이터 세트를 지원해 오래전부터 대표적인 파이썬 NLP 패키지\n",
    "  - 수행 성능과 정확도, 신기술, 엔터프라이즈한 기능 지원 측면에서 부족한 부분이 있음\n",
    "  \n",
    "  \n",
    "- `Genism`, `SpaCy`\n",
    "  - `NTLK` 패키지의 부족한 부분을 보완하면서 실제 업무에서 자주 활용되는 패키지"
   ]
  },
  {
   "cell_type": "markdown",
   "metadata": {},
   "source": [
    "### 1.2.1 `NTLK`(National Language Toolkit for Python)\n",
    "\n",
    "- 파이썬의 가장 대표적인 NLP 패키지\n",
    "- 방대한 데이터 세트와 서브 모듈을 가지고 있음\n",
    "- NLP의 거의 모든 영역을 커버하고 있음\n",
    "- 많은 NLP 패키지가 `NLTK`의 영향을 받아 작성되고 있음\n",
    "- 수행 속도 측면에서 아쉬운 부분이 있음\n",
    "- 실제 대량의 데이터 기반에서는 제대로 활용되지 못하고 있음  "
   ]
  },
  {
   "cell_type": "markdown",
   "metadata": {},
   "source": [
    "### 1.2.2 `Gensim`\n",
    "\n",
    "- 토픽 모델링 분야에서 가장 두각을 나타내는 패키지\n",
    "- 오래전부터 토픽 모델링을 쉽게 구현할 수 있는 기술을 제공\n",
    "- Word2Vec 구현 등의 다양한 신기능도 제공"
   ]
  },
  {
   "cell_type": "markdown",
   "metadata": {},
   "source": [
    "### 1.2.3 `SpaCy`\n",
    "\n",
    "- 뛰어난 수행 성능으로 최근 가장 주목을 받는 NLP 패키지"
   ]
  },
  {
   "cell_type": "markdown",
   "metadata": {},
   "source": [
    "사이킷런은 머신러닝 위주의 라이브러리여서 NLP를 위한 다양한 라이브러리, 예를 들어 '어근 처리'와 같은 NLP 패키지에 특화된 라이브러리는 가지고 있지 않음.\n",
    "\n",
    "하지만 텍스트를 일정 수준으로 가공하고 머신러닝 알고리즘에 텍스트 데이터를 피처로 처리하기 위한 편리한 기능을 제공.\n",
    "\n",
    "더 다양한 텍스트 분석이 적용돼야 하는 경우, 보통은 `NLTK`/`Gensim`/`SpaCy`와 같은 NLP 전용 패키지와 함께 결합해 애플리케이션을 작성"
   ]
  }
 ],
 "metadata": {
  "kernelspec": {
   "display_name": "Python 3",
   "language": "python",
   "name": "python3"
  },
  "language_info": {
   "codemirror_mode": {
    "name": "ipython",
    "version": 3
   },
   "file_extension": ".py",
   "mimetype": "text/x-python",
   "name": "python",
   "nbconvert_exporter": "python",
   "pygments_lexer": "ipython3",
   "version": "3.6.9"
  }
 },
 "nbformat": 4,
 "nbformat_minor": 4
}
