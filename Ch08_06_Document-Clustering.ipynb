{
 "cells": [
  {
   "cell_type": "markdown",
   "metadata": {},
   "source": [
    "# 06. 문서 군집화 소개와 실습(Opinion Review 데이터 세트)"
   ]
  },
  {
   "cell_type": "markdown",
   "metadata": {},
   "source": [
    "p510(529)~"
   ]
  },
  {
   "cell_type": "markdown",
   "metadata": {},
   "source": [
    "<br>"
   ]
  },
  {
   "cell_type": "code",
   "execution_count": 1,
   "metadata": {},
   "outputs": [],
   "source": [
    "import warnings\n",
    "warnings.filterwarnings('ignore')"
   ]
  },
  {
   "cell_type": "markdown",
   "metadata": {},
   "source": [
    "<br>"
   ]
  },
  {
   "cell_type": "markdown",
   "metadata": {},
   "source": [
    "## 6.1 문서 군집화 개념"
   ]
  },
  {
   "cell_type": "markdown",
   "metadata": {},
   "source": [
    "### 6.1.1 문서 군집화 (Document Clustering)\n",
    "\n",
    "- 비슷한 텍스트 구성의 문서를 군집화(Clustering)하는 것\n",
    "- 동일한 군집에 속하는 문서를 같은 카테고리 소속으로 분류할 수 있음  \n",
    "$\\rightarrow$ 텍스트 분류 기반의 문서 분류와 유사\n",
    "- 하지만 텍스트 분류 기반의 문서 분류는 사전에 결정 카테고리 값을 가진 학습 데이터가 필요\n",
    "- 문서 군집화는 학습 데이터 세트가 필요없는 비지도학습 기반으로 동작"
   ]
  },
  {
   "cell_type": "markdown",
   "metadata": {},
   "source": [
    "<br>"
   ]
  },
  {
   "cell_type": "markdown",
   "metadata": {},
   "source": [
    "## 6.2 Opinion Review 데이터 세트를 이용한 문서 군집화 수행하기"
   ]
  },
  {
   "cell_type": "markdown",
   "metadata": {},
   "source": [
    "### 6.2.1 문서 군집화를 수행할 데이터 세트\n",
    "\n",
    "- UCI 머신러닝 리포지토리에 있는 Opinion Review 데이터 세트\n",
    "- 51개의 텍스트 파일로 구성\n",
    "- 각 파일은 다음과 같은 사이트에서 가져온 리뷰 문서\n",
    "  - Tripadvisor(호텔)\n",
    "  - Edmunds.com(자동차)\n",
    "  - Amazon.com(전자제품)\n",
    "- 각 문서는 약 100개 정도의 문자을 가지고 있음\n",
    "- [데이터셋 다운로드 링크](https://archive.ics.uci.edu/ml/datasets/Opinosis+Opinion+%26frasl%3B+Review)"
   ]
  },
  {
   "cell_type": "code",
   "execution_count": 2,
   "metadata": {},
   "outputs": [
    {
     "data": {
      "text/plain": [
       "['examples', 'OpinosisDataset1.1.pdf', 'scripts', 'summaries-gold', 'topics']"
      ]
     },
     "execution_count": 2,
     "metadata": {},
     "output_type": "execute_result"
    }
   ],
   "source": [
    "import os\n",
    "\n",
    "os.listdir(\"data/OpinosisDataset\")"
   ]
  },
  {
   "cell_type": "markdown",
   "metadata": {},
   "source": [
    "- topics 디렉토리 안에 51개의 파일로 구성되어 있음"
   ]
  },
  {
   "cell_type": "code",
   "execution_count": 3,
   "metadata": {},
   "outputs": [
    {
     "data": {
      "text/plain": [
       "['accuracy_garmin_nuvi_255W_gps.txt.data',\n",
       " 'bathroom_bestwestern_hotel_sfo.txt.data',\n",
       " 'battery-life_amazon_kindle.txt.data',\n",
       " 'battery-life_ipod_nano_8gb.txt.data',\n",
       " 'battery-life_netbook_1005ha.txt.data',\n",
       " 'buttons_amazon_kindle.txt.data',\n",
       " 'comfort_honda_accord_2008.txt.data',\n",
       " 'comfort_toyota_camry_2007.txt.data',\n",
       " 'directions_garmin_nuvi_255W_gps.txt.data',\n",
       " 'display_garmin_nuvi_255W_gps.txt.data',\n",
       " 'eyesight-issues_amazon_kindle.txt.data',\n",
       " 'features_windows7.txt.data',\n",
       " 'fonts_amazon_kindle.txt.data',\n",
       " 'food_holiday_inn_london.txt.data',\n",
       " 'food_swissotel_chicago.txt.data',\n",
       " 'free_bestwestern_hotel_sfo.txt.data',\n",
       " 'gas_mileage_toyota_camry_2007.txt.data',\n",
       " 'interior_honda_accord_2008.txt.data',\n",
       " 'interior_toyota_camry_2007.txt.data',\n",
       " 'keyboard_netbook_1005ha.txt.data',\n",
       " 'location_bestwestern_hotel_sfo.txt.data',\n",
       " 'location_holiday_inn_london.txt.data',\n",
       " 'mileage_honda_accord_2008.txt.data',\n",
       " 'navigation_amazon_kindle.txt.data',\n",
       " 'parking_bestwestern_hotel_sfo.txt.data',\n",
       " 'performance_honda_accord_2008.txt.data',\n",
       " 'performance_netbook_1005ha.txt.data',\n",
       " 'price_amazon_kindle.txt.data',\n",
       " 'price_holiday_inn_london.txt.data',\n",
       " 'quality_toyota_camry_2007.txt.data',\n",
       " 'rooms_bestwestern_hotel_sfo.txt.data',\n",
       " 'rooms_swissotel_chicago.txt.data',\n",
       " 'room_holiday_inn_london.txt.data',\n",
       " 'satellite_garmin_nuvi_255W_gps.txt.data',\n",
       " 'screen_garmin_nuvi_255W_gps.txt.data',\n",
       " 'screen_ipod_nano_8gb.txt.data',\n",
       " 'screen_netbook_1005ha.txt.data',\n",
       " 'seats_honda_accord_2008.txt.data',\n",
       " 'service_bestwestern_hotel_sfo.txt.data',\n",
       " 'service_holiday_inn_london.txt.data',\n",
       " 'service_swissotel_hotel_chicago.txt.data',\n",
       " 'size_asus_netbook_1005ha.txt.data',\n",
       " 'sound_ipod_nano_8gb.txt.data',\n",
       " 'speed_garmin_nuvi_255W_gps.txt.data',\n",
       " 'speed_windows7.txt.data',\n",
       " 'staff_bestwestern_hotel_sfo.txt.data',\n",
       " 'staff_swissotel_chicago.txt.data',\n",
       " 'transmission_toyota_camry_2007.txt.data',\n",
       " 'updates_garmin_nuvi_255W_gps.txt.data',\n",
       " 'video_ipod_nano_8gb.txt.data',\n",
       " 'voice_garmin_nuvi_255W_gps.txt.data']"
      ]
     },
     "execution_count": 3,
     "metadata": {},
     "output_type": "execute_result"
    }
   ],
   "source": [
    "os.listdir(\"data/OpinosisDataset/topics\")"
   ]
  },
  {
   "cell_type": "markdown",
   "metadata": {},
   "source": [
    "<br>"
   ]
  },
  {
   "cell_type": "markdown",
   "metadata": {},
   "source": [
    "### 6.2.2 `accuracy_garmin_nuvi_255W_gps.txt.data`\n",
    "\n",
    "- Amazon.com에서 Garmin nuvi라는 차량용 네비게이션 모델에 대한 리뷰를 담고 있음"
   ]
  },
  {
   "cell_type": "code",
   "execution_count": 4,
   "metadata": {},
   "outputs": [
    {
     "name": "stdout",
     "output_type": "stream",
     "text": [
      ", and is very, very accurate .\n",
      "\n",
      " but for the most part, we find that the Garmin software provides accurate directions, whereever we intend to go .\n",
      "\n",
      " This function is not accurate if you don't leave it in battery mode say, when you stop at the Cracker Barrell for lunch and to play one of those trangle games with the tees .\n",
      "\n",
      " It provides immediate alternatives if the route from the online map program was inaccurate or blocked by an obstacle .\n",
      "\n",
      " I've used other GPS units, as well as GPS built into cars   and to this day NOTHING beats the accuracy of a Garmin GPS .\n",
      "\n",
      " It got me from point A to point B with 100% accuracy everytime .\n",
      "\n",
      " It has yet to disappoint, getting me everywhere with 100% accuracy .\n",
      "\n",
      "0 out of 5 stars Honest, accurate review, , PLEASE READ !\n",
      "\n",
      " Aside from that, every destination I've thrown at has been 100% accurate .\n",
      "\n",
      "In closing, this is a fantastic GPS with some very nice features and is very accurate in directions .\n",
      "\n",
      "........... 생략\n"
     ]
    }
   ],
   "source": [
    "f = open(\"data/OpinosisDataset/topics/accuracy_garmin_nuvi_255W_gps.txt.data\", \"r\")\n",
    "lines = f.readlines()\n",
    "for idx, line in enumerate(lines):\n",
    "    if idx == 10:\n",
    "        print(\"........... 생략\")\n",
    "        break\n",
    "    print(line) \n",
    "f.close()"
   ]
  },
  {
   "cell_type": "markdown",
   "metadata": {},
   "source": [
    "<br>"
   ]
  },
  {
   "cell_type": "markdown",
   "metadata": {},
   "source": [
    "### 6.2.3 데이터프레임 생성\n",
    "\n",
    "- 이번 예제에서는 여러 개의 파일을 한 개의 DataFrame으로 로딩해 데이터를 처리함\n",
    "- DataFrame으로 로드하여 파일명별로 어떤 리뷰를 담고 있는 지 확인\n",
    "- 데이터를 로드할 절대 경로 디렉토리를 먼저 지정한 뒤, 이 위치에서 데이터를 로딩"
   ]
  },
  {
   "cell_type": "markdown",
   "metadata": {},
   "source": [
    "- 먼저 해당 디렉토리 내의 모든 파일에 대해 각각 for 반복문으로 반복하여 개별 파일명을 파일명 리스트에 추가\n",
    "- 개별 파일은 DataFrame으로 읽은 후 다시 문자열로 반한한 뒤 파일 내용 리스트에 추가\n",
    "- 이렇게 만들어진 파일명 리스트와 파일 내용 리스트를 이용해 새롭게 DataFrame 생성"
   ]
  },
  {
   "cell_type": "code",
   "execution_count": 16,
   "metadata": {},
   "outputs": [
    {
     "data": {
      "text/html": [
       "<div>\n",
       "<style scoped>\n",
       "    .dataframe tbody tr th:only-of-type {\n",
       "        vertical-align: middle;\n",
       "    }\n",
       "\n",
       "    .dataframe tbody tr th {\n",
       "        vertical-align: top;\n",
       "    }\n",
       "\n",
       "    .dataframe thead th {\n",
       "        text-align: right;\n",
       "    }\n",
       "</style>\n",
       "<table border=\"1\" class=\"dataframe\">\n",
       "  <thead>\n",
       "    <tr style=\"text-align: right;\">\n",
       "      <th></th>\n",
       "      <th>filename</th>\n",
       "      <th>opinion_text</th>\n",
       "    </tr>\n",
       "  </thead>\n",
       "  <tbody>\n",
       "    <tr>\n",
       "      <th>0</th>\n",
       "      <td>accuracy_garmin_nuvi_255W_gps</td>\n",
       "      <td>, and is very, very acc...</td>\n",
       "    </tr>\n",
       "    <tr>\n",
       "      <th>1</th>\n",
       "      <td>bathroom_bestwestern_hotel_sfo</td>\n",
       "      <td>The room was not overly big, but clean and...</td>\n",
       "    </tr>\n",
       "    <tr>\n",
       "      <th>2</th>\n",
       "      <td>battery-life_amazon_kindle</td>\n",
       "      <td>After I plugged it in to my USB hub on my ...</td>\n",
       "    </tr>\n",
       "    <tr>\n",
       "      <th>3</th>\n",
       "      <td>battery-life_ipod_nano_8gb</td>\n",
       "      <td>short battery life  I moved up from a...</td>\n",
       "    </tr>\n",
       "    <tr>\n",
       "      <th>4</th>\n",
       "      <td>battery-life_netbook_1005ha</td>\n",
       "      <td>6GHz 533FSB cpu, glossy display, 3, Cell 2...</td>\n",
       "    </tr>\n",
       "  </tbody>\n",
       "</table>\n",
       "</div>"
      ],
      "text/plain": [
       "                         filename  \\\n",
       "0   accuracy_garmin_nuvi_255W_gps   \n",
       "1  bathroom_bestwestern_hotel_sfo   \n",
       "2      battery-life_amazon_kindle   \n",
       "3      battery-life_ipod_nano_8gb   \n",
       "4     battery-life_netbook_1005ha   \n",
       "\n",
       "                                        opinion_text  \n",
       "0                         , and is very, very acc...  \n",
       "1      The room was not overly big, but clean and...  \n",
       "2      After I plugged it in to my USB hub on my ...  \n",
       "3           short battery life  I moved up from a...  \n",
       "4      6GHz 533FSB cpu, glossy display, 3, Cell 2...  "
      ]
     },
     "execution_count": 16,
     "metadata": {},
     "output_type": "execute_result"
    }
   ],
   "source": [
    "import pandas as pd\n",
    "import glob, os\n",
    "\n",
    "path = \"E:/shkim/pythonRepository/ml-definitive-guide/data/OpinosisDataset/topics\"\n",
    "\n",
    "# path로 지정한 디렉토리 밑에 있는 모든 .data 파일의 파일명을 리스트로 취합\n",
    "all_files = glob.glob(os.path.join(path, \"*.data\"))\n",
    "filename_list = []\n",
    "opinion_text = []\n",
    "\n",
    "# 개별 파일의 파일명은 filename_list로 취합\n",
    "# 개별 파일의 내용은 DataFrame 로딩 후 다시 string으로 변환해 opinion_text list로 취합\n",
    "for file_ in all_files:\n",
    "    # 개별 파일을 읽어서 DataFrame으로 생성\n",
    "    df = pd.read_table(file_, index_col=None, header=0, encoding='latin1')\n",
    "    \n",
    "    # 절대 경로로 주어진 파일명을 가공\n",
    "    # 맨 마지막 .data 확장자도 제거\n",
    "    filename_ = file_.split(\"\\\\\")[-1]\n",
    "    filename = filename_.split(\".\")[0]\n",
    "    \n",
    "    # 파일명 list와 파일 내용 list에 파일명과 파일 내용 추가\n",
    "    filename_list.append(filename)\n",
    "    opinion_text.append(df.to_string())\n",
    "    \n",
    "# 파일명 list와 파일 내용 list 객체를 DataFrame으로 생성\n",
    "document_df = pd.DataFrame({'filename': filename_list, 'opinion_text': opinion_text})\n",
    "document_df.head()"
   ]
  },
  {
   "cell_type": "code",
   "execution_count": null,
   "metadata": {},
   "outputs": [],
   "source": []
  }
 ],
 "metadata": {
  "kernelspec": {
   "display_name": "Python 3",
   "language": "python",
   "name": "python3"
  },
  "language_info": {
   "codemirror_mode": {
    "name": "ipython",
    "version": 3
   },
   "file_extension": ".py",
   "mimetype": "text/x-python",
   "name": "python",
   "nbconvert_exporter": "python",
   "pygments_lexer": "ipython3",
   "version": "3.6.9"
  }
 },
 "nbformat": 4,
 "nbformat_minor": 4
}
