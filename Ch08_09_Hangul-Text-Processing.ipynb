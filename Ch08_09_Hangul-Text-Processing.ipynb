{
 "cells": [
  {
   "cell_type": "markdown",
   "metadata": {},
   "source": [
    "# 09. 한글 텍스트 처리 - 네이버 영화 평점 감성 분석\n",
    "\n",
    "p530(549)"
   ]
  },
  {
   "cell_type": "markdown",
   "metadata": {},
   "source": [
    "<br>"
   ]
  },
  {
   "cell_type": "markdown",
   "metadata": {},
   "source": [
    "## 9.1 한글 NLP 처리의 어려움\n",
    "\n",
    "- 일반적으로 한글 언어 처리는 영어 등의 라틴어 처리보다 어려움\n",
    "- 그 주된 원인은 **띄어쓰기**와 **다양한 조사** 때문이다."
   ]
  },
  {
   "cell_type": "markdown",
   "metadata": {},
   "source": [
    "### 9.1.1 띄어쓰기\n",
    "\n",
    "- 띄어쓰기를 잘못했을 때의 의미 왜곡\n",
    "  - '아버지가 방에 들어가신다.' vs '아버지 가방에 들어가신다'\n",
    "- 영어는 띄어쓰기를 잘못하면 의미가 왜곡되는 게 아니라 잘못된 또는 없는 단어로 인식된다."
   ]
  },
  {
   "cell_type": "markdown",
   "metadata": {},
   "source": [
    "<br>"
   ]
  },
  {
   "cell_type": "markdown",
   "metadata": {},
   "source": [
    "### 9.1.2 조사\n",
    "\n",
    "- 조사는 주어나 목적어를 위해 추가됨\n",
    "- 워낙 경우의 수가 많기 때문에 어근 추출(Stemming/Lemmatization) 등의 전처리 시 제거하기가 까다롭다.\n",
    "- "
   ]
  }
 ],
 "metadata": {
  "kernelspec": {
   "display_name": "Python 3",
   "language": "python",
   "name": "python3"
  },
  "language_info": {
   "codemirror_mode": {
    "name": "ipython",
    "version": 3
   },
   "file_extension": ".py",
   "mimetype": "text/x-python",
   "name": "python",
   "nbconvert_exporter": "python",
   "pygments_lexer": "ipython3",
   "version": "3.6.9"
  }
 },
 "nbformat": 4,
 "nbformat_minor": 4
}
