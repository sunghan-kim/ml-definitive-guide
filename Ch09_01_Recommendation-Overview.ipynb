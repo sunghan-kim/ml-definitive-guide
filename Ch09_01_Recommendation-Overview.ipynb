{
 "cells": [
  {
   "cell_type": "markdown",
   "metadata": {},
   "source": [
    "# Chatper 9. 추천 시스템"
   ]
  },
  {
   "cell_type": "markdown",
   "metadata": {},
   "source": [
    "# 01. 추천 시스템의 개요와 배경\n",
    "\n",
    "p556(575)~"
   ]
  },
  {
   "cell_type": "markdown",
   "metadata": {},
   "source": [
    "<br>"
   ]
  },
  {
   "cell_type": "markdown",
   "metadata": {},
   "source": [
    "## 1.1 추천 시스템의 개요\n",
    "\n",
    "생략"
   ]
  },
  {
   "cell_type": "markdown",
   "metadata": {},
   "source": [
    "<br>"
   ]
  },
  {
   "cell_type": "markdown",
   "metadata": {},
   "source": [
    "## 1.2 온라인 스토어의 필수 요소, 추천 시스템\n",
    "\n",
    "온라인 스토어는 많은 양의 고객과 상품 관련 데이터를 가지고 있다. 이 모든 데이터가 사용자가 흥미를 가질 만한 상품을 즉각적으로 추천하는 데 사용된다.\n",
    "\n",
    "예를 들어 다음과 같은 데이터가 추천 시스템을 구성하는 데 사용될 수 있다.\n",
    "\n",
    "- 사용자가 어떤 상품을 구매했는가?\n",
    "- 사용자가 어떤 상품을 둘러보거나 장바구니에 넣었는가?\n",
    "- 사용자가 평가한 영화 평점은? 제품 평가는?\n",
    "- 사용자가 스스로 작성한 자신의 취향은?\n",
    "- 사용자가 무엇을 클릭했는가?\n",
    "\n",
    "이러한 데이터를 기반으로 추천 시스템은 \"당신만을 위한 최신 상품\", \"이 상품을 선택한 다른 사람들이 좋아하는 상품들\", \"이 상품을 좋아하나요? 아래 있는 다른 상품은 어떤가요? 와 같은 문구로 사용자가 상품을 구매하도록 유혹한다."
   ]
  },
  {
   "cell_type": "markdown",
   "metadata": {},
   "source": [
    "<br>"
   ]
  },
  {
   "cell_type": "markdown",
   "metadata": {},
   "source": [
    "## 1.3 추천 시스템의 유형\n",
    "\n",
    "1. 콘텐츠 기반 필터링(Content based filtering) 방식\n",
    "2. 협업 필터링(Collaborative Filtering) 방식  \n",
    "  2.1 최근접 이웃(Nearest Neighbor) 협업 필터링  \n",
    "  2.2 잠재 요인(Latent Factor) 협업 필터링"
   ]
  },
  {
   "cell_type": "markdown",
   "metadata": {},
   "source": [
    "- 추천 시스템의 초창기에는 콘텐츠 기반 필터링이나 최근접 이웃 기반 협업 필터링이 주로 사용됨\n",
    "- 넷플릭스 추천 시스템 경연 대회에서 **행렬 분해(Matrix Factorization)** 기법을 이용한 **잠재요인 협업 필터링 방식**이 우승하면서 대부분의 온라인 스토어에서 잠재 요인 협업 필터링 기반의 추천 시스템을 적용"
   ]
  },
  {
   "cell_type": "markdown",
   "metadata": {},
   "source": [
    "- 하지만 서비스하는 아이템의 특성에 따라 콘텐츠 기반 필터링이나 최근접 이웃 기반 협업 필터링 방식을 유지하는 사이트도 많음  \n",
    "(특히 아마존의 경우는 아직도 아이템 기반의 최근접 이웃 협업 필터링 방식을 추천 엔진으로 사용)"
   ]
  },
  {
   "cell_type": "markdown",
   "metadata": {},
   "source": [
    "- 요즘에는 개인화 특성을 좀 더 강화하기 위해서 하이브리드 형식으로 콘텐츠 기반과 협업 기반을 적절히 결합해 사용하는 경우도 늘고 있음"
   ]
  }
 ],
 "metadata": {
  "kernelspec": {
   "display_name": "Python 3",
   "language": "python",
   "name": "python3"
  },
  "language_info": {
   "codemirror_mode": {
    "name": "ipython",
    "version": 3
   },
   "file_extension": ".py",
   "mimetype": "text/x-python",
   "name": "python",
   "nbconvert_exporter": "python",
   "pygments_lexer": "ipython3",
   "version": "3.6.9"
  }
 },
 "nbformat": 4,
 "nbformat_minor": 4
}
